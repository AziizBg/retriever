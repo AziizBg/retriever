{
  "cells": [
    {
      "cell_type": "code",
      "source": [
        "!git clone https://github.com/AziizBg/retriever"
      ],
      "metadata": {
        "colab": {
          "base_uri": "https://localhost:8080/"
        },
        "id": "q7GkLsWfmA_T",
        "outputId": "dccb7f5e-8e20-483b-a9ab-6c741545b8b5"
      },
      "id": "q7GkLsWfmA_T",
      "execution_count": 1,
      "outputs": [
        {
          "output_type": "stream",
          "name": "stdout",
          "text": [
            "Cloning into 'retriever'...\n",
            "remote: Enumerating objects: 236, done.\u001b[K\n",
            "remote: Counting objects: 100% (236/236), done.\u001b[K\n",
            "remote: Compressing objects: 100% (196/196), done.\u001b[K\n",
            "remote: Total 236 (delta 63), reused 197 (delta 39), pack-reused 0 (from 0)\u001b[K\n",
            "Receiving objects: 100% (236/236), 8.20 MiB | 9.85 MiB/s, done.\n",
            "Resolving deltas: 100% (63/63), done.\n"
          ]
        }
      ]
    },
    {
      "cell_type": "code",
      "source": [
        "%cd retriever"
      ],
      "metadata": {
        "colab": {
          "base_uri": "https://localhost:8080/"
        },
        "id": "zBt9lw5jmLm6",
        "outputId": "9270096b-b0eb-4217-e6f8-3d9eb153ae4c"
      },
      "id": "zBt9lw5jmLm6",
      "execution_count": 2,
      "outputs": [
        {
          "output_type": "stream",
          "name": "stdout",
          "text": [
            "/content/retriever\n"
          ]
        }
      ]
    },
    {
      "cell_type": "code",
      "execution_count": 6,
      "id": "da89211a-d258-440e-b6a3-0c16234e99b2",
      "metadata": {
        "collapsed": true,
        "colab": {
          "base_uri": "https://localhost:8080/"
        },
        "id": "da89211a-d258-440e-b6a3-0c16234e99b2",
        "outputId": "e554e7bb-faa9-4fed-e6da-857b4aa016a3"
      },
      "outputs": [
        {
          "output_type": "stream",
          "name": "stdout",
          "text": [
            "Looking in links: https://data.pyg.org/whl/torch-2.1.0+cpu.html\n",
            "Requirement already satisfied: torch==2.1.0 in /usr/local/lib/python3.11/dist-packages (from -r requirements.txt (line 1)) (2.1.0)\n",
            "Requirement already satisfied: torchvision==0.16.0 in /usr/local/lib/python3.11/dist-packages (from -r requirements.txt (line 2)) (0.16.0)\n",
            "Requirement already satisfied: torchaudio==2.1.0 in /usr/local/lib/python3.11/dist-packages (from -r requirements.txt (line 3)) (2.1.0)\n",
            "Requirement already satisfied: torch-scatter in /usr/local/lib/python3.11/dist-packages (from -r requirements.txt (line 6)) (2.1.2+pt21cpu)\n",
            "Requirement already satisfied: torch-sparse in /usr/local/lib/python3.11/dist-packages (from -r requirements.txt (line 7)) (0.6.18+pt21cpu)\n",
            "Requirement already satisfied: torch-cluster in /usr/local/lib/python3.11/dist-packages (from -r requirements.txt (line 8)) (1.6.3+pt21cpu)\n",
            "Requirement already satisfied: torch-spline-conv in /usr/local/lib/python3.11/dist-packages (from -r requirements.txt (line 9)) (1.2.2+pt21cpu)\n",
            "Requirement already satisfied: torch-geometric in /usr/local/lib/python3.11/dist-packages (from -r requirements.txt (line 11)) (2.6.1)\n",
            "Requirement already satisfied: transformers==4.39.3 in /usr/local/lib/python3.11/dist-packages (from -r requirements.txt (line 13)) (4.39.3)\n",
            "Requirement already satisfied: peft==0.10.0 in /usr/local/lib/python3.11/dist-packages (from -r requirements.txt (line 14)) (0.10.0)\n",
            "Requirement already satisfied: pandas in /usr/local/lib/python3.11/dist-packages (from -r requirements.txt (line 15)) (2.2.2)\n",
            "Requirement already satisfied: ogb in /usr/local/lib/python3.11/dist-packages (from -r requirements.txt (line 16)) (1.3.6)\n",
            "Requirement already satisfied: wandb in /usr/local/lib/python3.11/dist-packages (from -r requirements.txt (line 17)) (0.19.11)\n",
            "Requirement already satisfied: sentencepiece in /usr/local/lib/python3.11/dist-packages (from -r requirements.txt (line 18)) (0.2.0)\n",
            "Requirement already satisfied: datasets in /usr/local/lib/python3.11/dist-packages (from -r requirements.txt (line 19)) (2.14.4)\n",
            "Requirement already satisfied: pcst_fast in /usr/local/lib/python3.11/dist-packages (from -r requirements.txt (line 20)) (1.0.10)\n",
            "Requirement already satisfied: gensim in /usr/local/lib/python3.11/dist-packages (from -r requirements.txt (line 21)) (4.3.3)\n",
            "Requirement already satisfied: scipy==1.12 in /usr/local/lib/python3.11/dist-packages (from -r requirements.txt (line 22)) (1.12.0)\n",
            "Requirement already satisfied: protobuf in /usr/local/lib/python3.11/dist-packages (from -r requirements.txt (line 23)) (5.29.4)\n",
            "Requirement already satisfied: pymilvus in /usr/local/lib/python3.11/dist-packages (from -r requirements.txt (line 24)) (2.5.10)\n",
            "Requirement already satisfied: filelock in /usr/local/lib/python3.11/dist-packages (from torch==2.1.0->-r requirements.txt (line 1)) (3.18.0)\n",
            "Requirement already satisfied: typing-extensions in /usr/local/lib/python3.11/dist-packages (from torch==2.1.0->-r requirements.txt (line 1)) (4.13.2)\n",
            "Requirement already satisfied: sympy in /usr/local/lib/python3.11/dist-packages (from torch==2.1.0->-r requirements.txt (line 1)) (1.13.1)\n",
            "Requirement already satisfied: networkx in /usr/local/lib/python3.11/dist-packages (from torch==2.1.0->-r requirements.txt (line 1)) (3.4.2)\n",
            "Requirement already satisfied: jinja2 in /usr/local/lib/python3.11/dist-packages (from torch==2.1.0->-r requirements.txt (line 1)) (3.1.6)\n",
            "Requirement already satisfied: fsspec in /usr/local/lib/python3.11/dist-packages (from torch==2.1.0->-r requirements.txt (line 1)) (2025.3.2)\n",
            "Requirement already satisfied: nvidia-cuda-nvrtc-cu12==12.1.105 in /usr/local/lib/python3.11/dist-packages (from torch==2.1.0->-r requirements.txt (line 1)) (12.1.105)\n",
            "Requirement already satisfied: nvidia-cuda-runtime-cu12==12.1.105 in /usr/local/lib/python3.11/dist-packages (from torch==2.1.0->-r requirements.txt (line 1)) (12.1.105)\n",
            "Requirement already satisfied: nvidia-cuda-cupti-cu12==12.1.105 in /usr/local/lib/python3.11/dist-packages (from torch==2.1.0->-r requirements.txt (line 1)) (12.1.105)\n",
            "Requirement already satisfied: nvidia-cudnn-cu12==8.9.2.26 in /usr/local/lib/python3.11/dist-packages (from torch==2.1.0->-r requirements.txt (line 1)) (8.9.2.26)\n",
            "Requirement already satisfied: nvidia-cublas-cu12==12.1.3.1 in /usr/local/lib/python3.11/dist-packages (from torch==2.1.0->-r requirements.txt (line 1)) (12.1.3.1)\n",
            "Requirement already satisfied: nvidia-cufft-cu12==11.0.2.54 in /usr/local/lib/python3.11/dist-packages (from torch==2.1.0->-r requirements.txt (line 1)) (11.0.2.54)\n",
            "Requirement already satisfied: nvidia-curand-cu12==10.3.2.106 in /usr/local/lib/python3.11/dist-packages (from torch==2.1.0->-r requirements.txt (line 1)) (10.3.2.106)\n",
            "Requirement already satisfied: nvidia-cusolver-cu12==11.4.5.107 in /usr/local/lib/python3.11/dist-packages (from torch==2.1.0->-r requirements.txt (line 1)) (11.4.5.107)\n",
            "Requirement already satisfied: nvidia-cusparse-cu12==12.1.0.106 in /usr/local/lib/python3.11/dist-packages (from torch==2.1.0->-r requirements.txt (line 1)) (12.1.0.106)\n",
            "Requirement already satisfied: nvidia-nccl-cu12==2.18.1 in /usr/local/lib/python3.11/dist-packages (from torch==2.1.0->-r requirements.txt (line 1)) (2.18.1)\n",
            "Requirement already satisfied: nvidia-nvtx-cu12==12.1.105 in /usr/local/lib/python3.11/dist-packages (from torch==2.1.0->-r requirements.txt (line 1)) (12.1.105)\n",
            "Requirement already satisfied: triton==2.1.0 in /usr/local/lib/python3.11/dist-packages (from torch==2.1.0->-r requirements.txt (line 1)) (2.1.0)\n",
            "Requirement already satisfied: numpy in /usr/local/lib/python3.11/dist-packages (from torchvision==0.16.0->-r requirements.txt (line 2)) (1.26.4)\n",
            "Requirement already satisfied: requests in /usr/local/lib/python3.11/dist-packages (from torchvision==0.16.0->-r requirements.txt (line 2)) (2.32.3)\n",
            "Requirement already satisfied: pillow!=8.3.*,>=5.3.0 in /usr/local/lib/python3.11/dist-packages (from torchvision==0.16.0->-r requirements.txt (line 2)) (11.2.1)\n",
            "Requirement already satisfied: huggingface-hub<1.0,>=0.19.3 in /usr/local/lib/python3.11/dist-packages (from transformers==4.39.3->-r requirements.txt (line 13)) (0.31.4)\n",
            "Requirement already satisfied: packaging>=20.0 in /usr/local/lib/python3.11/dist-packages (from transformers==4.39.3->-r requirements.txt (line 13)) (24.2)\n",
            "Requirement already satisfied: pyyaml>=5.1 in /usr/local/lib/python3.11/dist-packages (from transformers==4.39.3->-r requirements.txt (line 13)) (6.0.2)\n",
            "Requirement already satisfied: regex!=2019.12.17 in /usr/local/lib/python3.11/dist-packages (from transformers==4.39.3->-r requirements.txt (line 13)) (2024.11.6)\n",
            "Requirement already satisfied: tokenizers<0.19,>=0.14 in /usr/local/lib/python3.11/dist-packages (from transformers==4.39.3->-r requirements.txt (line 13)) (0.15.2)\n",
            "Requirement already satisfied: safetensors>=0.4.1 in /usr/local/lib/python3.11/dist-packages (from transformers==4.39.3->-r requirements.txt (line 13)) (0.5.3)\n",
            "Requirement already satisfied: tqdm>=4.27 in /usr/local/lib/python3.11/dist-packages (from transformers==4.39.3->-r requirements.txt (line 13)) (4.67.1)\n",
            "Requirement already satisfied: psutil in /usr/local/lib/python3.11/dist-packages (from peft==0.10.0->-r requirements.txt (line 14)) (5.9.5)\n",
            "Requirement already satisfied: accelerate>=0.21.0 in /usr/local/lib/python3.11/dist-packages (from peft==0.10.0->-r requirements.txt (line 14)) (1.7.0)\n",
            "Requirement already satisfied: nvidia-nvjitlink-cu12 in /usr/local/lib/python3.11/dist-packages (from nvidia-cusolver-cu12==11.4.5.107->torch==2.1.0->-r requirements.txt (line 1)) (12.5.82)\n",
            "Requirement already satisfied: aiohttp in /usr/local/lib/python3.11/dist-packages (from torch-geometric->-r requirements.txt (line 11)) (3.11.15)\n",
            "Requirement already satisfied: pyparsing in /usr/local/lib/python3.11/dist-packages (from torch-geometric->-r requirements.txt (line 11)) (3.2.3)\n",
            "Requirement already satisfied: python-dateutil>=2.8.2 in /usr/local/lib/python3.11/dist-packages (from pandas->-r requirements.txt (line 15)) (2.9.0.post0)\n",
            "Requirement already satisfied: pytz>=2020.1 in /usr/local/lib/python3.11/dist-packages (from pandas->-r requirements.txt (line 15)) (2025.2)\n",
            "Requirement already satisfied: tzdata>=2022.7 in /usr/local/lib/python3.11/dist-packages (from pandas->-r requirements.txt (line 15)) (2025.2)\n",
            "Requirement already satisfied: scikit-learn>=0.20.0 in /usr/local/lib/python3.11/dist-packages (from ogb->-r requirements.txt (line 16)) (1.6.1)\n",
            "Requirement already satisfied: six>=1.12.0 in /usr/local/lib/python3.11/dist-packages (from ogb->-r requirements.txt (line 16)) (1.17.0)\n",
            "Requirement already satisfied: urllib3>=1.24.0 in /usr/local/lib/python3.11/dist-packages (from ogb->-r requirements.txt (line 16)) (2.4.0)\n",
            "Requirement already satisfied: outdated>=0.2.0 in /usr/local/lib/python3.11/dist-packages (from ogb->-r requirements.txt (line 16)) (0.2.2)\n",
            "Requirement already satisfied: click!=8.0.0,>=7.1 in /usr/local/lib/python3.11/dist-packages (from wandb->-r requirements.txt (line 17)) (8.2.1)\n",
            "Requirement already satisfied: docker-pycreds>=0.4.0 in /usr/local/lib/python3.11/dist-packages (from wandb->-r requirements.txt (line 17)) (0.4.0)\n",
            "Requirement already satisfied: gitpython!=3.1.29,>=1.0.0 in /usr/local/lib/python3.11/dist-packages (from wandb->-r requirements.txt (line 17)) (3.1.44)\n",
            "Requirement already satisfied: platformdirs in /usr/local/lib/python3.11/dist-packages (from wandb->-r requirements.txt (line 17)) (4.3.8)\n",
            "Requirement already satisfied: pydantic<3 in /usr/local/lib/python3.11/dist-packages (from wandb->-r requirements.txt (line 17)) (2.11.4)\n",
            "Requirement already satisfied: sentry-sdk>=2.0.0 in /usr/local/lib/python3.11/dist-packages (from wandb->-r requirements.txt (line 17)) (2.29.1)\n",
            "Requirement already satisfied: setproctitle in /usr/local/lib/python3.11/dist-packages (from wandb->-r requirements.txt (line 17)) (1.3.6)\n",
            "Requirement already satisfied: setuptools in /usr/local/lib/python3.11/dist-packages (from wandb->-r requirements.txt (line 17)) (75.2.0)\n",
            "Requirement already satisfied: pyarrow>=8.0.0 in /usr/local/lib/python3.11/dist-packages (from datasets->-r requirements.txt (line 19)) (18.1.0)\n",
            "Requirement already satisfied: dill<0.3.8,>=0.3.0 in /usr/local/lib/python3.11/dist-packages (from datasets->-r requirements.txt (line 19)) (0.3.7)\n",
            "Requirement already satisfied: xxhash in /usr/local/lib/python3.11/dist-packages (from datasets->-r requirements.txt (line 19)) (3.5.0)\n",
            "Requirement already satisfied: multiprocess in /usr/local/lib/python3.11/dist-packages (from datasets->-r requirements.txt (line 19)) (0.70.15)\n",
            "Requirement already satisfied: pybind11>=2.1.0 in /usr/local/lib/python3.11/dist-packages (from pcst_fast->-r requirements.txt (line 20)) (2.13.6)\n",
            "Requirement already satisfied: smart-open>=1.8.1 in /usr/local/lib/python3.11/dist-packages (from gensim->-r requirements.txt (line 21)) (7.1.0)\n",
            "Requirement already satisfied: grpcio<=1.67.1,>=1.49.1 in /usr/local/lib/python3.11/dist-packages (from pymilvus->-r requirements.txt (line 24)) (1.67.1)\n",
            "Requirement already satisfied: python-dotenv<2.0.0,>=1.0.1 in /usr/local/lib/python3.11/dist-packages (from pymilvus->-r requirements.txt (line 24)) (1.1.0)\n",
            "Requirement already satisfied: ujson>=2.0.0 in /usr/local/lib/python3.11/dist-packages (from pymilvus->-r requirements.txt (line 24)) (5.10.0)\n",
            "Requirement already satisfied: milvus-lite>=2.4.0 in /usr/local/lib/python3.11/dist-packages (from pymilvus->-r requirements.txt (line 24)) (2.4.12)\n",
            "Requirement already satisfied: aiohappyeyeballs>=2.3.0 in /usr/local/lib/python3.11/dist-packages (from aiohttp->torch-geometric->-r requirements.txt (line 11)) (2.6.1)\n",
            "Requirement already satisfied: aiosignal>=1.1.2 in /usr/local/lib/python3.11/dist-packages (from aiohttp->torch-geometric->-r requirements.txt (line 11)) (1.3.2)\n",
            "Requirement already satisfied: attrs>=17.3.0 in /usr/local/lib/python3.11/dist-packages (from aiohttp->torch-geometric->-r requirements.txt (line 11)) (25.3.0)\n",
            "Requirement already satisfied: frozenlist>=1.1.1 in /usr/local/lib/python3.11/dist-packages (from aiohttp->torch-geometric->-r requirements.txt (line 11)) (1.6.0)\n",
            "Requirement already satisfied: multidict<7.0,>=4.5 in /usr/local/lib/python3.11/dist-packages (from aiohttp->torch-geometric->-r requirements.txt (line 11)) (6.4.4)\n",
            "Requirement already satisfied: propcache>=0.2.0 in /usr/local/lib/python3.11/dist-packages (from aiohttp->torch-geometric->-r requirements.txt (line 11)) (0.3.1)\n",
            "Requirement already satisfied: yarl<2.0,>=1.17.0 in /usr/local/lib/python3.11/dist-packages (from aiohttp->torch-geometric->-r requirements.txt (line 11)) (1.20.0)\n",
            "Requirement already satisfied: gitdb<5,>=4.0.1 in /usr/local/lib/python3.11/dist-packages (from gitpython!=3.1.29,>=1.0.0->wandb->-r requirements.txt (line 17)) (4.0.12)\n",
            "Requirement already satisfied: littleutils in /usr/local/lib/python3.11/dist-packages (from outdated>=0.2.0->ogb->-r requirements.txt (line 16)) (0.2.4)\n",
            "Requirement already satisfied: annotated-types>=0.6.0 in /usr/local/lib/python3.11/dist-packages (from pydantic<3->wandb->-r requirements.txt (line 17)) (0.7.0)\n",
            "Requirement already satisfied: pydantic-core==2.33.2 in /usr/local/lib/python3.11/dist-packages (from pydantic<3->wandb->-r requirements.txt (line 17)) (2.33.2)\n",
            "Requirement already satisfied: typing-inspection>=0.4.0 in /usr/local/lib/python3.11/dist-packages (from pydantic<3->wandb->-r requirements.txt (line 17)) (0.4.1)\n",
            "Requirement already satisfied: charset-normalizer<4,>=2 in /usr/local/lib/python3.11/dist-packages (from requests->torchvision==0.16.0->-r requirements.txt (line 2)) (3.4.2)\n",
            "Requirement already satisfied: idna<4,>=2.5 in /usr/local/lib/python3.11/dist-packages (from requests->torchvision==0.16.0->-r requirements.txt (line 2)) (3.10)\n",
            "Requirement already satisfied: certifi>=2017.4.17 in /usr/local/lib/python3.11/dist-packages (from requests->torchvision==0.16.0->-r requirements.txt (line 2)) (2025.4.26)\n",
            "Requirement already satisfied: joblib>=1.2.0 in /usr/local/lib/python3.11/dist-packages (from scikit-learn>=0.20.0->ogb->-r requirements.txt (line 16)) (1.5.0)\n",
            "Requirement already satisfied: threadpoolctl>=3.1.0 in /usr/local/lib/python3.11/dist-packages (from scikit-learn>=0.20.0->ogb->-r requirements.txt (line 16)) (3.6.0)\n",
            "Requirement already satisfied: wrapt in /usr/local/lib/python3.11/dist-packages (from smart-open>=1.8.1->gensim->-r requirements.txt (line 21)) (1.17.2)\n",
            "Requirement already satisfied: MarkupSafe>=2.0 in /usr/local/lib/python3.11/dist-packages (from jinja2->torch==2.1.0->-r requirements.txt (line 1)) (3.0.2)\n",
            "Requirement already satisfied: mpmath<1.4,>=1.1.0 in /usr/local/lib/python3.11/dist-packages (from sympy->torch==2.1.0->-r requirements.txt (line 1)) (1.3.0)\n",
            "Requirement already satisfied: smmap<6,>=3.0.1 in /usr/local/lib/python3.11/dist-packages (from gitdb<5,>=4.0.1->gitpython!=3.1.29,>=1.0.0->wandb->-r requirements.txt (line 17)) (5.0.2)\n"
          ]
        }
      ],
      "source": [
        "!pip install -r requirements.txt"
      ]
    },
    {
      "cell_type": "code",
      "source": [
        "!git checkout synthetic_data"
      ],
      "metadata": {
        "id": "wT5VlY9q4Uq2",
        "outputId": "fa1838b7-1c24-4e26-b5af-8a8e9439eb3a",
        "colab": {
          "base_uri": "https://localhost:8080/"
        }
      },
      "id": "wT5VlY9q4Uq2",
      "execution_count": 5,
      "outputs": [
        {
          "output_type": "stream",
          "name": "stdout",
          "text": [
            "Branch 'synthetic_data' set up to track remote branch 'synthetic_data' from 'origin'.\n",
            "Switched to a new branch 'synthetic_data'\n"
          ]
        }
      ]
    },
    {
      "cell_type": "code",
      "execution_count": 22,
      "id": "2dc4b816-97ef-4910-8f6b-83c67f19dcf7",
      "metadata": {
        "id": "2dc4b816-97ef-4910-8f6b-83c67f19dcf7"
      },
      "outputs": [],
      "source": [
        "import os\n",
        "import pandas as pd\n",
        "import numpy as np\n",
        "from tqdm import tqdm\n",
        "import torch\n",
        "from torch_geometric.data import Data\n",
        "import json\n",
        "import gensim\n",
        "from torch import nn\n",
        "import torch.nn.functional as F\n",
        "from transformers import AutoModel, AutoTokenizer\n",
        "from torch.utils.data import DataLoader\n",
        "from pcst_fast import pcst_fast\n",
        "import re\n",
        "from datetime import datetime\n"
      ]
    },
    {
      "cell_type": "markdown",
      "id": "5dfcddaf-1b0b-4e77-ae31-61d190f01748",
      "metadata": {
        "id": "5dfcddaf-1b0b-4e77-ae31-61d190f01748"
      },
      "source": [
        "# Load embedding modules"
      ]
    },
    {
      "cell_type": "code",
      "execution_count": 3,
      "id": "893d4130-c2ff-4c0b-b48c-768307a4bfa4",
      "metadata": {
        "id": "893d4130-c2ff-4c0b-b48c-768307a4bfa4"
      },
      "outputs": [],
      "source": [
        "pretrained_repo = 'sentence-transformers/all-roberta-large-v1'\n",
        "batch_size = 1024  # Adjust the batch size as needed\n",
        "\n",
        "class Dataset(torch.utils.data.Dataset):\n",
        "    def __init__(self, input_ids=None, attention_mask=None):\n",
        "        super().__init__()\n",
        "        self.data = {\n",
        "            \"input_ids\": input_ids,\n",
        "            \"att_mask\": attention_mask,\n",
        "        }\n",
        "\n",
        "    def __len__(self):\n",
        "        return self.data[\"input_ids\"].size(0)\n",
        "\n",
        "    def __getitem__(self, index):\n",
        "        if isinstance(index, torch.Tensor):\n",
        "            index = index.item()\n",
        "        batch_data = dict()\n",
        "        for key in self.data.keys():\n",
        "            if self.data[key] is not None:\n",
        "                batch_data[key] = self.data[key][index]\n",
        "        return batch_data\n",
        "\n",
        "class Sentence_Transformer(nn.Module):\n",
        "\n",
        "    def __init__(self, pretrained_repo):\n",
        "        super(Sentence_Transformer, self).__init__()\n",
        "        print(f\"inherit model weights from {pretrained_repo}\")\n",
        "        self.bert_model = AutoModel.from_pretrained(pretrained_repo)\n",
        "\n",
        "    def mean_pooling(self, model_output, attention_mask):\n",
        "        token_embeddings = model_output[0]  # First element of model_output contains all token embeddings\n",
        "        data_type = token_embeddings.dtype\n",
        "        input_mask_expanded = attention_mask.unsqueeze(-1).expand(token_embeddings.size()).to(data_type)\n",
        "        return torch.sum(token_embeddings * input_mask_expanded, 1) / torch.clamp(input_mask_expanded.sum(1), min=1e-9)\n",
        "\n",
        "    def forward(self, input_ids, att_mask):\n",
        "        bert_out = self.bert_model(input_ids=input_ids, attention_mask=att_mask)\n",
        "        sentence_embeddings = self.mean_pooling(bert_out, att_mask)\n",
        "\n",
        "        sentence_embeddings = F.normalize(sentence_embeddings, p=2, dim=1)\n",
        "        return sentence_embeddings\n",
        "\n",
        "def load_sbert():\n",
        "\n",
        "    model = Sentence_Transformer(pretrained_repo)\n",
        "    tokenizer = AutoTokenizer.from_pretrained(pretrained_repo)\n",
        "\n",
        "    # data parallel\n",
        "    if torch.cuda.device_count() > 1:\n",
        "        print(f'Using {torch.cuda.device_count()} GPUs')\n",
        "        model = nn.DataParallel(model)\n",
        "\n",
        "    device = torch.device(\"cuda\" if torch.cuda.is_available() else \"cpu\")\n",
        "    model.to(device)\n",
        "    model.eval()\n",
        "    return model, tokenizer, device\n",
        "\n",
        "\n",
        "def sbert_text2embedding(model, tokenizer, device, text):\n",
        "    if len(text) == 0:\n",
        "        return torch.zeros((0, 1024))\n",
        "\n",
        "    encoding = tokenizer(text, padding=True, truncation=True, return_tensors='pt')\n",
        "    dataset = Dataset(input_ids=encoding.input_ids, attention_mask=encoding.attention_mask)\n",
        "\n",
        "    # DataLoader\n",
        "    dataloader = DataLoader(dataset, batch_size=batch_size, shuffle=False)\n",
        "\n",
        "    # Placeholder for storing the embeddings\n",
        "    all_embeddings = []\n",
        "\n",
        "    # Iterate through batches\n",
        "    with torch.no_grad():\n",
        "\n",
        "        for batch in dataloader:\n",
        "            # Move batch to the appropriate device\n",
        "            batch = {key: value.to(device) for key, value in batch.items()}\n",
        "\n",
        "            # Forward pass\n",
        "            embeddings = model(input_ids=batch[\"input_ids\"], att_mask=batch[\"att_mask\"])\n",
        "\n",
        "            # Append the embeddings to the list\n",
        "            all_embeddings.append(embeddings)\n",
        "\n",
        "    # Concatenate the embeddings from all batches\n",
        "    all_embeddings = torch.cat(all_embeddings, dim=0).cpu()\n",
        "\n",
        "    return all_embeddings\n",
        "\n",
        "load_model = {\n",
        "    'sbert': load_sbert,\n",
        "}\n",
        "\n",
        "load_text2embedding = {\n",
        "    'sbert': sbert_text2embedding,\n",
        "}"
      ]
    },
    {
      "cell_type": "markdown",
      "id": "a187b1d0-b39d-4639-bfca-fbfc503a1245",
      "metadata": {
        "id": "a187b1d0-b39d-4639-bfca-fbfc503a1245"
      },
      "source": [
        "# Preprocess the data"
      ]
    },
    {
      "cell_type": "code",
      "source": [],
      "metadata": {
        "id": "0ODrNyQC0wVr"
      },
      "id": "0ODrNyQC0wVr",
      "execution_count": null,
      "outputs": []
    },
    {
      "cell_type": "code",
      "execution_count": 4,
      "id": "2d7415b6-98ed-4e43-adf8-d912f36abf45",
      "metadata": {
        "id": "2d7415b6-98ed-4e43-adf8-d912f36abf45"
      },
      "outputs": [],
      "source": [
        "model_name = 'sbert'\n",
        "path = 'dataset'\n",
        "path_nodes = f'{path}/nodes'\n",
        "path_edges = f'{path}/edges'\n",
        "path_graphs = f'{path}/graphs'"
      ]
    },
    {
      "cell_type": "code",
      "execution_count": 10,
      "id": "6e89fb80-6df3-4c6d-8db4-5964d11915f8",
      "metadata": {
        "id": "6e89fb80-6df3-4c6d-8db4-5964d11915f8"
      },
      "outputs": [],
      "source": [
        "from pymilvus import MilvusClient, DataType, FieldSchema, CollectionSchema\n",
        "\n",
        "CLUSTER_ENDPOINT = (\n",
        "    \"https://in03-7a5f9d2a1aa84ef.serverless.gcp-us-west1.cloud.zilliz.com\"\n",
        ")\n",
        "API_KEY = (\n",
        "    \"a73c79fb1924d05aeb410abc0d5669293cc33be37a123953be640725aa42198ef5c1e499cc07f231977c742ad6e6977c6eddec05\"\n",
        ")\n",
        "\n",
        "milvus_client = MilvusClient(uri=CLUSTER_ENDPOINT, token=API_KEY)\n",
        "\n",
        "COLLECTION_NAME = \"graph_embeddings\"\n",
        "VECTOR_DIM      = 1024          # SBERT default; change if yours differs\n",
        "METRIC_TYPE     = \"COSINE\"     # or \"IP\" for inner-product\n",
        "\n",
        "# Drop the collection if it already exists (for a clean slate)\n",
        "if COLLECTION_NAME in milvus_client.list_collections():\n",
        "    milvus_client.drop_collection(COLLECTION_NAME)\n",
        "\n",
        "# Define the schema\n",
        "schema = CollectionSchema(\n",
        "    fields=[\n",
        "        FieldSchema(\n",
        "            name=\"graph_id\",\n",
        "            dtype=DataType.INT64,\n",
        "            is_primary=True,\n",
        "            auto_id=False\n",
        "        ),\n",
        "        FieldSchema(\n",
        "            name=\"embedding\",\n",
        "            dtype=DataType.FLOAT_VECTOR,\n",
        "            dim=VECTOR_DIM\n",
        "        ),\n",
        "        FieldSchema(                 # optional metadata field\n",
        "            name=\"graph_idx\",\n",
        "            dtype=DataType.INT64\n",
        "        )\n",
        "    ],\n",
        "    description=\"Mean-pooled SBERT embeddings of knowledge graphs\"\n",
        ")\n",
        "\n",
        "index_params = milvus_client.prepare_index_params()\n",
        "index_params.add_index(\"embedding\", index_type=\"IVF_FLAT\", metric_type=\"COSINE\", index_params={\"nlist\": 64})\n",
        "milvus_client.create_collection(\n",
        "    collection_name=COLLECTION_NAME,\n",
        "    schema=schema,\n",
        "    consistency_level=\"Strong\",\n",
        "    index_params=index_params\n",
        ")"
      ]
    },
    {
      "cell_type": "code",
      "execution_count": null,
      "id": "9c868ece-0fe5-4197-88f8-c5cdfad18fb4",
      "metadata": {
        "colab": {
          "base_uri": "https://localhost:8080/"
        },
        "id": "9c868ece-0fe5-4197-88f8-c5cdfad18fb4",
        "outputId": "48da063e-49f1-48e5-a186-b0de80cdc293"
      },
      "outputs": [
        {
          "output_type": "stream",
          "name": "stderr",
          "text": [
            "100%|██████████| 5/5 [00:00<00:00, 118.42it/s]\n"
          ]
        }
      ],
      "source": [
        "def preprocessing_step_one():\n",
        "    # Load the graphs from the JSON file\n",
        "    with open('graphs.json', 'r') as f:\n",
        "        graphs = json.load(f)\n",
        "\n",
        "    # Create directories if they don't exist\n",
        "    os.makedirs(path_nodes, exist_ok=True)\n",
        "    os.makedirs(path_edges, exist_ok=True)\n",
        "\n",
        "    # Process each graph\n",
        "    for i, triples in enumerate(tqdm(graphs)):\n",
        "        node_map = {}   # Maps node label → node ID\n",
        "        edges = []\n",
        "\n",
        "        for h, r, t in triples:\n",
        "            h = h.lower()\n",
        "            t = t.lower()\n",
        "            if h not in node_map:\n",
        "                node_map[h] = len(node_map)\n",
        "            if t not in node_map:\n",
        "                node_map[t] = len(node_map)\n",
        "            edges.append({'src': node_map[h], 'edge_attr': r, 'dst': node_map[t]})\n",
        "\n",
        "        # Convert node map to DataFrame\n",
        "        nodes_df = pd.DataFrame(\n",
        "            [{'node_id': v, 'node_attr': k} for k, v in node_map.items()],\n",
        "            columns=['node_id', 'node_attr']\n",
        "        )\n",
        "\n",
        "        # Convert edge list to DataFrame\n",
        "        edges_df = pd.DataFrame(edges, columns=['src', 'edge_attr', 'dst'])\n",
        "\n",
        "        # Save to CSV\n",
        "        nodes_df.to_csv(f'{path_nodes}/{i}.csv', index=False)\n",
        "        edges_df.to_csv(f'{path_edges}/{i}.csv', index=False)\n",
        "\n",
        "preprocessing_step_one()"
      ]
    },
    {
      "cell_type": "code",
      "execution_count": null,
      "id": "15061d64-32f8-4bad-94f8-c3d630c8119f",
      "metadata": {
        "colab": {
          "base_uri": "https://localhost:8080/",
          "height": 1000,
          "referenced_widgets": [
            "96f969e46d3b44c1bccff53eb15171f2",
            "123e4cb45cd84b1fb6749aa05eaec843",
            "59713502fe1741629aebc0a19c556fd7",
            "2167a65b71804bb1bf605e0b4875d639",
            "ffd6a1c574ba4328b6aa34058baf657d",
            "739bb143b70a408ebe897837df93d2a6",
            "750537c732724af98c770aab3954c497",
            "2ace04b626194caa958022bf256bd681",
            "9fefccb1d0fc4eadb5b79a7294dda5ee",
            "e6f5beaa0c94404096d8fb434310c05b",
            "a7c26683c24b4925a324ff2b8806c6f1",
            "a9d53ec7d8644f1a91cb1b19bd4c29aa",
            "0ddd90998bd04f7c97db14faef284c25",
            "2899537ad1974dc69ad7dd5506acdb52",
            "dd350b1a622f42cbb8b8c75d8c22c69b",
            "06007553680b4e03a43cbc8abe6fec93",
            "8b338d8e3a244038889efcb789877511",
            "13c7d38ea0bb477c8baaa8526d00795f",
            "bdad8cfbb275418c94b965026b13777c",
            "aab6eaa6ff0f4449a61c7f207f4b47cb",
            "2cc1bb002d7046f99b73bd0bee13de12",
            "d18d281d1aa84b1294257af71e4ba009",
            "4638087b73644a3885349ea4e14fd88f",
            "a2d90d30b5ca40cdbeab17d262685423",
            "9f2e5d17370c42e4a54002dd98eba8f9",
            "68f48d94183541e9a8406c5946e7eb6e",
            "c49a27fe9cc84630a6270acca7ebed72",
            "eedf8d936a004527a2e8a5ff7f97304a",
            "aba8d16882114bc59d20caa43e8f9ca6",
            "69ba4733b4094eb28175df6ef60daf5e",
            "a7f9c44b9eda4d059beaddb5f4f2223f",
            "e6ed2132db924e56979fc935ba46c8dd",
            "2be55be9b52a45e18ea0b50a569edf8e",
            "189a4c3f6f344b47b9b23b057f5b205c",
            "3f967a7a1bec440c9efbac73efa11c28",
            "cf6b05907bda469ea6058d9e068cf509",
            "2b96cc6b35f840cda0fd27eecf42ecaf",
            "3382c3409469441692f6e6adc44085dc",
            "5367ecab1a10469e8f446a7e543a2422",
            "a9e9eb4f94544e9394c3141dcb0a700d",
            "26ddbb90f88c4f599b9d681faa5d7287",
            "707b4ad05c6d482cbfcc0671c84f188c",
            "6241b0109d634c0caccdceee729f72dc",
            "927a1bec578746b1ba854327e2a2ec24",
            "af2ef2ed06a3425488fbb2a690ea3dbf",
            "1d91f351cc3f47989a2bce84a1a6c0a9",
            "e9b8f3ce4a9f4ab08cb2b21f007941ba",
            "a1264d11afe6460182cb7ccd5aa95060",
            "c8f2be5a208f4b299e2ffdc79c930519",
            "504103f2bebe46a1b80587e2391b1251",
            "bfb525b94f6d418b941658b54a46c329",
            "4422f2a65cdf4ab2b046d1eeec7c81cc",
            "0aa9a11314c24dc1ad218b94bd909669",
            "43431a172ee6465b9dac573e31809e85",
            "7bd19e0892cf460397e25168afb731d9",
            "bf4138ee94174d1795e045a04426db6d",
            "e7704d5bcf594f64b3aaf381dfa51907",
            "e1460be5031a4786bc9735773a537c20",
            "798e1ec915da4b53a3538495fc53bd51",
            "05ba66a1b28b4f178de6ff8688056e24",
            "0991cc948aa8449190b0ea05f0876c43",
            "7269075cbb344f749bf5d2f30ee9f90f",
            "a7aa4664599940f0a4b15e7a81fd59f4",
            "7098b28f1c1c49239fe1fdfd0bd01d49",
            "58522187e4fd46b98e8e1ede5dd9aecd",
            "246dfb6255364ccf920fd839d9fbdff9",
            "39660b09ec124aa59a82044d94aecc06",
            "f4aba1675422458ebc7e945b33604eaf",
            "094c2ced51ea410cb57596e08054e53b",
            "3f3dbfcf7e79430fa97f498483aafae6",
            "444c1d866c4941d0bb56aa6e3ca86980",
            "a001fa51e6f541c480499bc4d959e250",
            "3981953a26ea4bcb9382b866aaf0900d",
            "8ff0985dc7e646a58dbdfb4e1bbb1819",
            "e359cb46b3614edbbb1026d389b8c703",
            "558f80f16f4f445fbb9c7bf31e6d934d",
            "615c7f81ca3a4d909fe042a05370bcbe"
          ]
        },
        "id": "15061d64-32f8-4bad-94f8-c3d630c8119f",
        "outputId": "f62dbddc-05d3-4903-d863-7fe56f8057b4",
        "collapsed": true
      },
      "outputs": [
        {
          "output_type": "stream",
          "name": "stderr",
          "text": [
            "/usr/local/lib/python3.11/dist-packages/huggingface_hub/file_download.py:943: FutureWarning: `resume_download` is deprecated and will be removed in version 1.0.0. Downloads always resume when possible. If you want to force a new download, use `force_download=True`.\n",
            "  warnings.warn(\n"
          ]
        },
        {
          "output_type": "stream",
          "name": "stdout",
          "text": [
            "Loading local knowledge base...\n",
            "inherit model weights from sentence-transformers/all-roberta-large-v1\n"
          ]
        },
        {
          "output_type": "stream",
          "name": "stderr",
          "text": [
            "/usr/local/lib/python3.11/dist-packages/huggingface_hub/utils/_auth.py:94: UserWarning: \n",
            "The secret `HF_TOKEN` does not exist in your Colab secrets.\n",
            "To authenticate with the Hugging Face Hub, create a token in your settings tab (https://huggingface.co/settings/tokens), set it as secret in your Google Colab and restart your session.\n",
            "You will be able to reuse this secret in all of your notebooks.\n",
            "Please note that authentication is recommended but still optional to access public models or datasets.\n",
            "  warnings.warn(\n"
          ]
        },
        {
          "output_type": "display_data",
          "data": {
            "text/plain": [
              "config.json:   0%|          | 0.00/650 [00:00<?, ?B/s]"
            ],
            "application/vnd.jupyter.widget-view+json": {
              "version_major": 2,
              "version_minor": 0,
              "model_id": "96f969e46d3b44c1bccff53eb15171f2"
            }
          },
          "metadata": {}
        },
        {
          "output_type": "stream",
          "name": "stderr",
          "text": [
            "/usr/local/lib/python3.11/dist-packages/huggingface_hub/file_download.py:943: FutureWarning: `resume_download` is deprecated and will be removed in version 1.0.0. Downloads always resume when possible. If you want to force a new download, use `force_download=True`.\n",
            "  warnings.warn(\n",
            "Xet Storage is enabled for this repo, but the 'hf_xet' package is not installed. Falling back to regular HTTP download. For better performance, install the package with: `pip install huggingface_hub[hf_xet]` or `pip install hf_xet`\n",
            "WARNING:huggingface_hub.file_download:Xet Storage is enabled for this repo, but the 'hf_xet' package is not installed. Falling back to regular HTTP download. For better performance, install the package with: `pip install huggingface_hub[hf_xet]` or `pip install hf_xet`\n"
          ]
        },
        {
          "output_type": "display_data",
          "data": {
            "text/plain": [
              "model.safetensors:   0%|          | 0.00/1.42G [00:00<?, ?B/s]"
            ],
            "application/vnd.jupyter.widget-view+json": {
              "version_major": 2,
              "version_minor": 0,
              "model_id": "a9d53ec7d8644f1a91cb1b19bd4c29aa"
            }
          },
          "metadata": {}
        },
        {
          "output_type": "display_data",
          "data": {
            "text/plain": [
              "tokenizer_config.json:   0%|          | 0.00/328 [00:00<?, ?B/s]"
            ],
            "application/vnd.jupyter.widget-view+json": {
              "version_major": 2,
              "version_minor": 0,
              "model_id": "4638087b73644a3885349ea4e14fd88f"
            }
          },
          "metadata": {}
        },
        {
          "output_type": "display_data",
          "data": {
            "text/plain": [
              "vocab.json:   0%|          | 0.00/798k [00:00<?, ?B/s]"
            ],
            "application/vnd.jupyter.widget-view+json": {
              "version_major": 2,
              "version_minor": 0,
              "model_id": "189a4c3f6f344b47b9b23b057f5b205c"
            }
          },
          "metadata": {}
        },
        {
          "output_type": "display_data",
          "data": {
            "text/plain": [
              "merges.txt:   0%|          | 0.00/456k [00:00<?, ?B/s]"
            ],
            "application/vnd.jupyter.widget-view+json": {
              "version_major": 2,
              "version_minor": 0,
              "model_id": "af2ef2ed06a3425488fbb2a690ea3dbf"
            }
          },
          "metadata": {}
        },
        {
          "output_type": "display_data",
          "data": {
            "text/plain": [
              "tokenizer.json:   0%|          | 0.00/1.36M [00:00<?, ?B/s]"
            ],
            "application/vnd.jupyter.widget-view+json": {
              "version_major": 2,
              "version_minor": 0,
              "model_id": "bf4138ee94174d1795e045a04426db6d"
            }
          },
          "metadata": {}
        },
        {
          "output_type": "display_data",
          "data": {
            "text/plain": [
              "special_tokens_map.json:   0%|          | 0.00/239 [00:00<?, ?B/s]"
            ],
            "application/vnd.jupyter.widget-view+json": {
              "version_major": 2,
              "version_minor": 0,
              "model_id": "39660b09ec124aa59a82044d94aecc06"
            }
          },
          "metadata": {}
        },
        {
          "output_type": "stream",
          "name": "stdout",
          "text": [
            "Embedding and storing graphs in milvusDB...\n"
          ]
        },
        {
          "output_type": "stream",
          "name": "stderr",
          "text": [
            "\r  0%|          | 0/5 [00:00<?, ?it/s]<ipython-input-9-359cbff23d3f>:24: FutureWarning: A value is trying to be set on a copy of a DataFrame or Series through chained assignment using an inplace method.\n",
            "The behavior will change in pandas 3.0. This inplace method will never work because the intermediate object on which we are setting values always behaves as a copy.\n",
            "\n",
            "For example, when doing 'df[col].method(value, inplace=True)', try using 'df.method({col: value}, inplace=True)' or df[col] = df[col].method(value) instead, to perform the operation inplace on the original object.\n",
            "\n",
            "\n",
            "  nodes.node_attr.fillna(\"\", inplace=True)\n",
            " 20%|██        | 1/5 [00:02<00:11,  2.83s/it]<ipython-input-9-359cbff23d3f>:24: FutureWarning: A value is trying to be set on a copy of a DataFrame or Series through chained assignment using an inplace method.\n",
            "The behavior will change in pandas 3.0. This inplace method will never work because the intermediate object on which we are setting values always behaves as a copy.\n",
            "\n",
            "For example, when doing 'df[col].method(value, inplace=True)', try using 'df.method({col: value}, inplace=True)' or df[col] = df[col].method(value) instead, to perform the operation inplace on the original object.\n",
            "\n",
            "\n",
            "  nodes.node_attr.fillna(\"\", inplace=True)\n",
            " 40%|████      | 2/5 [00:04<00:07,  2.36s/it]<ipython-input-9-359cbff23d3f>:24: FutureWarning: A value is trying to be set on a copy of a DataFrame or Series through chained assignment using an inplace method.\n",
            "The behavior will change in pandas 3.0. This inplace method will never work because the intermediate object on which we are setting values always behaves as a copy.\n",
            "\n",
            "For example, when doing 'df[col].method(value, inplace=True)', try using 'df.method({col: value}, inplace=True)' or df[col] = df[col].method(value) instead, to perform the operation inplace on the original object.\n",
            "\n",
            "\n",
            "  nodes.node_attr.fillna(\"\", inplace=True)\n",
            " 60%|██████    | 3/5 [00:08<00:05,  3.00s/it]<ipython-input-9-359cbff23d3f>:24: FutureWarning: A value is trying to be set on a copy of a DataFrame or Series through chained assignment using an inplace method.\n",
            "The behavior will change in pandas 3.0. This inplace method will never work because the intermediate object on which we are setting values always behaves as a copy.\n",
            "\n",
            "For example, when doing 'df[col].method(value, inplace=True)', try using 'df.method({col: value}, inplace=True)' or df[col] = df[col].method(value) instead, to perform the operation inplace on the original object.\n",
            "\n",
            "\n",
            "  nodes.node_attr.fillna(\"\", inplace=True)\n",
            " 80%|████████  | 4/5 [00:10<00:02,  2.63s/it]<ipython-input-9-359cbff23d3f>:24: FutureWarning: A value is trying to be set on a copy of a DataFrame or Series through chained assignment using an inplace method.\n",
            "The behavior will change in pandas 3.0. This inplace method will never work because the intermediate object on which we are setting values always behaves as a copy.\n",
            "\n",
            "For example, when doing 'df[col].method(value, inplace=True)', try using 'df.method({col: value}, inplace=True)' or df[col] = df[col].method(value) instead, to perform the operation inplace on the original object.\n",
            "\n",
            "\n",
            "  nodes.node_attr.fillna(\"\", inplace=True)\n",
            "100%|██████████| 5/5 [00:11<00:00,  2.33s/it]\n"
          ]
        },
        {
          "output_type": "stream",
          "name": "stdout",
          "text": [
            "Inserted 5 graph embeddings into Milvus.\n"
          ]
        }
      ],
      "source": [
        "def preprocessing_step_two():\n",
        "    print(\"Loading local knowledge base...\")\n",
        "    with open('graphs.json', 'r') as f:\n",
        "        graphs = json.load(f)\n",
        "\n",
        "    model, tokenizer, device = load_model[model_name]()\n",
        "    text2embedding = load_text2embedding[model_name]\n",
        "\n",
        "    print(\"Embedding and storing graphs in milvusDB...\")\n",
        "    os.makedirs(path_graphs, exist_ok=True)\n",
        "\n",
        "    milvus_vectors = []\n",
        "\n",
        "    for index in tqdm(range(len(graphs))):\n",
        "        # --- Load nodes & edges ---\n",
        "        nodes_path = f'{path_nodes}/{index}.csv'\n",
        "        edges_path = f'{path_edges}/{index}.csv'\n",
        "        if not os.path.exists(nodes_path) or not os.path.exists(edges_path):\n",
        "            print(f'Skipping graph {index} (missing files)')\n",
        "            continue\n",
        "\n",
        "        nodes = pd.read_csv(nodes_path)\n",
        "        edges = pd.read_csv(edges_path)\n",
        "        nodes.node_attr.fillna(\"\", inplace=True)\n",
        "\n",
        "        if len(nodes) == 0:\n",
        "            print(f'Empty graph at index {index}')\n",
        "            continue\n",
        "\n",
        "        # --- Embed node and edge attributes ---\n",
        "        x = text2embedding(model, tokenizer, device, nodes.node_attr.tolist())\n",
        "        edge_attr = text2embedding(model, tokenizer, device, edges.edge_attr.tolist())\n",
        "        edge_index = torch.LongTensor([edges.src.tolist(), edges.dst.tolist()])\n",
        "\n",
        "        # --- Save graph as torch_geometric.Data ---\n",
        "        pyg_graph = Data(x=x, edge_index=edge_index, edge_attr=edge_attr, num_nodes=len(nodes))\n",
        "        torch.save(pyg_graph, f'{path_graphs}/{index}.pt')\n",
        "\n",
        "        # --- Compute graph-level embedding (mean of node embeddings) ---\n",
        "        graph_embedding = torch.mean(x, dim=0).cpu().tolist()\n",
        "\n",
        "        # --- Store in Milvus format: [graph_id, embedding, index] ---\n",
        "        milvus_vectors.append({\"graph_id\": index, \"embedding\": graph_embedding, \"graph_idx\": index})\n",
        "\n",
        "    # --- Final batch insert into Milvus ---\n",
        "    if milvus_vectors:\n",
        "        milvus_client.insert(\n",
        "            collection_name=COLLECTION_NAME,\n",
        "            data=milvus_vectors,\n",
        "            auto_id=False\n",
        "        )\n",
        "        milvus_client.flush(COLLECTION_NAME)\n",
        "        print(f\"Inserted {len(milvus_vectors)} graph embeddings into Milvus.\")\n",
        "    else:\n",
        "        print(\"No graphs were inserted into Milvus.\")\n",
        "\n",
        "preprocessing_step_two()"
      ]
    },
    {
      "cell_type": "code",
      "execution_count": 6,
      "id": "5a77b0f7-b38a-44c6-b5d1-7ee7c3f97acc",
      "metadata": {
        "id": "5a77b0f7-b38a-44c6-b5d1-7ee7c3f97acc"
      },
      "outputs": [],
      "source": [
        "def retrieval_via_pcst(graph, q_emb, textual_nodes, textual_edges, topk=3, topk_e=3, cost_e=0.5):\n",
        "    c = 0.01\n",
        "    if len(textual_nodes) == 0 or len(textual_edges) == 0:\n",
        "        desc = textual_nodes.to_csv(index=False) + '\\n' + textual_edges.to_csv(index=False, columns=['src', 'edge_attr', 'dst'])\n",
        "        graph = Data(x=graph.x, edge_index=graph.edge_index, edge_attr=graph.edge_attr, num_nodes=graph.num_nodes)\n",
        "        return graph, desc\n",
        "\n",
        "    root = -1  # unrooted\n",
        "    num_clusters = 1\n",
        "    pruning = 'gw'\n",
        "    verbosity_level = 0\n",
        "    if topk > 0:\n",
        "        n_prizes = torch.nn.CosineSimilarity(dim=-1)(q_emb, graph.x)\n",
        "        topk = min(topk, graph.num_nodes)\n",
        "        _, topk_n_indices = torch.topk(n_prizes, topk, largest=True)\n",
        "\n",
        "        n_prizes = torch.zeros_like(n_prizes)\n",
        "        n_prizes[topk_n_indices] = torch.arange(topk, 0, -1).float()\n",
        "    else:\n",
        "        n_prizes = torch.zeros(graph.num_nodes)\n",
        "\n",
        "    if topk_e > 0:\n",
        "        e_prizes = torch.nn.CosineSimilarity(dim=-1)(q_emb, graph.edge_attr)\n",
        "        topk_e = min(topk_e, e_prizes.unique().size(0))\n",
        "\n",
        "        topk_e_values, _ = torch.topk(e_prizes.unique(), topk_e, largest=True)\n",
        "        e_prizes[e_prizes < topk_e_values[-1]] = 0.0\n",
        "        last_topk_e_value = topk_e\n",
        "        for k in range(topk_e):\n",
        "            indices = e_prizes == topk_e_values[k]\n",
        "            value = min((topk_e-k)/sum(indices), last_topk_e_value)\n",
        "            e_prizes[indices] = value\n",
        "            last_topk_e_value = value*(1-c)\n",
        "        # reduce the cost of the edges such that at least one edge is selected\n",
        "        cost_e = min(cost_e, e_prizes.max().item()*(1-c/2))\n",
        "    else:\n",
        "        e_prizes = torch.zeros(graph.num_edges)\n",
        "\n",
        "    costs = []\n",
        "    edges = []\n",
        "    vritual_n_prizes = []\n",
        "    virtual_edges = []\n",
        "    virtual_costs = []\n",
        "    mapping_n = {}\n",
        "    mapping_e = {}\n",
        "    for i, (src, dst) in enumerate(graph.edge_index.T.numpy()):\n",
        "        prize_e = e_prizes[i]\n",
        "        if prize_e <= cost_e:\n",
        "            mapping_e[len(edges)] = i\n",
        "            edges.append((src, dst))\n",
        "            costs.append(cost_e - prize_e)\n",
        "        else:\n",
        "            virtual_node_id = graph.num_nodes + len(vritual_n_prizes)\n",
        "            mapping_n[virtual_node_id] = i\n",
        "            virtual_edges.append((src, virtual_node_id))\n",
        "            virtual_edges.append((virtual_node_id, dst))\n",
        "            virtual_costs.append(0)\n",
        "            virtual_costs.append(0)\n",
        "            vritual_n_prizes.append(prize_e - cost_e)\n",
        "\n",
        "    prizes = np.concatenate([n_prizes, np.array(vritual_n_prizes)])\n",
        "    num_edges = len(edges)\n",
        "    if len(virtual_costs) > 0:\n",
        "        costs = np.array(costs+virtual_costs)\n",
        "        edges = np.array(edges+virtual_edges)\n",
        "\n",
        "    vertices, edges = pcst_fast(edges, prizes, costs, root, num_clusters, pruning, verbosity_level)\n",
        "\n",
        "    selected_nodes = vertices[vertices < graph.num_nodes]\n",
        "    selected_edges = [mapping_e[e] for e in edges if e < num_edges]\n",
        "    virtual_vertices = vertices[vertices >= graph.num_nodes]\n",
        "    if len(virtual_vertices) > 0:\n",
        "        virtual_vertices = vertices[vertices >= graph.num_nodes]\n",
        "        virtual_edges = [mapping_n[i] for i in virtual_vertices]\n",
        "        selected_edges = np.array(selected_edges+virtual_edges)\n",
        "\n",
        "    edge_index = graph.edge_index[:, selected_edges]\n",
        "    selected_nodes = np.unique(np.concatenate([selected_nodes, edge_index[0].numpy(), edge_index[1].numpy()]))\n",
        "\n",
        "    n = textual_nodes.iloc[selected_nodes]\n",
        "    e = textual_edges.iloc[selected_edges]\n",
        "    desc = n.to_csv(index=False)+'\\n'+e.to_csv(index=False, columns=['src', 'edge_attr', 'dst'])\n",
        "\n",
        "    mapping = {n: i for i, n in enumerate(selected_nodes.tolist())}\n",
        "\n",
        "    x = graph.x[selected_nodes]\n",
        "    edge_attr = graph.edge_attr[selected_edges]\n",
        "    src = [mapping[i] for i in edge_index[0].tolist()]\n",
        "    dst = [mapping[i] for i in edge_index[1].tolist()]\n",
        "    edge_index = torch.LongTensor([src, dst])\n",
        "    data = Data(x=x, edge_index=edge_index, edge_attr=edge_attr, num_nodes=len(selected_nodes))\n",
        "\n",
        "    return data, desc"
      ]
    },
    {
      "cell_type": "code",
      "execution_count": 7,
      "id": "4968bf61-7aeb-4585-b812-f40aeb007800",
      "metadata": {
        "colab": {
          "base_uri": "https://localhost:8080/",
          "height": 521,
          "referenced_widgets": [
            "f62d6862334041bfb3677b6a3c24acf3",
            "8bfb7d0489e048fe80c9ebffe83490bf",
            "c752ef1fba4549b894272176f9af559c",
            "ce417bc58e344795b96b2fbe5481d684",
            "31dd028082db4654a7b970fcd3dce25d",
            "5ad79756c67844acb5ba42219b66d636",
            "8a895e141d90471388a9305b411d650e",
            "998773b13bd04d0d8559a881e2eb3763",
            "c621548b4d0342f3a3ac90b8ba6a00f3",
            "9dcdeb870d294bbeb0248fe04ca67095",
            "3890a13397524ae2801c515b49839060",
            "a8a0aee3fc984333acad8a18326440ea",
            "751fd80376ea4cc19101bf2de3df1727",
            "9e722d84c9d046699be21d4580f70567",
            "405b855ecac24fafadcb216340844807",
            "d87c0c2d0be344a7b8d87c389967f5dc",
            "c058d456bb434d3da306d1b55a37b2be",
            "67997d1f0d75415cac2c6fed2dd31b12",
            "9cf814f756e64b5c9648f753479b31af",
            "2edad5f5b14240c883cc63d69dff5055",
            "6da1a463728b420bb573951719d506f8",
            "f4bc1ddd1b9d4bddbdbd4469390c54cf",
            "1f475c55faf54a5eb7ac9423a3117b84",
            "6b63524a25e54c31839e237a3437bdf7",
            "2f3147fb4f9d48da8c07c7beb5c0f4e7",
            "6232b6e9411549fba6e04bef3a09344d",
            "ba9ea2147c07474eb4991e792d71edcd",
            "17809f51e0c442fcab16c83208ae275f",
            "b5064f134beb4e72b3a6637249725fc0",
            "2e60888cb9a4432eae040c963cc45dfe",
            "f5df6029e61a4f73ba960eb221b30f3f",
            "c93bc9901b6543a0b0e6d42576eb8ba2",
            "412fc04efae44d8bb483a368488a480e",
            "8d81736b160b41e0843a74a525ba3ebe",
            "29eb66e410864d6bbe4843e85a93eda8",
            "fdf06c2203b54a9f904f31bfd4e64499",
            "4b4e335ea34e4283b9a84bdfc67c3bda",
            "530e6305c2d24c6abdc8f52885e89ec5",
            "2d01526bdcec475c8c598047c5a27716",
            "127e525edf1d4d11b4596d2682ed2c4a",
            "948e6d8d8c7e434186ad7a96aa24ff7a",
            "ce5c2ccc726f4782bd47db0e4232544e",
            "8347d382dd3246b0aed3f11cfe8eb7e0",
            "e57cc01a0ceb458fa93da7bd79bacb44",
            "2e64038134f34acd984c75fd970725d3",
            "c02f5d4b8c6642d0b5ebc5d8e87eca14",
            "daf333a482664f19b770e2df12e46a45",
            "914f741f794348c88ea4ec12642c29d7",
            "da1636a5b377480689c8079109520251",
            "f5120bd3b6ce49d2a607fa38298a5313",
            "1e706578e0ea4ff58ae78f9cf64d2f6f",
            "18b5ad27a229429bb6fee2d503b5dd1a",
            "a6d9bc7b156a4d5a9c21b11e5394179c",
            "29d328cfde834b119cd91c6fb7acc35c",
            "fdf88f775e2e4f78925b4df758a7346d",
            "fa3301bc77ce40c3bc43fd36b1f0f878",
            "5fce5f394fd64b2b8a02d453cd3a5b86",
            "55045a0d588043c18a5c54b95cfdadcb",
            "8b47c7df848c4b92958abc3f8e128fa5",
            "faf9325fd19d4d2f900c8d991ca377ee",
            "c77afac37af743aa9b0c275f043c9133",
            "f9f886bdc66c400b901c161b984321e9",
            "87ae77a7919e48a5912e98e845734b91",
            "5a406d31c0254a2495a89ebb1d7a20f3",
            "9a3dbe0968584670924c69284d543ada",
            "66b2f644d74a42239dce9c530d80390f",
            "e0123f8bf5e04a0bbdfdbcdcc2973d6e",
            "19b5c89075224119906ec584372225ef",
            "7b7cee815e674c42b18039a21852c4c7",
            "bec28c06a39344359397e375968ff730",
            "e14d9427e48746d7b59d906df5256030",
            "1487798ac9fe411282b8ee6a46548340",
            "07de454d05d64f57bee8425b46779917",
            "c18e13c6d4474d6e854d442706620b3e",
            "68dfa27769594115af6c692ebe8c1f29",
            "f3669f08239042caa92f0849c45ac76a",
            "70671abdabe340f39f05144e3eb7d183"
          ]
        },
        "id": "4968bf61-7aeb-4585-b812-f40aeb007800",
        "outputId": "c64fdeb1-1056-4819-b26b-d7620ff21e8e"
      },
      "outputs": [
        {
          "output_type": "stream",
          "name": "stdout",
          "text": [
            "inherit model weights from sentence-transformers/all-roberta-large-v1\n"
          ]
        },
        {
          "output_type": "stream",
          "name": "stderr",
          "text": [
            "/usr/local/lib/python3.11/dist-packages/huggingface_hub/file_download.py:943: FutureWarning: `resume_download` is deprecated and will be removed in version 1.0.0. Downloads always resume when possible. If you want to force a new download, use `force_download=True`.\n",
            "  warnings.warn(\n",
            "/usr/local/lib/python3.11/dist-packages/huggingface_hub/utils/_auth.py:94: UserWarning: \n",
            "The secret `HF_TOKEN` does not exist in your Colab secrets.\n",
            "To authenticate with the Hugging Face Hub, create a token in your settings tab (https://huggingface.co/settings/tokens), set it as secret in your Google Colab and restart your session.\n",
            "You will be able to reuse this secret in all of your notebooks.\n",
            "Please note that authentication is recommended but still optional to access public models or datasets.\n",
            "  warnings.warn(\n"
          ]
        },
        {
          "output_type": "display_data",
          "data": {
            "text/plain": [
              "config.json:   0%|          | 0.00/650 [00:00<?, ?B/s]"
            ],
            "application/vnd.jupyter.widget-view+json": {
              "version_major": 2,
              "version_minor": 0,
              "model_id": "f62d6862334041bfb3677b6a3c24acf3"
            }
          },
          "metadata": {}
        },
        {
          "output_type": "stream",
          "name": "stderr",
          "text": [
            "/usr/local/lib/python3.11/dist-packages/huggingface_hub/file_download.py:943: FutureWarning: `resume_download` is deprecated and will be removed in version 1.0.0. Downloads always resume when possible. If you want to force a new download, use `force_download=True`.\n",
            "  warnings.warn(\n",
            "Xet Storage is enabled for this repo, but the 'hf_xet' package is not installed. Falling back to regular HTTP download. For better performance, install the package with: `pip install huggingface_hub[hf_xet]` or `pip install hf_xet`\n",
            "WARNING:huggingface_hub.file_download:Xet Storage is enabled for this repo, but the 'hf_xet' package is not installed. Falling back to regular HTTP download. For better performance, install the package with: `pip install huggingface_hub[hf_xet]` or `pip install hf_xet`\n"
          ]
        },
        {
          "output_type": "display_data",
          "data": {
            "text/plain": [
              "model.safetensors:   0%|          | 0.00/1.42G [00:00<?, ?B/s]"
            ],
            "application/vnd.jupyter.widget-view+json": {
              "version_major": 2,
              "version_minor": 0,
              "model_id": "a8a0aee3fc984333acad8a18326440ea"
            }
          },
          "metadata": {}
        },
        {
          "output_type": "display_data",
          "data": {
            "text/plain": [
              "tokenizer_config.json:   0%|          | 0.00/328 [00:00<?, ?B/s]"
            ],
            "application/vnd.jupyter.widget-view+json": {
              "version_major": 2,
              "version_minor": 0,
              "model_id": "1f475c55faf54a5eb7ac9423a3117b84"
            }
          },
          "metadata": {}
        },
        {
          "output_type": "display_data",
          "data": {
            "text/plain": [
              "vocab.json:   0%|          | 0.00/798k [00:00<?, ?B/s]"
            ],
            "application/vnd.jupyter.widget-view+json": {
              "version_major": 2,
              "version_minor": 0,
              "model_id": "8d81736b160b41e0843a74a525ba3ebe"
            }
          },
          "metadata": {}
        },
        {
          "output_type": "display_data",
          "data": {
            "text/plain": [
              "merges.txt:   0%|          | 0.00/456k [00:00<?, ?B/s]"
            ],
            "application/vnd.jupyter.widget-view+json": {
              "version_major": 2,
              "version_minor": 0,
              "model_id": "2e64038134f34acd984c75fd970725d3"
            }
          },
          "metadata": {}
        },
        {
          "output_type": "display_data",
          "data": {
            "text/plain": [
              "tokenizer.json:   0%|          | 0.00/1.36M [00:00<?, ?B/s]"
            ],
            "application/vnd.jupyter.widget-view+json": {
              "version_major": 2,
              "version_minor": 0,
              "model_id": "fa3301bc77ce40c3bc43fd36b1f0f878"
            }
          },
          "metadata": {}
        },
        {
          "output_type": "display_data",
          "data": {
            "text/plain": [
              "special_tokens_map.json:   0%|          | 0.00/239 [00:00<?, ?B/s]"
            ],
            "application/vnd.jupyter.widget-view+json": {
              "version_major": 2,
              "version_minor": 0,
              "model_id": "e0123f8bf5e04a0bbdfdbcdcc2973d6e"
            }
          },
          "metadata": {}
        },
        {
          "output_type": "stream",
          "name": "stdout",
          "text": [
            "Error loading collection: name 'milvus_client' is not defined\n"
          ]
        },
        {
          "output_type": "execute_result",
          "data": {
            "text/plain": [
              "([], [])"
            ]
          },
          "metadata": {},
          "execution_count": 7
        }
      ],
      "source": [
        "def retreival(question, k=3):\n",
        "    model, tokenizer, device = load_model[model_name]()\n",
        "    text2embedding = load_text2embedding[model_name]\n",
        "    # Encode question\n",
        "    q_emb = text2embedding(model, tokenizer, device, [question])[0]\n",
        "\n",
        "    # Ensure collection is loaded before search\n",
        "    try:\n",
        "        milvus_client.load_collection(COLLECTION_NAME)\n",
        "    except Exception as e:\n",
        "        print(f\"Error loading collection: {e}\")\n",
        "        return [], []\n",
        "\n",
        "    # Perform similarity search in Milvus\n",
        "    search_results = milvus_client.search(\n",
        "        collection_name=COLLECTION_NAME,\n",
        "        data=[q_emb.tolist()],\n",
        "        limit=k,\n",
        "        search_params={\"metric_type\": METRIC_TYPE, \"params\": {}},\n",
        "        output_fields=[\"graph_idx\"]\n",
        "    )\n",
        "\n",
        "    # Extract graph indices from results\n",
        "    hits = search_results[0]\n",
        "    graph_indices = [hit[\"entity\"][\"graph_idx\"] for hit in hits]\n",
        "\n",
        "    # Collect subgraphs and descriptions\n",
        "    sub_graphs = []\n",
        "    descriptions = []\n",
        "\n",
        "    for index in tqdm(graph_indices, desc=\"Retrieving subgraphs\"):\n",
        "        nodes_path = f'{path_nodes}/{index}.csv'\n",
        "        edges_path = f'{path_edges}/{index}.csv'\n",
        "        graph_path = f'{path_graphs}/{index}.pt'\n",
        "\n",
        "        if not (os.path.exists(nodes_path) and os.path.exists(edges_path) and os.path.exists(graph_path)):\n",
        "            print(f\"Missing data for graph {index}\")\n",
        "            continue\n",
        "\n",
        "        nodes = pd.read_csv(nodes_path)\n",
        "        edges = pd.read_csv(edges_path)\n",
        "        if len(nodes) == 0:\n",
        "            print(f\"Empty graph at index {index}\")\n",
        "            continue\n",
        "\n",
        "        graph = torch.load(graph_path)\n",
        "\n",
        "        # Apply your custom retrieval logic (must be defined elsewhere)\n",
        "        subg, desc = retrieval_via_pcst(\n",
        "            graph=graph,\n",
        "            q_emb=q_emb,\n",
        "            textual_nodes=nodes,\n",
        "            textual_edges=edges,\n",
        "            topk=3,\n",
        "            topk_e=5,\n",
        "            cost_e=0.5\n",
        "        )\n",
        "\n",
        "        sub_graphs.append(subg)\n",
        "        descriptions.append(desc)\n",
        "\n",
        "    return sub_graphs, descriptions\n",
        "\n",
        "question = \"How does air pollution impact the treatment or worsening of asthma and COPD symptoms?\"\n",
        "retreival(question, k=3)"
      ]
    },
    {
      "cell_type": "code",
      "execution_count": 8,
      "id": "b2ce069c-2e34-4697-a0d9-392144ddb798",
      "metadata": {
        "id": "b2ce069c-2e34-4697-a0d9-392144ddb798"
      },
      "outputs": [],
      "source": [
        "from openai import OpenAI\n",
        "\n",
        "# Initialize OpenAI or NVIDIA client\n",
        "client = OpenAI(\n",
        "    base_url=\"https://integrate.api.nvidia.com/v1\",\n",
        "    api_key=\"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\"\n",
        ")\n",
        "\n",
        "def construct_rag_prompt(question, descriptions):\n",
        "    \"\"\"\n",
        "    Constructs a prompt for RAG using the retrieved knowledge graph descriptions.\n",
        "    \"\"\"\n",
        "    # Start with system message\n",
        "    system_message = \"\"\"You are a medical knowledge assistant that helps answer questions based on medical knowledge graphs.\n",
        "Use only the provided knowledge graphs to answer the question. If the knowledge graphs don't contain enough information to fully answer the question,\n",
        "say I don't know. Be precise and factual in your responses. Don't cite the node and graph ids in your responses for example (Knowledge Graph number). Format the responses for more clarity.\n",
        "\"\"\"\n",
        "\n",
        "    # Format the context from knowledge graphs\n",
        "    context = \"Here are the relevant medical knowledge graphs:\\n\\n\"\n",
        "    for i, desc in enumerate(descriptions, 1):\n",
        "        # Split the description into nodes and edges\n",
        "        parts = desc.split('\\n\\n')\n",
        "        nodes = parts[0]\n",
        "        edges = parts[1] if len(parts) > 1 else \"\"\n",
        "\n",
        "        context += f\"Knowledge Graph {i}:\\n\"\n",
        "        context += f\"Nodes:\\n{nodes}\\n\"\n",
        "        if edges:\n",
        "            context += f\"Relationships:\\n{edges}\\n\"\n",
        "        context += \"\\n\"\n",
        "\n",
        "    # Construct the final prompt\n",
        "    prompt = f\"{system_message}\\n\\n{context}\\nQuestion: {question}\\n\\nAnswer:\"\n",
        "\n",
        "    return prompt\n",
        "\n"
      ]
    },
    {
      "cell_type": "code",
      "source": [
        "def generate_response(question):\n",
        "  sub_graphs, descriptions = retreival(question, k=3)\n",
        "  rag_prompt = construct_rag_prompt(question, descriptions)\n",
        "\n",
        "  # Now you can use this prompt with your LLM\n",
        "  completion = client.chat.completions.create(\n",
        "      model=\"nvidia/llama-3.1-nemotron-ultra-253b-v1\",\n",
        "      messages=[\n",
        "          {\"role\": \"system\", \"content\": \"You are a medical knowledge assistant.\"},\n",
        "          {\"role\": \"user\", \"content\": rag_prompt}\n",
        "      ],\n",
        "      temperature=0.6,\n",
        "      top_p=0.95,\n",
        "      max_tokens=4096,\n",
        "      frequency_penalty=0,\n",
        "      presence_penalty=0,\n",
        "      stream=True\n",
        "  )\n",
        "\n",
        "  #   words to delete from the response:\n",
        "  to_delete = [\n",
        "    r\"\\(Knowledge Graph \\d+\\)\",\n",
        "    r\"Knowledge Graph \\d+\"\n",
        "  ]\n",
        "\n",
        "  # Print the streaming response and save the response\n",
        "  full_response = \"\"\n",
        "  for chunk in completion:\n",
        "    if chunk.choices[0].delta.content is not None:\n",
        "      content = chunk.choices[0].delta.content\n",
        "      for word in to_delete:\n",
        "          content = re.sub(word, \"\", content)\n",
        "      # print(content, end=\"\")\n",
        "      full_response += content\n",
        "\n",
        "\n",
        "  return full_response\n",
        "\n",
        "\n",
        "# Example usage:\n",
        "questions = [\n",
        "    \"How does air pollution impact the treatment or worsening of asthma and COPD symptoms?\",\n",
        "    \"How does air pollution impact the treatment or worsening of COPD symptoms?\",\n",
        "    \"How does air pollution impact the treatment or worsening of asthma symptoms?\",\n",
        "    \"What does asthma mean?\",\n",
        "    \"What is the color of Zied's shoes?\"\n",
        "]\n",
        "\n",
        "for question in questions:\n",
        "    print(f\"\\n\\nQuestion: {question}\\n\")\n",
        "    # Get the response\n",
        "    full_response = generate_response(question)\n",
        "    print(f\"Response: {full_response}\\n\")"
      ],
      "metadata": {
        "colab": {
          "base_uri": "https://localhost:8080/"
        },
        "id": "QE1wN3V9un0y",
        "outputId": "beaf82cf-eb1b-4c11-949e-aacb4319f841",
        "collapsed": true
      },
      "id": "QE1wN3V9un0y",
      "execution_count": 11,
      "outputs": [
        {
          "output_type": "stream",
          "name": "stdout",
          "text": [
            "\n",
            "\n",
            "Question: How does air pollution impact the treatment or worsening of asthma and COPD symptoms?\n",
            "\n",
            "inherit model weights from sentence-transformers/all-roberta-large-v1\n"
          ]
        },
        {
          "output_type": "stream",
          "name": "stderr",
          "text": [
            "Retrieving subgraphs: 0it [00:00, ?it/s]\n"
          ]
        },
        {
          "output_type": "stream",
          "name": "stdout",
          "text": [
            "Response: **Air Pollution's Impact on Asthma and COPD**\n",
            "\n",
            "Air pollution can significantly affect both asthma and Chronic Obstructive Pulmonary Disease (COPD) by exacerbating symptoms and potentially impacting treatment efficacy. Here’s a breakdown of its effects:\n",
            "\n",
            "1. **Exacerbation of Symptoms**:\n",
            "   - **Asthma**: Air pollutants like particulate matter (PM), ozone (O3), nitrogen dioxide (NO2), and sulfur dioxide (SO2) can trigger asthma attacks, increase airway inflammation, and reduce lung function. These pollutants can irritate the airways, leading to wheezing, coughing, shortness of breath, and chest tightness.\n",
            "   - **COPD**: Similarly, exposure to air pollutants can worsen COPD symptoms. Increased levels of PM, especially PM2.5, and gaseous pollutants can lead to increased respiratory symptoms, reduced lung function, and increased risk of hospitalizations due to COPD exacerbations.\n",
            "\n",
            "2. **Impact on Treatment**:\n",
            "   - While the provided knowledge graphs do not explicitly detail how air pollution affects the treatment of asthma and COPD, it is inferred that increased symptom severity due to pollution might necessitate adjustments in medication (e.g., increased use of bronchodilators or corticosteroids) to manage exacerbated symptoms. However, the direct impact of air pollution on the efficacy of these treatments is not specified in the provided information.\n",
            "\n",
            "**Conclusion**:\n",
            "Air pollution plays a significant role in worsening asthma and COPD symptoms, primarily through increased airway inflammation and irritation. However, the specific effects on treatment efficacy or adjustments are not fully detailed in the provided knowledge graphs. \n",
            "\n",
            "**I don't know** the precise impact of air pollution on the treatment efficacy for asthma and COPD beyond symptom exacerbation, as this information is not explicitly provided.\n",
            "\n",
            "\n",
            "\n",
            "Question: How does air pollution impact the treatment or worsening of COPD symptoms?\n",
            "\n",
            "inherit model weights from sentence-transformers/all-roberta-large-v1\n"
          ]
        },
        {
          "output_type": "stream",
          "name": "stderr",
          "text": [
            "/usr/local/lib/python3.11/dist-packages/huggingface_hub/file_download.py:943: FutureWarning: `resume_download` is deprecated and will be removed in version 1.0.0. Downloads always resume when possible. If you want to force a new download, use `force_download=True`.\n",
            "  warnings.warn(\n",
            "Retrieving subgraphs: 0it [00:00, ?it/s]\n"
          ]
        },
        {
          "output_type": "stream",
          "name": "stdout",
          "text": [
            "Response: **Impact of Air Pollution on COPD Treatment and Symptoms**\n",
            "\n",
            "Air pollution can significantly affect individuals with Chronic Obstructive Pulmonary Disease (COPD) in several ways:\n",
            "\n",
            "1. **Worsening of Symptoms**: Exposure to air pollutants, such as particulate matter (PM), nitrogen dioxide (NO2), and ozone (O3), can exacerbate COPD symptoms. These pollutants can induce inflammation and oxidative stress in the lungs, leading to increased breathlessness, coughing, and sputum production.\n",
            "\n",
            "2. **Reduced Lung Function**: Air pollution can decrease lung function in COPD patients, making it harder for them to breathe. This reduction can be temporary, but repeated exposure can lead to more permanent declines in lung function.\n",
            "\n",
            "3. **Increased Risk of Acute Exacerbations**: Air pollution is a known trigger for acute exacerbations of COPD, which are episodes of sudden worsening of symptoms that require additional medical treatment. These exacerbations can lead to hospitalizations and a decline in the patient's overall health status.\n",
            "\n",
            "4. **Impact on Treatment Efficacy**: While there is limited direct evidence on how air pollution affects the efficacy of COPD treatments (e.g., bronchodilators, corticosteroids), it is plausible that continued exposure to pollutants may reduce the effectiveness of these therapies by maintaining a state of airway inflammation.\n",
            "\n",
            "**Recommendations for COPD Patients**:\n",
            "- **Avoid Exposure**: Minimize outdoor activities when air pollution levels are high.\n",
            "- **Use Protective Measures**: Wear protective masks rated for fine particulate matter (e.g., N95 masks) when outdoors in polluted areas.\n",
            "- **Monitor Air Quality**: Use local air quality indexes to plan activities accordingly.\n",
            "\n",
            "**Conclusion**: Air pollution has a detrimental impact on COPD, worsening symptoms, reducing lung function, and increasing the risk of exacerbations. Managing exposure to polluted air is crucial for controlling the disease and improving quality of life for COPD patients.\n",
            "\n",
            "\n",
            "\n",
            "Question: How does air pollution impact the treatment or worsening of asthma symptoms?\n",
            "\n",
            "inherit model weights from sentence-transformers/all-roberta-large-v1\n"
          ]
        },
        {
          "output_type": "stream",
          "name": "stderr",
          "text": [
            "Retrieving subgraphs: 0it [00:00, ?it/s]\n"
          ]
        },
        {
          "output_type": "stream",
          "name": "stdout",
          "text": [
            "Response: **Impact of Air Pollution on Asthma**\n",
            "\n",
            "Air pollution can significantly affect both the treatment and worsening of asthma symptoms. Here's a breakdown of the effects based on the provided knowledge:\n",
            "\n",
            "1. **Worsening of Symptoms**:\n",
            "\t* Air pollution, particularly **particulate matter (PM)**, **nitrogen dioxide (NO2)**, and **ozone (O3)**, can irritate the airways, leading to increased inflammation and bronchoconstriction.\n",
            "\t* Exposure to these pollutants can trigger asthma attacks in susceptible individuals, making symptoms more severe and frequent.\n",
            "\n",
            "2. **Treatment Challenges**:\n",
            "\t* The presence of air pollution may reduce the effectiveness of standard asthma treatments, such as **inhaled corticosteroids** and **bronchodilators**.\n",
            "\t* Individuals with asthma may require more frequent use of rescue medications or adjustments to their treatment plans to manage symptoms exacerbated by pollution.\n",
            "\n",
            "3. **Preventive Measures**:\n",
            "\t* Monitoring air quality indices and avoiding outdoor activities during high pollution periods can help minimize exposure.\n",
            "\t* Using air purifiers and maintaining a smoke-free environment indoors can also reduce the impact of air pollution on asthma symptoms.\n",
            "\n",
            "**Conclusion**: Air pollution can worsen asthma symptoms by inducing inflammation and airway constriction, potentially reducing the efficacy of standard treatments. Managing exposure to pollutants is crucial for controlling asthma symptoms effectively.\n",
            "\n",
            "\n",
            "\n",
            "Question: What does asthma mean?\n",
            "\n",
            "inherit model weights from sentence-transformers/all-roberta-large-v1\n"
          ]
        },
        {
          "output_type": "stream",
          "name": "stderr",
          "text": [
            "Retrieving subgraphs: 0it [00:00, ?it/s]\n"
          ]
        },
        {
          "output_type": "stream",
          "name": "stdout",
          "text": [
            "Response: **Asthma Definition**\n",
            "\n",
            "Asthma is a chronic respiratory disease characterized by inflammation, airway obstruction, and spasm of the bronchial tubes, leading to recurring episodes of wheezing, breathlessness, chest tightness, and coughing, particularly at night or early in the morning.\n",
            "\n",
            "\n",
            "\n",
            "Question: What is the color of Zied's shoes?\n",
            "\n",
            "inherit model weights from sentence-transformers/all-roberta-large-v1\n"
          ]
        },
        {
          "output_type": "stream",
          "name": "stderr",
          "text": [
            "Retrieving subgraphs: 0it [00:00, ?it/s]\n"
          ]
        },
        {
          "output_type": "stream",
          "name": "stdout",
          "text": [
            "Response: I don't know.\n",
            "\n"
          ]
        }
      ]
    },
    {
      "cell_type": "code",
      "source": [
        "def evaluate_response(question, context, response, label=None, report=False):\n",
        "    \"\"\"\n",
        "    Evaluates the LLM's response based on clarity, exactitude, and context adherence.\n",
        "\n",
        "    Args:\n",
        "        question (str): Original question\n",
        "        context (str): Retrieved knowledge graph context\n",
        "        response (str): LLM's response to evaluate\n",
        "        label (str, optional): Ground truth label for comparison\n",
        "        report (bool): Whether to save evaluation to file\n",
        "\n",
        "    Returns:\n",
        "        dict: Evaluation scores and feedback\n",
        "    \"\"\"\n",
        "\n",
        "    if report:\n",
        "        current_date = datetime.now().strftime(\"%Y-%m-%d\")\n",
        "        with open(f\"evaluation_{current_date}.txt\", \"a\") as f:\n",
        "            f.write(f\"Question: {question}\\n\")\n",
        "            f.write(f\"Context: {context}\\n\")\n",
        "            f.write(f\"Response: {response}\\n\")\n",
        "            f.write(f\"Label: {label}\\n\")\n",
        "\n",
        "\n",
        "    evaluation_prompt = f\"\"\"You are an expert evaluator of medical knowledge responses. Evaluate the following response based on three criteria:\n",
        "\n",
        "1. Clarity (0-5): How clear and well-structured is the response? 0 is the worst, 1 is the best.\n",
        "2. Exactitude (0-5): How accurate and precise is the information provided? 0 is the worst, 1 is the best.\n",
        "3. Context Adherence (0-5): How well does the response stick to the provided knowledge graphs? 0 is the worst, 1 is the best.\n",
        "4. Relevance (0-5): How relevant is the retrieved Knowledge Graph Context to the question? 0 is the worst, 1 is the best.\n",
        "5. Completeness (0-5): How complete and thorough is the response? 0 is the worst, 1 is the best.\n",
        "6. Logical Flow (0-5): How coherent and well-structured is the response? 0 is the worst, 1 is the best.\n",
        "7. Uncertainty Handling (0-5): How well does the response acknowledge limitations and uncertainties? 0 is the worst, 1 is the best.\n",
        "\n",
        "\n",
        "Question: {question}\n",
        "\n",
        "Knowledge Graph Context:\n",
        "{context}\n",
        "\n",
        "Response to Evaluate:\n",
        "{response}\n",
        "\n",
        "Provide your evaluation in the following format:\n",
        "CLARITY: [score]/5 - [brief explanation]\n",
        "EXACTITUDE: [score]/5 - [brief explanation]\n",
        "CONTEXT ADHERENCE: [score]/5 - [brief explanation]\n",
        "RELEVANCE: [score]/5 - [brief explanation]\n",
        "COMPLETENESS: [score]/5 - [brief explanation]\n",
        "LOGICAL FLOW: [score]/5 - [brief explanation]\n",
        "UNCERTAINTY HANDLING: [score]/5 - [brief explanation]\n",
        "OVERALL FEEDBACK: [average score] and 2-3 sentences summarizing the evaluation]\n",
        "\"\"\"\n",
        "\n",
        "    if label is not None:\n",
        "        evaluation_prompt += f\"Ground Truth Label: {label}\\n\"\n",
        "\n",
        "    evaluation = client.chat.completions.create(\n",
        "        model=\"nvidia/llama-3.1-nemotron-ultra-253b-v1\",\n",
        "        messages=[\n",
        "            {\"role\": \"system\", \"content\": \"You are an expert evaluator of medical knowledge responses.\"},\n",
        "            {\"role\": \"user\", \"content\": evaluation_prompt}\n",
        "        ],\n",
        "        temperature=0.3,  # Lower temperature for more consistent evaluation\n",
        "        top_p=0.95,\n",
        "        max_tokens=1024,\n",
        "        frequency_penalty=0,\n",
        "        presence_penalty=0,\n",
        "        stream=True\n",
        "    )\n",
        "\n",
        "    print(\"\\n=== Response Evaluation ===\\n\")\n",
        "\n",
        "    # Initialize variables to store the complete response\n",
        "    full_evaluation = \"\"\n",
        "    scores = {\n",
        "        \"clarity_score\": None,\n",
        "        \"exactitude_score\": None,\n",
        "        \"context_adherence_score\": None,\n",
        "        \"relevance_score\": None,\n",
        "        \"completeness_score\": None,\n",
        "        \"logical_flow_score\": None,\n",
        "        \"uncertainty_handling_score\": None,\n",
        "        \"overall_feedback\": None\n",
        "    }\n",
        "\n",
        "    for chunk in evaluation:\n",
        "        if chunk.choices[0].delta.content is not None:\n",
        "            content = chunk.choices[0].delta.content\n",
        "            # print(content, end=\"\")\n",
        "            full_evaluation += content\n",
        "\n",
        "    # Extract scores from the complete evaluation\n",
        "    scores[\"clarity_score\"] = re.findall(r\"CLARITY: (\\d+(?:\\.\\d+)?)\", full_evaluation)\n",
        "    scores[\"exactitude_score\"] = re.findall(r\"EXACTITUDE: (\\d+(?:\\.\\d+)?)\", full_evaluation)\n",
        "    scores[\"context_adherence_score\"] = re.findall(r\"CONTEXT ADHERENCE: (\\d+(?:\\.\\d+)?)\", full_evaluation)\n",
        "    scores[\"relevance_score\"] = re.findall(r\"RELEVANCE: (\\d+(?:\\.\\d+)?)\", full_evaluation)\n",
        "    scores[\"completeness_score\"] = re.findall(r\"COMPLETENESS: (\\d+(?:\\.\\d+)?)\", full_evaluation)\n",
        "    scores[\"logical_flow_score\"] = re.findall(r\"LOGICAL FLOW: (\\d+(?:\\.\\d+)?)\", full_evaluation)\n",
        "    scores[\"uncertainty_handling_score\"] = re.findall(r\"UNCERTAINTY HANDLING: (\\d+(?:\\.\\d+)?)\", full_evaluation)\n",
        "    scores[\"overall_feedback\"] = re.findall(r\"OVERALL FEEDBACK: (\\d+(?:\\.\\d+)?)\", full_evaluation)\n",
        "\n",
        "    # Convert list matches to single values\n",
        "    for key in scores:\n",
        "        if scores[key]:\n",
        "            scores[key] = scores[key][0] if isinstance(scores[key], list) else scores[key]\n",
        "\n",
        "    print(\"\\n=== Evaluation Complete ===\\n\")\n",
        "\n",
        "    if report:\n",
        "        with open(f\"evaluation_{current_date}.txt\", \"a\") as f:\n",
        "            f.write(\"\\nScores:\\n\")\n",
        "            f.write(json.dumps(scores, indent=2))\n",
        "            f.write(\"\\n\\n\" + \"=\"*50 + \"\\n\\n\")\n",
        "\n",
        "    return scores\n"
      ],
      "metadata": {
        "id": "KROE_WPtpemZ",
        "collapsed": true
      },
      "id": "KROE_WPtpemZ",
      "execution_count": 34,
      "outputs": []
    },
    {
      "cell_type": "code",
      "source": [
        "from scripts.load_qa_data import load_qa\n",
        "\n",
        "all_questions, all_answers= load_qa()\n",
        "# all_questions"
      ],
      "metadata": {
        "id": "d4OGBk_F5FMV",
        "outputId": "361374c4-f9b8-42a2-916a-a254b6fb4a1a",
        "colab": {
          "base_uri": "https://localhost:8080/"
        }
      },
      "id": "d4OGBk_F5FMV",
      "execution_count": 15,
      "outputs": [
        {
          "output_type": "stream",
          "name": "stdout",
          "text": [
            "loading file  generated_qa/all_covid_data_qa.json\n",
            "loading file  generated_qa/all_asthma_data_qa.json\n",
            "loading file  generated_qa/all_pneumonia_data_qa.json\n",
            "loading file  generated_qa/all_copcd_data_qa.json\n",
            "loading file  generated_qa/all_tuberculosis_data_qa.json\n"
          ]
        }
      ]
    },
    {
      "cell_type": "code",
      "source": [
        "sum_score = 0\n",
        "for i, question in enumerate(all_questions):\n",
        "    response = generate_response(question)\n",
        "    sub_graphs, descriptions = retreival(question, k=3)\n",
        "    context = \"\\n\".join(descriptions)\n",
        "    scores = evaluate_response(question, context, response, all_answers[i], True )\n",
        "    sum_score += float(scores[\"overall_feedback\"])\n",
        "    # print(sum_score)\n",
        "average = sum_score / len(all_questions)\n",
        "print(average)\n",
        "\n",
        "\n"
      ],
      "metadata": {
        "collapsed": true,
        "id": "mw9tctRj5MD9",
        "outputId": "ec332885-242d-4a7d-ca66-0a356e4acd63",
        "colab": {
          "base_uri": "https://localhost:8080/"
        }
      },
      "id": "mw9tctRj5MD9",
      "execution_count": 35,
      "outputs": [
        {
          "output_type": "stream",
          "name": "stdout",
          "text": [
            "inherit model weights from sentence-transformers/all-roberta-large-v1\n"
          ]
        },
        {
          "output_type": "stream",
          "name": "stderr",
          "text": [
            "/usr/local/lib/python3.11/dist-packages/huggingface_hub/file_download.py:943: FutureWarning: `resume_download` is deprecated and will be removed in version 1.0.0. Downloads always resume when possible. If you want to force a new download, use `force_download=True`.\n",
            "  warnings.warn(\n",
            "Retrieving subgraphs: 0it [00:00, ?it/s]\n"
          ]
        },
        {
          "output_type": "stream",
          "name": "stdout",
          "text": [
            "inherit model weights from sentence-transformers/all-roberta-large-v1\n"
          ]
        },
        {
          "output_type": "stream",
          "name": "stderr",
          "text": [
            "Retrieving subgraphs: 0it [00:00, ?it/s]\n"
          ]
        },
        {
          "output_type": "stream",
          "name": "stdout",
          "text": [
            "\n",
            "=== Response Evaluation ===\n",
            "\n",
            "\n",
            "=== Evaluation Complete ===\n",
            "\n",
            "{'clarity_score': '5', 'exactitude_score': '4', 'context_adherence_score': '5', 'relevance_score': '5', 'completeness_score': '3', 'logical_flow_score': '5', 'uncertainty_handling_score': '5', 'overall_feedback': '4.3'}\n",
            "inherit model weights from sentence-transformers/all-roberta-large-v1\n"
          ]
        },
        {
          "output_type": "stream",
          "name": "stderr",
          "text": [
            "Retrieving subgraphs: 0it [00:00, ?it/s]\n"
          ]
        },
        {
          "output_type": "stream",
          "name": "stdout",
          "text": [
            "inherit model weights from sentence-transformers/all-roberta-large-v1\n"
          ]
        },
        {
          "output_type": "stream",
          "name": "stderr",
          "text": [
            "Retrieving subgraphs: 0it [00:00, ?it/s]\n"
          ]
        },
        {
          "output_type": "stream",
          "name": "stdout",
          "text": [
            "\n",
            "=== Response Evaluation ===\n",
            "\n",
            "\n",
            "=== Evaluation Complete ===\n",
            "\n",
            "{'clarity_score': '5', 'exactitude_score': '4', 'context_adherence_score': '5', 'relevance_score': '5', 'completeness_score': '4', 'logical_flow_score': '5', 'uncertainty_handling_score': '5', 'overall_feedback': '4.6'}\n",
            "inherit model weights from sentence-transformers/all-roberta-large-v1\n"
          ]
        },
        {
          "output_type": "stream",
          "name": "stderr",
          "text": [
            "Retrieving subgraphs: 0it [00:00, ?it/s]\n"
          ]
        },
        {
          "output_type": "stream",
          "name": "stdout",
          "text": [
            "inherit model weights from sentence-transformers/all-roberta-large-v1\n"
          ]
        },
        {
          "output_type": "stream",
          "name": "stderr",
          "text": [
            "Retrieving subgraphs: 0it [00:00, ?it/s]\n"
          ]
        },
        {
          "output_type": "stream",
          "name": "stdout",
          "text": [
            "\n",
            "=== Response Evaluation ===\n",
            "\n",
            "\n",
            "=== Evaluation Complete ===\n",
            "\n",
            "{'clarity_score': '5', 'exactitude_score': '4', 'context_adherence_score': '5', 'relevance_score': '5', 'completeness_score': '4', 'logical_flow_score': '5', 'uncertainty_handling_score': '3', 'overall_feedback': '4.4'}\n",
            "inherit model weights from sentence-transformers/all-roberta-large-v1\n"
          ]
        },
        {
          "output_type": "stream",
          "name": "stderr",
          "text": [
            "Retrieving subgraphs: 0it [00:00, ?it/s]\n"
          ]
        },
        {
          "output_type": "stream",
          "name": "stdout",
          "text": [
            "inherit model weights from sentence-transformers/all-roberta-large-v1\n"
          ]
        },
        {
          "output_type": "stream",
          "name": "stderr",
          "text": [
            "Retrieving subgraphs: 0it [00:00, ?it/s]\n"
          ]
        },
        {
          "output_type": "stream",
          "name": "stdout",
          "text": [
            "\n",
            "=== Response Evaluation ===\n",
            "\n",
            "\n",
            "=== Evaluation Complete ===\n",
            "\n",
            "{'clarity_score': '5', 'exactitude_score': '4', 'context_adherence_score': '5', 'relevance_score': '5', 'completeness_score': '4', 'logical_flow_score': '5', 'uncertainty_handling_score': '5', 'overall_feedback': '4.71'}\n",
            "inherit model weights from sentence-transformers/all-roberta-large-v1\n"
          ]
        },
        {
          "output_type": "stream",
          "name": "stderr",
          "text": [
            "Retrieving subgraphs: 0it [00:00, ?it/s]\n"
          ]
        },
        {
          "output_type": "stream",
          "name": "stdout",
          "text": [
            "inherit model weights from sentence-transformers/all-roberta-large-v1\n"
          ]
        },
        {
          "output_type": "stream",
          "name": "stderr",
          "text": [
            "Retrieving subgraphs: 0it [00:00, ?it/s]\n"
          ]
        },
        {
          "output_type": "stream",
          "name": "stdout",
          "text": [
            "\n",
            "=== Response Evaluation ===\n",
            "\n",
            "\n",
            "=== Evaluation Complete ===\n",
            "\n",
            "{'clarity_score': '5', 'exactitude_score': '5', 'context_adherence_score': '5', 'relevance_score': '5', 'completeness_score': '4', 'logical_flow_score': '5', 'uncertainty_handling_score': '5', 'overall_feedback': '4.86'}\n",
            "inherit model weights from sentence-transformers/all-roberta-large-v1\n"
          ]
        },
        {
          "output_type": "stream",
          "name": "stderr",
          "text": [
            "Retrieving subgraphs: 0it [00:00, ?it/s]\n"
          ]
        },
        {
          "output_type": "stream",
          "name": "stdout",
          "text": [
            "inherit model weights from sentence-transformers/all-roberta-large-v1\n"
          ]
        },
        {
          "output_type": "stream",
          "name": "stderr",
          "text": [
            "Retrieving subgraphs: 0it [00:00, ?it/s]\n"
          ]
        },
        {
          "output_type": "stream",
          "name": "stdout",
          "text": [
            "\n",
            "=== Response Evaluation ===\n",
            "\n",
            "\n",
            "=== Evaluation Complete ===\n",
            "\n",
            "{'clarity_score': '5', 'exactitude_score': '4', 'context_adherence_score': '5', 'relevance_score': '5', 'completeness_score': '4', 'logical_flow_score': '5', 'uncertainty_handling_score': '5', 'overall_feedback': '4.6'}\n",
            "inherit model weights from sentence-transformers/all-roberta-large-v1\n"
          ]
        },
        {
          "output_type": "stream",
          "name": "stderr",
          "text": [
            "Retrieving subgraphs: 0it [00:00, ?it/s]\n"
          ]
        },
        {
          "output_type": "stream",
          "name": "stdout",
          "text": [
            "inherit model weights from sentence-transformers/all-roberta-large-v1\n"
          ]
        },
        {
          "output_type": "stream",
          "name": "stderr",
          "text": [
            "Retrieving subgraphs: 0it [00:00, ?it/s]\n"
          ]
        },
        {
          "output_type": "stream",
          "name": "stdout",
          "text": [
            "\n",
            "=== Response Evaluation ===\n",
            "\n",
            "\n",
            "=== Evaluation Complete ===\n",
            "\n",
            "{'clarity_score': '5', 'exactitude_score': '4', 'context_adherence_score': '5', 'relevance_score': '5', 'completeness_score': '4', 'logical_flow_score': '5', 'uncertainty_handling_score': '5', 'overall_feedback': '4.6'}\n",
            "inherit model weights from sentence-transformers/all-roberta-large-v1\n"
          ]
        },
        {
          "output_type": "stream",
          "name": "stderr",
          "text": [
            "Retrieving subgraphs: 0it [00:00, ?it/s]\n"
          ]
        },
        {
          "output_type": "stream",
          "name": "stdout",
          "text": [
            "inherit model weights from sentence-transformers/all-roberta-large-v1\n"
          ]
        },
        {
          "output_type": "stream",
          "name": "stderr",
          "text": [
            "Retrieving subgraphs: 0it [00:00, ?it/s]\n"
          ]
        },
        {
          "output_type": "stream",
          "name": "stdout",
          "text": [
            "\n",
            "=== Response Evaluation ===\n",
            "\n",
            "\n",
            "=== Evaluation Complete ===\n",
            "\n",
            "{'clarity_score': '5', 'exactitude_score': '4', 'context_adherence_score': '5', 'relevance_score': '5', 'completeness_score': '4', 'logical_flow_score': '5', 'uncertainty_handling_score': '5', 'overall_feedback': '4.6'}\n",
            "inherit model weights from sentence-transformers/all-roberta-large-v1\n"
          ]
        },
        {
          "output_type": "stream",
          "name": "stderr",
          "text": [
            "Retrieving subgraphs: 0it [00:00, ?it/s]\n"
          ]
        },
        {
          "output_type": "stream",
          "name": "stdout",
          "text": [
            "inherit model weights from sentence-transformers/all-roberta-large-v1\n"
          ]
        },
        {
          "output_type": "stream",
          "name": "stderr",
          "text": [
            "Retrieving subgraphs: 0it [00:00, ?it/s]\n"
          ]
        },
        {
          "output_type": "stream",
          "name": "stdout",
          "text": [
            "\n",
            "=== Response Evaluation ===\n",
            "\n",
            "\n",
            "=== Evaluation Complete ===\n",
            "\n",
            "{'clarity_score': '5', 'exactitude_score': '5', 'context_adherence_score': '5', 'relevance_score': '5', 'completeness_score': '5', 'logical_flow_score': '5', 'uncertainty_handling_score': '4', 'overall_feedback': '4.86'}\n",
            "inherit model weights from sentence-transformers/all-roberta-large-v1\n"
          ]
        },
        {
          "output_type": "stream",
          "name": "stderr",
          "text": [
            "Retrieving subgraphs: 0it [00:00, ?it/s]\n"
          ]
        },
        {
          "output_type": "stream",
          "name": "stdout",
          "text": [
            "inherit model weights from sentence-transformers/all-roberta-large-v1\n"
          ]
        },
        {
          "output_type": "stream",
          "name": "stderr",
          "text": [
            "Retrieving subgraphs: 0it [00:00, ?it/s]\n"
          ]
        },
        {
          "output_type": "stream",
          "name": "stdout",
          "text": [
            "\n",
            "=== Response Evaluation ===\n",
            "\n",
            "\n",
            "=== Evaluation Complete ===\n",
            "\n",
            "{'clarity_score': '5', 'exactitude_score': '5', 'context_adherence_score': '5', 'relevance_score': '5', 'completeness_score': '5', 'logical_flow_score': '5', 'uncertainty_handling_score': '4', 'overall_feedback': '4.86'}\n",
            "inherit model weights from sentence-transformers/all-roberta-large-v1\n"
          ]
        },
        {
          "output_type": "stream",
          "name": "stderr",
          "text": [
            "Retrieving subgraphs: 0it [00:00, ?it/s]\n"
          ]
        },
        {
          "output_type": "stream",
          "name": "stdout",
          "text": [
            "inherit model weights from sentence-transformers/all-roberta-large-v1\n"
          ]
        },
        {
          "output_type": "stream",
          "name": "stderr",
          "text": [
            "Retrieving subgraphs: 0it [00:00, ?it/s]\n"
          ]
        },
        {
          "output_type": "stream",
          "name": "stdout",
          "text": [
            "\n",
            "=== Response Evaluation ===\n",
            "\n",
            "\n",
            "=== Evaluation Complete ===\n",
            "\n",
            "{'clarity_score': '5', 'exactitude_score': '5', 'context_adherence_score': '5', 'relevance_score': '5', 'completeness_score': '4', 'logical_flow_score': '5', 'uncertainty_handling_score': '5', 'overall_feedback': '4.86'}\n",
            "inherit model weights from sentence-transformers/all-roberta-large-v1\n"
          ]
        },
        {
          "output_type": "stream",
          "name": "stderr",
          "text": [
            "Retrieving subgraphs: 0it [00:00, ?it/s]\n"
          ]
        },
        {
          "output_type": "stream",
          "name": "stdout",
          "text": [
            "inherit model weights from sentence-transformers/all-roberta-large-v1\n"
          ]
        },
        {
          "output_type": "stream",
          "name": "stderr",
          "text": [
            "Retrieving subgraphs: 0it [00:00, ?it/s]\n"
          ]
        },
        {
          "output_type": "stream",
          "name": "stdout",
          "text": [
            "\n",
            "=== Response Evaluation ===\n",
            "\n",
            "\n",
            "=== Evaluation Complete ===\n",
            "\n",
            "{'clarity_score': '5', 'exactitude_score': '5', 'context_adherence_score': '5', 'relevance_score': '5', 'completeness_score': '5', 'logical_flow_score': '5', 'uncertainty_handling_score': '4', 'overall_feedback': '4.86'}\n",
            "inherit model weights from sentence-transformers/all-roberta-large-v1\n"
          ]
        },
        {
          "output_type": "stream",
          "name": "stderr",
          "text": [
            "Retrieving subgraphs: 0it [00:00, ?it/s]\n"
          ]
        },
        {
          "output_type": "stream",
          "name": "stdout",
          "text": [
            "inherit model weights from sentence-transformers/all-roberta-large-v1\n"
          ]
        },
        {
          "output_type": "stream",
          "name": "stderr",
          "text": [
            "Retrieving subgraphs: 0it [00:00, ?it/s]\n"
          ]
        },
        {
          "output_type": "stream",
          "name": "stdout",
          "text": [
            "\n",
            "=== Response Evaluation ===\n",
            "\n",
            "\n",
            "=== Evaluation Complete ===\n",
            "\n",
            "{'clarity_score': '5', 'exactitude_score': '5', 'context_adherence_score': '5', 'relevance_score': '5', 'completeness_score': '5', 'logical_flow_score': '5', 'uncertainty_handling_score': '4', 'overall_feedback': '4.86'}\n",
            "inherit model weights from sentence-transformers/all-roberta-large-v1\n"
          ]
        },
        {
          "output_type": "stream",
          "name": "stderr",
          "text": [
            "Retrieving subgraphs: 0it [00:00, ?it/s]\n"
          ]
        },
        {
          "output_type": "stream",
          "name": "stdout",
          "text": [
            "inherit model weights from sentence-transformers/all-roberta-large-v1\n"
          ]
        },
        {
          "output_type": "stream",
          "name": "stderr",
          "text": [
            "Retrieving subgraphs: 0it [00:00, ?it/s]\n"
          ]
        },
        {
          "output_type": "stream",
          "name": "stdout",
          "text": [
            "\n",
            "=== Response Evaluation ===\n",
            "\n",
            "\n",
            "=== Evaluation Complete ===\n",
            "\n",
            "{'clarity_score': '5', 'exactitude_score': '5', 'context_adherence_score': '4', 'relevance_score': '5', 'completeness_score': '5', 'logical_flow_score': '5', 'uncertainty_handling_score': '5', 'overall_feedback': '4.86'}\n",
            "inherit model weights from sentence-transformers/all-roberta-large-v1\n"
          ]
        },
        {
          "output_type": "stream",
          "name": "stderr",
          "text": [
            "Retrieving subgraphs: 0it [00:00, ?it/s]\n"
          ]
        },
        {
          "output_type": "stream",
          "name": "stdout",
          "text": [
            "inherit model weights from sentence-transformers/all-roberta-large-v1\n"
          ]
        },
        {
          "output_type": "stream",
          "name": "stderr",
          "text": [
            "Retrieving subgraphs: 0it [00:00, ?it/s]\n"
          ]
        },
        {
          "output_type": "stream",
          "name": "stdout",
          "text": [
            "\n",
            "=== Response Evaluation ===\n",
            "\n",
            "\n",
            "=== Evaluation Complete ===\n",
            "\n",
            "{'clarity_score': '5', 'exactitude_score': '5', 'context_adherence_score': '5', 'relevance_score': '5', 'completeness_score': '5', 'logical_flow_score': '5', 'uncertainty_handling_score': '4', 'overall_feedback': '4.86'}\n",
            "inherit model weights from sentence-transformers/all-roberta-large-v1\n"
          ]
        },
        {
          "output_type": "stream",
          "name": "stderr",
          "text": [
            "Retrieving subgraphs: 0it [00:00, ?it/s]\n"
          ]
        },
        {
          "output_type": "stream",
          "name": "stdout",
          "text": [
            "inherit model weights from sentence-transformers/all-roberta-large-v1\n"
          ]
        },
        {
          "output_type": "stream",
          "name": "stderr",
          "text": [
            "Retrieving subgraphs: 0it [00:00, ?it/s]\n"
          ]
        },
        {
          "output_type": "stream",
          "name": "stdout",
          "text": [
            "\n",
            "=== Response Evaluation ===\n",
            "\n",
            "\n",
            "=== Evaluation Complete ===\n",
            "\n",
            "{'clarity_score': '5', 'exactitude_score': '5', 'context_adherence_score': '5', 'relevance_score': '5', 'completeness_score': '5', 'logical_flow_score': '5', 'uncertainty_handling_score': '4', 'overall_feedback': '4.86'}\n",
            "inherit model weights from sentence-transformers/all-roberta-large-v1\n"
          ]
        },
        {
          "output_type": "stream",
          "name": "stderr",
          "text": [
            "Retrieving subgraphs: 0it [00:00, ?it/s]\n"
          ]
        },
        {
          "output_type": "stream",
          "name": "stdout",
          "text": [
            "inherit model weights from sentence-transformers/all-roberta-large-v1\n"
          ]
        },
        {
          "output_type": "stream",
          "name": "stderr",
          "text": [
            "Retrieving subgraphs: 0it [00:00, ?it/s]\n"
          ]
        },
        {
          "output_type": "stream",
          "name": "stdout",
          "text": [
            "\n",
            "=== Response Evaluation ===\n",
            "\n",
            "\n",
            "=== Evaluation Complete ===\n",
            "\n",
            "{'clarity_score': '5', 'exactitude_score': '5', 'context_adherence_score': '5', 'relevance_score': '5', 'completeness_score': '5', 'logical_flow_score': '5', 'uncertainty_handling_score': '4', 'overall_feedback': '4.86'}\n",
            "inherit model weights from sentence-transformers/all-roberta-large-v1\n"
          ]
        },
        {
          "output_type": "stream",
          "name": "stderr",
          "text": [
            "Retrieving subgraphs: 0it [00:00, ?it/s]\n"
          ]
        },
        {
          "output_type": "stream",
          "name": "stdout",
          "text": [
            "inherit model weights from sentence-transformers/all-roberta-large-v1\n"
          ]
        },
        {
          "output_type": "stream",
          "name": "stderr",
          "text": [
            "Retrieving subgraphs: 0it [00:00, ?it/s]\n"
          ]
        },
        {
          "output_type": "stream",
          "name": "stdout",
          "text": [
            "\n",
            "=== Response Evaluation ===\n",
            "\n",
            "\n",
            "=== Evaluation Complete ===\n",
            "\n",
            "{'clarity_score': '5', 'exactitude_score': '5', 'context_adherence_score': '5', 'relevance_score': '5', 'completeness_score': '5', 'logical_flow_score': '5', 'uncertainty_handling_score': '4', 'overall_feedback': '4.86'}\n",
            "inherit model weights from sentence-transformers/all-roberta-large-v1\n"
          ]
        },
        {
          "output_type": "stream",
          "name": "stderr",
          "text": [
            "Retrieving subgraphs: 0it [00:00, ?it/s]\n"
          ]
        },
        {
          "output_type": "stream",
          "name": "stdout",
          "text": [
            "inherit model weights from sentence-transformers/all-roberta-large-v1\n"
          ]
        },
        {
          "output_type": "stream",
          "name": "stderr",
          "text": [
            "Retrieving subgraphs: 0it [00:00, ?it/s]\n"
          ]
        },
        {
          "output_type": "stream",
          "name": "stdout",
          "text": [
            "\n",
            "=== Response Evaluation ===\n",
            "\n",
            "\n",
            "=== Evaluation Complete ===\n",
            "\n",
            "{'clarity_score': '5', 'exactitude_score': '4', 'context_adherence_score': '5', 'relevance_score': '5', 'completeness_score': '4', 'logical_flow_score': '5', 'uncertainty_handling_score': '5', 'overall_feedback': '4.57'}\n",
            "inherit model weights from sentence-transformers/all-roberta-large-v1\n"
          ]
        },
        {
          "output_type": "stream",
          "name": "stderr",
          "text": [
            "Retrieving subgraphs: 0it [00:00, ?it/s]\n"
          ]
        },
        {
          "output_type": "stream",
          "name": "stdout",
          "text": [
            "inherit model weights from sentence-transformers/all-roberta-large-v1\n"
          ]
        },
        {
          "output_type": "stream",
          "name": "stderr",
          "text": [
            "Retrieving subgraphs: 0it [00:00, ?it/s]\n"
          ]
        },
        {
          "output_type": "stream",
          "name": "stdout",
          "text": [
            "\n",
            "=== Response Evaluation ===\n",
            "\n",
            "\n",
            "=== Evaluation Complete ===\n",
            "\n",
            "{'clarity_score': '4', 'exactitude_score': '5', 'context_adherence_score': '5', 'relevance_score': '5', 'completeness_score': '4', 'logical_flow_score': '4', 'uncertainty_handling_score': '3', 'overall_feedback': '4.1'}\n",
            "inherit model weights from sentence-transformers/all-roberta-large-v1\n"
          ]
        },
        {
          "output_type": "stream",
          "name": "stderr",
          "text": [
            "Retrieving subgraphs: 0it [00:00, ?it/s]\n"
          ]
        },
        {
          "output_type": "stream",
          "name": "stdout",
          "text": [
            "inherit model weights from sentence-transformers/all-roberta-large-v1\n"
          ]
        },
        {
          "output_type": "stream",
          "name": "stderr",
          "text": [
            "Retrieving subgraphs: 0it [00:00, ?it/s]\n"
          ]
        },
        {
          "output_type": "stream",
          "name": "stdout",
          "text": [
            "\n",
            "=== Response Evaluation ===\n",
            "\n",
            "\n",
            "=== Evaluation Complete ===\n",
            "\n",
            "{'clarity_score': '5', 'exactitude_score': '4', 'context_adherence_score': '5', 'relevance_score': '5', 'completeness_score': '4', 'logical_flow_score': '5', 'uncertainty_handling_score': '3', 'overall_feedback': '4.4'}\n",
            "inherit model weights from sentence-transformers/all-roberta-large-v1\n"
          ]
        },
        {
          "output_type": "stream",
          "name": "stderr",
          "text": [
            "Retrieving subgraphs: 0it [00:00, ?it/s]\n"
          ]
        },
        {
          "output_type": "stream",
          "name": "stdout",
          "text": [
            "inherit model weights from sentence-transformers/all-roberta-large-v1\n"
          ]
        },
        {
          "output_type": "stream",
          "name": "stderr",
          "text": [
            "Retrieving subgraphs: 0it [00:00, ?it/s]\n"
          ]
        },
        {
          "output_type": "stream",
          "name": "stdout",
          "text": [
            "\n",
            "=== Response Evaluation ===\n",
            "\n",
            "\n",
            "=== Evaluation Complete ===\n",
            "\n",
            "{'clarity_score': '5', 'exactitude_score': '4', 'context_adherence_score': '5', 'relevance_score': '5', 'completeness_score': '4', 'logical_flow_score': '5', 'uncertainty_handling_score': '5', 'overall_feedback': '4.57'}\n",
            "inherit model weights from sentence-transformers/all-roberta-large-v1\n"
          ]
        },
        {
          "output_type": "stream",
          "name": "stderr",
          "text": [
            "Retrieving subgraphs: 0it [00:00, ?it/s]\n"
          ]
        },
        {
          "output_type": "stream",
          "name": "stdout",
          "text": [
            "inherit model weights from sentence-transformers/all-roberta-large-v1\n"
          ]
        },
        {
          "output_type": "stream",
          "name": "stderr",
          "text": [
            "Retrieving subgraphs: 0it [00:00, ?it/s]\n"
          ]
        },
        {
          "output_type": "stream",
          "name": "stdout",
          "text": [
            "\n",
            "=== Response Evaluation ===\n",
            "\n",
            "\n",
            "=== Evaluation Complete ===\n",
            "\n",
            "{'clarity_score': '5', 'exactitude_score': '4', 'context_adherence_score': '5', 'relevance_score': '5', 'completeness_score': '4', 'logical_flow_score': '5', 'uncertainty_handling_score': '5', 'overall_feedback': '4.6'}\n",
            "inherit model weights from sentence-transformers/all-roberta-large-v1\n"
          ]
        },
        {
          "output_type": "stream",
          "name": "stderr",
          "text": [
            "Retrieving subgraphs: 0it [00:00, ?it/s]\n"
          ]
        },
        {
          "output_type": "stream",
          "name": "stdout",
          "text": [
            "inherit model weights from sentence-transformers/all-roberta-large-v1\n"
          ]
        },
        {
          "output_type": "stream",
          "name": "stderr",
          "text": [
            "Retrieving subgraphs: 0it [00:00, ?it/s]\n"
          ]
        },
        {
          "output_type": "stream",
          "name": "stdout",
          "text": [
            "\n",
            "=== Response Evaluation ===\n",
            "\n",
            "\n",
            "=== Evaluation Complete ===\n",
            "\n",
            "{'clarity_score': '5', 'exactitude_score': '4', 'context_adherence_score': '5', 'relevance_score': '5', 'completeness_score': '4', 'logical_flow_score': '5', 'uncertainty_handling_score': '5', 'overall_feedback': '4.7'}\n",
            "inherit model weights from sentence-transformers/all-roberta-large-v1\n"
          ]
        },
        {
          "output_type": "stream",
          "name": "stderr",
          "text": [
            "Retrieving subgraphs: 0it [00:00, ?it/s]\n"
          ]
        },
        {
          "output_type": "stream",
          "name": "stdout",
          "text": [
            "inherit model weights from sentence-transformers/all-roberta-large-v1\n"
          ]
        },
        {
          "output_type": "stream",
          "name": "stderr",
          "text": [
            "Retrieving subgraphs: 0it [00:00, ?it/s]\n"
          ]
        },
        {
          "output_type": "stream",
          "name": "stdout",
          "text": [
            "\n",
            "=== Response Evaluation ===\n",
            "\n",
            "\n",
            "=== Evaluation Complete ===\n",
            "\n",
            "{'clarity_score': '5', 'exactitude_score': '4', 'context_adherence_score': '5', 'relevance_score': '5', 'completeness_score': '4', 'logical_flow_score': '5', 'uncertainty_handling_score': '5', 'overall_feedback': '4.6'}\n",
            "inherit model weights from sentence-transformers/all-roberta-large-v1\n"
          ]
        },
        {
          "output_type": "stream",
          "name": "stderr",
          "text": [
            "Retrieving subgraphs: 0it [00:00, ?it/s]\n"
          ]
        },
        {
          "output_type": "stream",
          "name": "stdout",
          "text": [
            "inherit model weights from sentence-transformers/all-roberta-large-v1\n"
          ]
        },
        {
          "output_type": "stream",
          "name": "stderr",
          "text": [
            "Retrieving subgraphs: 0it [00:00, ?it/s]\n"
          ]
        },
        {
          "output_type": "stream",
          "name": "stdout",
          "text": [
            "\n",
            "=== Response Evaluation ===\n",
            "\n",
            "\n",
            "=== Evaluation Complete ===\n",
            "\n",
            "{'clarity_score': '5', 'exactitude_score': '5', 'context_adherence_score': '5', 'relevance_score': '5', 'completeness_score': '5', 'logical_flow_score': '5', 'uncertainty_handling_score': '4', 'overall_feedback': '4.86'}\n",
            "inherit model weights from sentence-transformers/all-roberta-large-v1\n"
          ]
        },
        {
          "output_type": "stream",
          "name": "stderr",
          "text": [
            "Retrieving subgraphs: 0it [00:00, ?it/s]\n"
          ]
        },
        {
          "output_type": "stream",
          "name": "stdout",
          "text": [
            "inherit model weights from sentence-transformers/all-roberta-large-v1\n"
          ]
        },
        {
          "output_type": "stream",
          "name": "stderr",
          "text": [
            "Retrieving subgraphs: 0it [00:00, ?it/s]\n"
          ]
        },
        {
          "output_type": "stream",
          "name": "stdout",
          "text": [
            "\n",
            "=== Response Evaluation ===\n",
            "\n",
            "\n",
            "=== Evaluation Complete ===\n",
            "\n",
            "{'clarity_score': '5', 'exactitude_score': '4', 'context_adherence_score': '1', 'relevance_score': '5', 'completeness_score': '4', 'logical_flow_score': '5', 'uncertainty_handling_score': '5', 'overall_feedback': '4.0'}\n",
            "inherit model weights from sentence-transformers/all-roberta-large-v1\n"
          ]
        },
        {
          "output_type": "stream",
          "name": "stderr",
          "text": [
            "Retrieving subgraphs: 0it [00:00, ?it/s]\n"
          ]
        },
        {
          "output_type": "stream",
          "name": "stdout",
          "text": [
            "inherit model weights from sentence-transformers/all-roberta-large-v1\n"
          ]
        },
        {
          "output_type": "stream",
          "name": "stderr",
          "text": [
            "Retrieving subgraphs: 0it [00:00, ?it/s]\n"
          ]
        },
        {
          "output_type": "stream",
          "name": "stdout",
          "text": [
            "\n",
            "=== Response Evaluation ===\n",
            "\n",
            "\n",
            "=== Evaluation Complete ===\n",
            "\n",
            "{'clarity_score': '5', 'exactitude_score': '4', 'context_adherence_score': '5', 'relevance_score': '5', 'completeness_score': '4', 'logical_flow_score': '5', 'uncertainty_handling_score': '5', 'overall_feedback': '4.6'}\n",
            "inherit model weights from sentence-transformers/all-roberta-large-v1\n"
          ]
        },
        {
          "output_type": "stream",
          "name": "stderr",
          "text": [
            "Retrieving subgraphs: 0it [00:00, ?it/s]\n"
          ]
        },
        {
          "output_type": "stream",
          "name": "stdout",
          "text": [
            "inherit model weights from sentence-transformers/all-roberta-large-v1\n"
          ]
        },
        {
          "output_type": "stream",
          "name": "stderr",
          "text": [
            "Retrieving subgraphs: 0it [00:00, ?it/s]\n"
          ]
        },
        {
          "output_type": "stream",
          "name": "stdout",
          "text": [
            "\n",
            "=== Response Evaluation ===\n",
            "\n",
            "\n",
            "=== Evaluation Complete ===\n",
            "\n",
            "{'clarity_score': '5', 'exactitude_score': '4', 'context_adherence_score': '5', 'relevance_score': '5', 'completeness_score': '4', 'logical_flow_score': '5', 'uncertainty_handling_score': '5', 'overall_feedback': '4.6'}\n",
            "inherit model weights from sentence-transformers/all-roberta-large-v1\n"
          ]
        },
        {
          "output_type": "stream",
          "name": "stderr",
          "text": [
            "Retrieving subgraphs: 0it [00:00, ?it/s]\n"
          ]
        },
        {
          "output_type": "stream",
          "name": "stdout",
          "text": [
            "inherit model weights from sentence-transformers/all-roberta-large-v1\n"
          ]
        },
        {
          "output_type": "stream",
          "name": "stderr",
          "text": [
            "Retrieving subgraphs: 0it [00:00, ?it/s]\n"
          ]
        },
        {
          "output_type": "stream",
          "name": "stdout",
          "text": [
            "\n",
            "=== Response Evaluation ===\n",
            "\n",
            "\n",
            "=== Evaluation Complete ===\n",
            "\n",
            "{'clarity_score': '5', 'exactitude_score': '4', 'context_adherence_score': '5', 'relevance_score': '5', 'completeness_score': '4', 'logical_flow_score': '5', 'uncertainty_handling_score': '5', 'overall_feedback': '4.6'}\n",
            "inherit model weights from sentence-transformers/all-roberta-large-v1\n"
          ]
        },
        {
          "output_type": "stream",
          "name": "stderr",
          "text": [
            "Retrieving subgraphs: 0it [00:00, ?it/s]\n"
          ]
        },
        {
          "output_type": "stream",
          "name": "stdout",
          "text": [
            "inherit model weights from sentence-transformers/all-roberta-large-v1\n"
          ]
        },
        {
          "output_type": "stream",
          "name": "stderr",
          "text": [
            "Retrieving subgraphs: 0it [00:00, ?it/s]\n"
          ]
        },
        {
          "output_type": "stream",
          "name": "stdout",
          "text": [
            "\n",
            "=== Response Evaluation ===\n",
            "\n",
            "\n",
            "=== Evaluation Complete ===\n",
            "\n",
            "{'clarity_score': '5', 'exactitude_score': '5', 'context_adherence_score': '5', 'relevance_score': '5', 'completeness_score': '5', 'logical_flow_score': '5', 'uncertainty_handling_score': '4', 'overall_feedback': '4.86'}\n",
            "inherit model weights from sentence-transformers/all-roberta-large-v1\n"
          ]
        },
        {
          "output_type": "stream",
          "name": "stderr",
          "text": [
            "Retrieving subgraphs: 0it [00:00, ?it/s]\n"
          ]
        },
        {
          "output_type": "stream",
          "name": "stdout",
          "text": [
            "inherit model weights from sentence-transformers/all-roberta-large-v1\n"
          ]
        },
        {
          "output_type": "stream",
          "name": "stderr",
          "text": [
            "Retrieving subgraphs: 0it [00:00, ?it/s]\n"
          ]
        },
        {
          "output_type": "stream",
          "name": "stdout",
          "text": [
            "\n",
            "=== Response Evaluation ===\n",
            "\n",
            "\n",
            "=== Evaluation Complete ===\n",
            "\n",
            "{'clarity_score': '5', 'exactitude_score': '5', 'context_adherence_score': '5', 'relevance_score': '5', 'completeness_score': '5', 'logical_flow_score': '5', 'uncertainty_handling_score': '5', 'overall_feedback': '5'}\n",
            "inherit model weights from sentence-transformers/all-roberta-large-v1\n"
          ]
        },
        {
          "output_type": "stream",
          "name": "stderr",
          "text": [
            "Retrieving subgraphs: 0it [00:00, ?it/s]\n"
          ]
        },
        {
          "output_type": "stream",
          "name": "stdout",
          "text": [
            "inherit model weights from sentence-transformers/all-roberta-large-v1\n"
          ]
        },
        {
          "output_type": "stream",
          "name": "stderr",
          "text": [
            "Retrieving subgraphs: 0it [00:00, ?it/s]\n"
          ]
        },
        {
          "output_type": "stream",
          "name": "stdout",
          "text": [
            "\n",
            "=== Response Evaluation ===\n",
            "\n",
            "\n",
            "=== Evaluation Complete ===\n",
            "\n",
            "{'clarity_score': '5', 'exactitude_score': '4', 'context_adherence_score': '5', 'relevance_score': '5', 'completeness_score': '4', 'logical_flow_score': '5', 'uncertainty_handling_score': '4', 'overall_feedback': '4.4'}\n",
            "inherit model weights from sentence-transformers/all-roberta-large-v1\n"
          ]
        },
        {
          "output_type": "stream",
          "name": "stderr",
          "text": [
            "Retrieving subgraphs: 0it [00:00, ?it/s]\n"
          ]
        },
        {
          "output_type": "stream",
          "name": "stdout",
          "text": [
            "inherit model weights from sentence-transformers/all-roberta-large-v1\n"
          ]
        },
        {
          "output_type": "stream",
          "name": "stderr",
          "text": [
            "Retrieving subgraphs: 0it [00:00, ?it/s]\n"
          ]
        },
        {
          "output_type": "stream",
          "name": "stdout",
          "text": [
            "\n",
            "=== Response Evaluation ===\n",
            "\n",
            "\n",
            "=== Evaluation Complete ===\n",
            "\n",
            "{'clarity_score': '5', 'exactitude_score': '5', 'context_adherence_score': '5', 'relevance_score': '5', 'completeness_score': '5', 'logical_flow_score': '5', 'uncertainty_handling_score': '4', 'overall_feedback': '4.86'}\n",
            "inherit model weights from sentence-transformers/all-roberta-large-v1\n"
          ]
        },
        {
          "output_type": "stream",
          "name": "stderr",
          "text": [
            "Retrieving subgraphs: 0it [00:00, ?it/s]\n"
          ]
        },
        {
          "output_type": "stream",
          "name": "stdout",
          "text": [
            "inherit model weights from sentence-transformers/all-roberta-large-v1\n"
          ]
        },
        {
          "output_type": "stream",
          "name": "stderr",
          "text": [
            "Retrieving subgraphs: 0it [00:00, ?it/s]\n"
          ]
        },
        {
          "output_type": "stream",
          "name": "stdout",
          "text": [
            "\n",
            "=== Response Evaluation ===\n",
            "\n",
            "\n",
            "=== Evaluation Complete ===\n",
            "\n",
            "{'clarity_score': '5', 'exactitude_score': '5', 'context_adherence_score': '5', 'relevance_score': '5', 'completeness_score': '4', 'logical_flow_score': '5', 'uncertainty_handling_score': '4', 'overall_feedback': '4.7'}\n",
            "inherit model weights from sentence-transformers/all-roberta-large-v1\n"
          ]
        },
        {
          "output_type": "stream",
          "name": "stderr",
          "text": [
            "Retrieving subgraphs: 0it [00:00, ?it/s]\n"
          ]
        },
        {
          "output_type": "stream",
          "name": "stdout",
          "text": [
            "inherit model weights from sentence-transformers/all-roberta-large-v1\n"
          ]
        },
        {
          "output_type": "stream",
          "name": "stderr",
          "text": [
            "Retrieving subgraphs: 0it [00:00, ?it/s]\n"
          ]
        },
        {
          "output_type": "stream",
          "name": "stdout",
          "text": [
            "\n",
            "=== Response Evaluation ===\n",
            "\n",
            "\n",
            "=== Evaluation Complete ===\n",
            "\n",
            "{'clarity_score': '5', 'exactitude_score': '5', 'context_adherence_score': '5', 'relevance_score': '5', 'completeness_score': '5', 'logical_flow_score': '5', 'uncertainty_handling_score': '3', 'overall_feedback': '4.86'}\n",
            "inherit model weights from sentence-transformers/all-roberta-large-v1\n"
          ]
        },
        {
          "output_type": "stream",
          "name": "stderr",
          "text": [
            "Retrieving subgraphs: 0it [00:00, ?it/s]\n"
          ]
        },
        {
          "output_type": "stream",
          "name": "stdout",
          "text": [
            "inherit model weights from sentence-transformers/all-roberta-large-v1\n"
          ]
        },
        {
          "output_type": "stream",
          "name": "stderr",
          "text": [
            "Retrieving subgraphs: 0it [00:00, ?it/s]\n"
          ]
        },
        {
          "output_type": "stream",
          "name": "stdout",
          "text": [
            "\n",
            "=== Response Evaluation ===\n",
            "\n",
            "\n",
            "=== Evaluation Complete ===\n",
            "\n",
            "{'clarity_score': '5', 'exactitude_score': '5', 'context_adherence_score': '5', 'relevance_score': '5', 'completeness_score': '5', 'logical_flow_score': '5', 'uncertainty_handling_score': '4', 'overall_feedback': '4.86'}\n",
            "inherit model weights from sentence-transformers/all-roberta-large-v1\n"
          ]
        },
        {
          "output_type": "stream",
          "name": "stderr",
          "text": [
            "Retrieving subgraphs: 0it [00:00, ?it/s]\n"
          ]
        },
        {
          "output_type": "stream",
          "name": "stdout",
          "text": [
            "inherit model weights from sentence-transformers/all-roberta-large-v1\n"
          ]
        },
        {
          "output_type": "stream",
          "name": "stderr",
          "text": [
            "Retrieving subgraphs: 0it [00:00, ?it/s]\n"
          ]
        },
        {
          "output_type": "stream",
          "name": "stdout",
          "text": [
            "\n",
            "=== Response Evaluation ===\n",
            "\n",
            "\n",
            "=== Evaluation Complete ===\n",
            "\n",
            "{'clarity_score': '5', 'exactitude_score': '4', 'context_adherence_score': '5', 'relevance_score': '5', 'completeness_score': '3', 'logical_flow_score': '5', 'uncertainty_handling_score': '5', 'overall_feedback': '4.3'}\n",
            "inherit model weights from sentence-transformers/all-roberta-large-v1\n"
          ]
        },
        {
          "output_type": "stream",
          "name": "stderr",
          "text": [
            "Retrieving subgraphs: 0it [00:00, ?it/s]\n"
          ]
        },
        {
          "output_type": "stream",
          "name": "stdout",
          "text": [
            "inherit model weights from sentence-transformers/all-roberta-large-v1\n"
          ]
        },
        {
          "output_type": "stream",
          "name": "stderr",
          "text": [
            "Retrieving subgraphs: 0it [00:00, ?it/s]\n"
          ]
        },
        {
          "output_type": "stream",
          "name": "stdout",
          "text": [
            "\n",
            "=== Response Evaluation ===\n",
            "\n",
            "\n",
            "=== Evaluation Complete ===\n",
            "\n",
            "{'clarity_score': '5', 'exactitude_score': '5', 'context_adherence_score': '5', 'relevance_score': '5', 'completeness_score': '5', 'logical_flow_score': '5', 'uncertainty_handling_score': '4', 'overall_feedback': '4.86'}\n",
            "inherit model weights from sentence-transformers/all-roberta-large-v1\n"
          ]
        },
        {
          "output_type": "stream",
          "name": "stderr",
          "text": [
            "Retrieving subgraphs: 0it [00:00, ?it/s]\n"
          ]
        },
        {
          "output_type": "stream",
          "name": "stdout",
          "text": [
            "inherit model weights from sentence-transformers/all-roberta-large-v1\n"
          ]
        },
        {
          "output_type": "stream",
          "name": "stderr",
          "text": [
            "Retrieving subgraphs: 0it [00:00, ?it/s]\n"
          ]
        },
        {
          "output_type": "stream",
          "name": "stdout",
          "text": [
            "\n",
            "=== Response Evaluation ===\n",
            "\n",
            "\n",
            "=== Evaluation Complete ===\n",
            "\n",
            "{'clarity_score': '5', 'exactitude_score': '4', 'context_adherence_score': '3', 'relevance_score': '5', 'completeness_score': '4', 'logical_flow_score': '5', 'uncertainty_handling_score': '5', 'overall_feedback': '4.3'}\n",
            "inherit model weights from sentence-transformers/all-roberta-large-v1\n"
          ]
        },
        {
          "output_type": "stream",
          "name": "stderr",
          "text": [
            "Retrieving subgraphs: 0it [00:00, ?it/s]\n"
          ]
        },
        {
          "output_type": "stream",
          "name": "stdout",
          "text": [
            "inherit model weights from sentence-transformers/all-roberta-large-v1\n"
          ]
        },
        {
          "output_type": "stream",
          "name": "stderr",
          "text": [
            "Retrieving subgraphs: 0it [00:00, ?it/s]\n"
          ]
        },
        {
          "output_type": "stream",
          "name": "stdout",
          "text": [
            "\n",
            "=== Response Evaluation ===\n",
            "\n",
            "\n",
            "=== Evaluation Complete ===\n",
            "\n",
            "{'clarity_score': '5', 'exactitude_score': '5', 'context_adherence_score': '5', 'relevance_score': '5', 'completeness_score': '5', 'logical_flow_score': '5', 'uncertainty_handling_score': '5', 'overall_feedback': '5'}\n",
            "inherit model weights from sentence-transformers/all-roberta-large-v1\n"
          ]
        },
        {
          "output_type": "stream",
          "name": "stderr",
          "text": [
            "Retrieving subgraphs: 0it [00:00, ?it/s]\n"
          ]
        },
        {
          "output_type": "stream",
          "name": "stdout",
          "text": [
            "inherit model weights from sentence-transformers/all-roberta-large-v1\n"
          ]
        },
        {
          "output_type": "stream",
          "name": "stderr",
          "text": [
            "Retrieving subgraphs: 0it [00:00, ?it/s]\n"
          ]
        },
        {
          "output_type": "stream",
          "name": "stdout",
          "text": [
            "\n",
            "=== Response Evaluation ===\n",
            "\n",
            "\n",
            "=== Evaluation Complete ===\n",
            "\n",
            "{'clarity_score': '5', 'exactitude_score': '4', 'context_adherence_score': '5', 'relevance_score': '5', 'completeness_score': '4', 'logical_flow_score': '5', 'uncertainty_handling_score': '3', 'overall_feedback': '4.4'}\n",
            "inherit model weights from sentence-transformers/all-roberta-large-v1\n"
          ]
        },
        {
          "output_type": "stream",
          "name": "stderr",
          "text": [
            "Retrieving subgraphs: 0it [00:00, ?it/s]\n"
          ]
        },
        {
          "output_type": "stream",
          "name": "stdout",
          "text": [
            "inherit model weights from sentence-transformers/all-roberta-large-v1\n"
          ]
        },
        {
          "output_type": "stream",
          "name": "stderr",
          "text": [
            "Retrieving subgraphs: 0it [00:00, ?it/s]\n"
          ]
        },
        {
          "output_type": "stream",
          "name": "stdout",
          "text": [
            "\n",
            "=== Response Evaluation ===\n",
            "\n",
            "\n",
            "=== Evaluation Complete ===\n",
            "\n",
            "{'clarity_score': '5', 'exactitude_score': '5', 'context_adherence_score': '5', 'relevance_score': '5', 'completeness_score': '5', 'logical_flow_score': '5', 'uncertainty_handling_score': '5', 'overall_feedback': '5'}\n",
            "inherit model weights from sentence-transformers/all-roberta-large-v1\n"
          ]
        },
        {
          "output_type": "stream",
          "name": "stderr",
          "text": [
            "Retrieving subgraphs: 0it [00:00, ?it/s]\n"
          ]
        },
        {
          "output_type": "stream",
          "name": "stdout",
          "text": [
            "inherit model weights from sentence-transformers/all-roberta-large-v1\n"
          ]
        },
        {
          "output_type": "stream",
          "name": "stderr",
          "text": [
            "Retrieving subgraphs: 0it [00:00, ?it/s]\n"
          ]
        },
        {
          "output_type": "stream",
          "name": "stdout",
          "text": [
            "\n",
            "=== Response Evaluation ===\n",
            "\n",
            "\n",
            "=== Evaluation Complete ===\n",
            "\n",
            "{'clarity_score': '5', 'exactitude_score': '5', 'context_adherence_score': '5', 'relevance_score': '5', 'completeness_score': '5', 'logical_flow_score': '5', 'uncertainty_handling_score': '5', 'overall_feedback': '5'}\n",
            "inherit model weights from sentence-transformers/all-roberta-large-v1\n"
          ]
        },
        {
          "output_type": "stream",
          "name": "stderr",
          "text": [
            "Retrieving subgraphs: 0it [00:00, ?it/s]\n"
          ]
        },
        {
          "output_type": "stream",
          "name": "stdout",
          "text": [
            "inherit model weights from sentence-transformers/all-roberta-large-v1\n"
          ]
        },
        {
          "output_type": "stream",
          "name": "stderr",
          "text": [
            "Retrieving subgraphs: 0it [00:00, ?it/s]\n"
          ]
        },
        {
          "output_type": "stream",
          "name": "stdout",
          "text": [
            "\n",
            "=== Response Evaluation ===\n",
            "\n",
            "\n",
            "=== Evaluation Complete ===\n",
            "\n",
            "{'clarity_score': '5', 'exactitude_score': '5', 'context_adherence_score': '5', 'relevance_score': '5', 'completeness_score': '4', 'logical_flow_score': '5', 'uncertainty_handling_score': '5', 'overall_feedback': '4.86'}\n",
            "inherit model weights from sentence-transformers/all-roberta-large-v1\n"
          ]
        },
        {
          "output_type": "stream",
          "name": "stderr",
          "text": [
            "Retrieving subgraphs: 0it [00:00, ?it/s]\n"
          ]
        },
        {
          "output_type": "stream",
          "name": "stdout",
          "text": [
            "inherit model weights from sentence-transformers/all-roberta-large-v1\n"
          ]
        },
        {
          "output_type": "stream",
          "name": "stderr",
          "text": [
            "Retrieving subgraphs: 0it [00:00, ?it/s]\n"
          ]
        },
        {
          "output_type": "stream",
          "name": "stdout",
          "text": [
            "\n",
            "=== Response Evaluation ===\n",
            "\n",
            "\n",
            "=== Evaluation Complete ===\n",
            "\n",
            "{'clarity_score': '5', 'exactitude_score': '5', 'context_adherence_score': '5', 'relevance_score': '5', 'completeness_score': '5', 'logical_flow_score': '5', 'uncertainty_handling_score': '4', 'overall_feedback': '4.86'}\n",
            "inherit model weights from sentence-transformers/all-roberta-large-v1\n"
          ]
        },
        {
          "output_type": "stream",
          "name": "stderr",
          "text": [
            "Retrieving subgraphs: 0it [00:00, ?it/s]\n"
          ]
        },
        {
          "output_type": "stream",
          "name": "stdout",
          "text": [
            "inherit model weights from sentence-transformers/all-roberta-large-v1\n"
          ]
        },
        {
          "output_type": "stream",
          "name": "stderr",
          "text": [
            "Retrieving subgraphs: 0it [00:00, ?it/s]\n"
          ]
        },
        {
          "output_type": "stream",
          "name": "stdout",
          "text": [
            "\n",
            "=== Response Evaluation ===\n",
            "\n",
            "\n",
            "=== Evaluation Complete ===\n",
            "\n",
            "{'clarity_score': '5', 'exactitude_score': '5', 'context_adherence_score': '5', 'relevance_score': '5', 'completeness_score': '5', 'logical_flow_score': '5', 'uncertainty_handling_score': '4', 'overall_feedback': '4.86'}\n",
            "inherit model weights from sentence-transformers/all-roberta-large-v1\n"
          ]
        },
        {
          "output_type": "stream",
          "name": "stderr",
          "text": [
            "Retrieving subgraphs: 0it [00:00, ?it/s]\n"
          ]
        },
        {
          "output_type": "stream",
          "name": "stdout",
          "text": [
            "inherit model weights from sentence-transformers/all-roberta-large-v1\n"
          ]
        },
        {
          "output_type": "stream",
          "name": "stderr",
          "text": [
            "Retrieving subgraphs: 0it [00:00, ?it/s]\n"
          ]
        },
        {
          "output_type": "stream",
          "name": "stdout",
          "text": [
            "\n",
            "=== Response Evaluation ===\n",
            "\n",
            "\n",
            "=== Evaluation Complete ===\n",
            "\n",
            "{'clarity_score': '5', 'exactitude_score': '5', 'context_adherence_score': '5', 'relevance_score': '5', 'completeness_score': '5', 'logical_flow_score': '5', 'uncertainty_handling_score': '4', 'overall_feedback': '4.86'}\n",
            "inherit model weights from sentence-transformers/all-roberta-large-v1\n"
          ]
        },
        {
          "output_type": "stream",
          "name": "stderr",
          "text": [
            "Retrieving subgraphs: 0it [00:00, ?it/s]\n"
          ]
        },
        {
          "output_type": "stream",
          "name": "stdout",
          "text": [
            "inherit model weights from sentence-transformers/all-roberta-large-v1\n"
          ]
        },
        {
          "output_type": "stream",
          "name": "stderr",
          "text": [
            "Retrieving subgraphs: 0it [00:00, ?it/s]\n"
          ]
        },
        {
          "output_type": "stream",
          "name": "stdout",
          "text": [
            "\n",
            "=== Response Evaluation ===\n",
            "\n",
            "\n",
            "=== Evaluation Complete ===\n",
            "\n",
            "{'clarity_score': '5', 'exactitude_score': '5', 'context_adherence_score': '5', 'relevance_score': '5', 'completeness_score': '5', 'logical_flow_score': '5', 'uncertainty_handling_score': '4', 'overall_feedback': '4.86'}\n",
            "inherit model weights from sentence-transformers/all-roberta-large-v1\n"
          ]
        },
        {
          "output_type": "stream",
          "name": "stderr",
          "text": [
            "Retrieving subgraphs: 0it [00:00, ?it/s]\n"
          ]
        },
        {
          "output_type": "stream",
          "name": "stdout",
          "text": [
            "inherit model weights from sentence-transformers/all-roberta-large-v1\n"
          ]
        },
        {
          "output_type": "stream",
          "name": "stderr",
          "text": [
            "Retrieving subgraphs: 0it [00:00, ?it/s]\n"
          ]
        },
        {
          "output_type": "stream",
          "name": "stdout",
          "text": [
            "\n",
            "=== Response Evaluation ===\n",
            "\n",
            "\n",
            "=== Evaluation Complete ===\n",
            "\n",
            "{'clarity_score': '5', 'exactitude_score': '5', 'context_adherence_score': '5', 'relevance_score': '5', 'completeness_score': '4', 'logical_flow_score': '5', 'uncertainty_handling_score': '5', 'overall_feedback': '4.86'}\n",
            "inherit model weights from sentence-transformers/all-roberta-large-v1\n"
          ]
        },
        {
          "output_type": "stream",
          "name": "stderr",
          "text": [
            "Retrieving subgraphs: 0it [00:00, ?it/s]\n"
          ]
        },
        {
          "output_type": "stream",
          "name": "stdout",
          "text": [
            "inherit model weights from sentence-transformers/all-roberta-large-v1\n"
          ]
        },
        {
          "output_type": "stream",
          "name": "stderr",
          "text": [
            "Retrieving subgraphs: 0it [00:00, ?it/s]\n"
          ]
        },
        {
          "output_type": "stream",
          "name": "stdout",
          "text": [
            "\n",
            "=== Response Evaluation ===\n",
            "\n",
            "\n",
            "=== Evaluation Complete ===\n",
            "\n",
            "{'clarity_score': '5', 'exactitude_score': '5', 'context_adherence_score': '5', 'relevance_score': '5', 'completeness_score': '5', 'logical_flow_score': '5', 'uncertainty_handling_score': '4', 'overall_feedback': '4.86'}\n",
            "4.703725490196081\n"
          ]
        }
      ]
    }
  ],
  "metadata": {
    "kernelspec": {
      "display_name": "pfa env",
      "language": "python",
      "name": "pfacuda"
    },
    "language_info": {
      "codemirror_mode": {
        "name": "ipython",
        "version": 3
      },
      "file_extension": ".py",
      "mimetype": "text/x-python",
      "name": "python",
      "nbconvert_exporter": "python",
      "pygments_lexer": "ipython3",
      "version": "3.10.16"
    },
    "colab": {
      "provenance": []
    },
    "widgets": {
      "application/vnd.jupyter.widget-state+json": {
        "96f969e46d3b44c1bccff53eb15171f2": {
          "model_module": "@jupyter-widgets/controls",
          "model_name": "HBoxModel",
          "model_module_version": "1.5.0",
          "state": {
            "_dom_classes": [],
            "_model_module": "@jupyter-widgets/controls",
            "_model_module_version": "1.5.0",
            "_model_name": "HBoxModel",
            "_view_count": null,
            "_view_module": "@jupyter-widgets/controls",
            "_view_module_version": "1.5.0",
            "_view_name": "HBoxView",
            "box_style": "",
            "children": [
              "IPY_MODEL_123e4cb45cd84b1fb6749aa05eaec843",
              "IPY_MODEL_59713502fe1741629aebc0a19c556fd7",
              "IPY_MODEL_2167a65b71804bb1bf605e0b4875d639"
            ],
            "layout": "IPY_MODEL_ffd6a1c574ba4328b6aa34058baf657d"
          }
        },
        "123e4cb45cd84b1fb6749aa05eaec843": {
          "model_module": "@jupyter-widgets/controls",
          "model_name": "HTMLModel",
          "model_module_version": "1.5.0",
          "state": {
            "_dom_classes": [],
            "_model_module": "@jupyter-widgets/controls",
            "_model_module_version": "1.5.0",
            "_model_name": "HTMLModel",
            "_view_count": null,
            "_view_module": "@jupyter-widgets/controls",
            "_view_module_version": "1.5.0",
            "_view_name": "HTMLView",
            "description": "",
            "description_tooltip": null,
            "layout": "IPY_MODEL_739bb143b70a408ebe897837df93d2a6",
            "placeholder": "​",
            "style": "IPY_MODEL_750537c732724af98c770aab3954c497",
            "value": "config.json: 100%"
          }
        },
        "59713502fe1741629aebc0a19c556fd7": {
          "model_module": "@jupyter-widgets/controls",
          "model_name": "FloatProgressModel",
          "model_module_version": "1.5.0",
          "state": {
            "_dom_classes": [],
            "_model_module": "@jupyter-widgets/controls",
            "_model_module_version": "1.5.0",
            "_model_name": "FloatProgressModel",
            "_view_count": null,
            "_view_module": "@jupyter-widgets/controls",
            "_view_module_version": "1.5.0",
            "_view_name": "ProgressView",
            "bar_style": "success",
            "description": "",
            "description_tooltip": null,
            "layout": "IPY_MODEL_2ace04b626194caa958022bf256bd681",
            "max": 650,
            "min": 0,
            "orientation": "horizontal",
            "style": "IPY_MODEL_9fefccb1d0fc4eadb5b79a7294dda5ee",
            "value": 650
          }
        },
        "2167a65b71804bb1bf605e0b4875d639": {
          "model_module": "@jupyter-widgets/controls",
          "model_name": "HTMLModel",
          "model_module_version": "1.5.0",
          "state": {
            "_dom_classes": [],
            "_model_module": "@jupyter-widgets/controls",
            "_model_module_version": "1.5.0",
            "_model_name": "HTMLModel",
            "_view_count": null,
            "_view_module": "@jupyter-widgets/controls",
            "_view_module_version": "1.5.0",
            "_view_name": "HTMLView",
            "description": "",
            "description_tooltip": null,
            "layout": "IPY_MODEL_e6f5beaa0c94404096d8fb434310c05b",
            "placeholder": "​",
            "style": "IPY_MODEL_a7c26683c24b4925a324ff2b8806c6f1",
            "value": " 650/650 [00:00&lt;00:00, 35.4kB/s]"
          }
        },
        "ffd6a1c574ba4328b6aa34058baf657d": {
          "model_module": "@jupyter-widgets/base",
          "model_name": "LayoutModel",
          "model_module_version": "1.2.0",
          "state": {
            "_model_module": "@jupyter-widgets/base",
            "_model_module_version": "1.2.0",
            "_model_name": "LayoutModel",
            "_view_count": null,
            "_view_module": "@jupyter-widgets/base",
            "_view_module_version": "1.2.0",
            "_view_name": "LayoutView",
            "align_content": null,
            "align_items": null,
            "align_self": null,
            "border": null,
            "bottom": null,
            "display": null,
            "flex": null,
            "flex_flow": null,
            "grid_area": null,
            "grid_auto_columns": null,
            "grid_auto_flow": null,
            "grid_auto_rows": null,
            "grid_column": null,
            "grid_gap": null,
            "grid_row": null,
            "grid_template_areas": null,
            "grid_template_columns": null,
            "grid_template_rows": null,
            "height": null,
            "justify_content": null,
            "justify_items": null,
            "left": null,
            "margin": null,
            "max_height": null,
            "max_width": null,
            "min_height": null,
            "min_width": null,
            "object_fit": null,
            "object_position": null,
            "order": null,
            "overflow": null,
            "overflow_x": null,
            "overflow_y": null,
            "padding": null,
            "right": null,
            "top": null,
            "visibility": null,
            "width": null
          }
        },
        "739bb143b70a408ebe897837df93d2a6": {
          "model_module": "@jupyter-widgets/base",
          "model_name": "LayoutModel",
          "model_module_version": "1.2.0",
          "state": {
            "_model_module": "@jupyter-widgets/base",
            "_model_module_version": "1.2.0",
            "_model_name": "LayoutModel",
            "_view_count": null,
            "_view_module": "@jupyter-widgets/base",
            "_view_module_version": "1.2.0",
            "_view_name": "LayoutView",
            "align_content": null,
            "align_items": null,
            "align_self": null,
            "border": null,
            "bottom": null,
            "display": null,
            "flex": null,
            "flex_flow": null,
            "grid_area": null,
            "grid_auto_columns": null,
            "grid_auto_flow": null,
            "grid_auto_rows": null,
            "grid_column": null,
            "grid_gap": null,
            "grid_row": null,
            "grid_template_areas": null,
            "grid_template_columns": null,
            "grid_template_rows": null,
            "height": null,
            "justify_content": null,
            "justify_items": null,
            "left": null,
            "margin": null,
            "max_height": null,
            "max_width": null,
            "min_height": null,
            "min_width": null,
            "object_fit": null,
            "object_position": null,
            "order": null,
            "overflow": null,
            "overflow_x": null,
            "overflow_y": null,
            "padding": null,
            "right": null,
            "top": null,
            "visibility": null,
            "width": null
          }
        },
        "750537c732724af98c770aab3954c497": {
          "model_module": "@jupyter-widgets/controls",
          "model_name": "DescriptionStyleModel",
          "model_module_version": "1.5.0",
          "state": {
            "_model_module": "@jupyter-widgets/controls",
            "_model_module_version": "1.5.0",
            "_model_name": "DescriptionStyleModel",
            "_view_count": null,
            "_view_module": "@jupyter-widgets/base",
            "_view_module_version": "1.2.0",
            "_view_name": "StyleView",
            "description_width": ""
          }
        },
        "2ace04b626194caa958022bf256bd681": {
          "model_module": "@jupyter-widgets/base",
          "model_name": "LayoutModel",
          "model_module_version": "1.2.0",
          "state": {
            "_model_module": "@jupyter-widgets/base",
            "_model_module_version": "1.2.0",
            "_model_name": "LayoutModel",
            "_view_count": null,
            "_view_module": "@jupyter-widgets/base",
            "_view_module_version": "1.2.0",
            "_view_name": "LayoutView",
            "align_content": null,
            "align_items": null,
            "align_self": null,
            "border": null,
            "bottom": null,
            "display": null,
            "flex": null,
            "flex_flow": null,
            "grid_area": null,
            "grid_auto_columns": null,
            "grid_auto_flow": null,
            "grid_auto_rows": null,
            "grid_column": null,
            "grid_gap": null,
            "grid_row": null,
            "grid_template_areas": null,
            "grid_template_columns": null,
            "grid_template_rows": null,
            "height": null,
            "justify_content": null,
            "justify_items": null,
            "left": null,
            "margin": null,
            "max_height": null,
            "max_width": null,
            "min_height": null,
            "min_width": null,
            "object_fit": null,
            "object_position": null,
            "order": null,
            "overflow": null,
            "overflow_x": null,
            "overflow_y": null,
            "padding": null,
            "right": null,
            "top": null,
            "visibility": null,
            "width": null
          }
        },
        "9fefccb1d0fc4eadb5b79a7294dda5ee": {
          "model_module": "@jupyter-widgets/controls",
          "model_name": "ProgressStyleModel",
          "model_module_version": "1.5.0",
          "state": {
            "_model_module": "@jupyter-widgets/controls",
            "_model_module_version": "1.5.0",
            "_model_name": "ProgressStyleModel",
            "_view_count": null,
            "_view_module": "@jupyter-widgets/base",
            "_view_module_version": "1.2.0",
            "_view_name": "StyleView",
            "bar_color": null,
            "description_width": ""
          }
        },
        "e6f5beaa0c94404096d8fb434310c05b": {
          "model_module": "@jupyter-widgets/base",
          "model_name": "LayoutModel",
          "model_module_version": "1.2.0",
          "state": {
            "_model_module": "@jupyter-widgets/base",
            "_model_module_version": "1.2.0",
            "_model_name": "LayoutModel",
            "_view_count": null,
            "_view_module": "@jupyter-widgets/base",
            "_view_module_version": "1.2.0",
            "_view_name": "LayoutView",
            "align_content": null,
            "align_items": null,
            "align_self": null,
            "border": null,
            "bottom": null,
            "display": null,
            "flex": null,
            "flex_flow": null,
            "grid_area": null,
            "grid_auto_columns": null,
            "grid_auto_flow": null,
            "grid_auto_rows": null,
            "grid_column": null,
            "grid_gap": null,
            "grid_row": null,
            "grid_template_areas": null,
            "grid_template_columns": null,
            "grid_template_rows": null,
            "height": null,
            "justify_content": null,
            "justify_items": null,
            "left": null,
            "margin": null,
            "max_height": null,
            "max_width": null,
            "min_height": null,
            "min_width": null,
            "object_fit": null,
            "object_position": null,
            "order": null,
            "overflow": null,
            "overflow_x": null,
            "overflow_y": null,
            "padding": null,
            "right": null,
            "top": null,
            "visibility": null,
            "width": null
          }
        },
        "a7c26683c24b4925a324ff2b8806c6f1": {
          "model_module": "@jupyter-widgets/controls",
          "model_name": "DescriptionStyleModel",
          "model_module_version": "1.5.0",
          "state": {
            "_model_module": "@jupyter-widgets/controls",
            "_model_module_version": "1.5.0",
            "_model_name": "DescriptionStyleModel",
            "_view_count": null,
            "_view_module": "@jupyter-widgets/base",
            "_view_module_version": "1.2.0",
            "_view_name": "StyleView",
            "description_width": ""
          }
        },
        "a9d53ec7d8644f1a91cb1b19bd4c29aa": {
          "model_module": "@jupyter-widgets/controls",
          "model_name": "HBoxModel",
          "model_module_version": "1.5.0",
          "state": {
            "_dom_classes": [],
            "_model_module": "@jupyter-widgets/controls",
            "_model_module_version": "1.5.0",
            "_model_name": "HBoxModel",
            "_view_count": null,
            "_view_module": "@jupyter-widgets/controls",
            "_view_module_version": "1.5.0",
            "_view_name": "HBoxView",
            "box_style": "",
            "children": [
              "IPY_MODEL_0ddd90998bd04f7c97db14faef284c25",
              "IPY_MODEL_2899537ad1974dc69ad7dd5506acdb52",
              "IPY_MODEL_dd350b1a622f42cbb8b8c75d8c22c69b"
            ],
            "layout": "IPY_MODEL_06007553680b4e03a43cbc8abe6fec93"
          }
        },
        "0ddd90998bd04f7c97db14faef284c25": {
          "model_module": "@jupyter-widgets/controls",
          "model_name": "HTMLModel",
          "model_module_version": "1.5.0",
          "state": {
            "_dom_classes": [],
            "_model_module": "@jupyter-widgets/controls",
            "_model_module_version": "1.5.0",
            "_model_name": "HTMLModel",
            "_view_count": null,
            "_view_module": "@jupyter-widgets/controls",
            "_view_module_version": "1.5.0",
            "_view_name": "HTMLView",
            "description": "",
            "description_tooltip": null,
            "layout": "IPY_MODEL_8b338d8e3a244038889efcb789877511",
            "placeholder": "​",
            "style": "IPY_MODEL_13c7d38ea0bb477c8baaa8526d00795f",
            "value": "model.safetensors: 100%"
          }
        },
        "2899537ad1974dc69ad7dd5506acdb52": {
          "model_module": "@jupyter-widgets/controls",
          "model_name": "FloatProgressModel",
          "model_module_version": "1.5.0",
          "state": {
            "_dom_classes": [],
            "_model_module": "@jupyter-widgets/controls",
            "_model_module_version": "1.5.0",
            "_model_name": "FloatProgressModel",
            "_view_count": null,
            "_view_module": "@jupyter-widgets/controls",
            "_view_module_version": "1.5.0",
            "_view_name": "ProgressView",
            "bar_style": "success",
            "description": "",
            "description_tooltip": null,
            "layout": "IPY_MODEL_bdad8cfbb275418c94b965026b13777c",
            "max": 1421488104,
            "min": 0,
            "orientation": "horizontal",
            "style": "IPY_MODEL_aab6eaa6ff0f4449a61c7f207f4b47cb",
            "value": 1421488104
          }
        },
        "dd350b1a622f42cbb8b8c75d8c22c69b": {
          "model_module": "@jupyter-widgets/controls",
          "model_name": "HTMLModel",
          "model_module_version": "1.5.0",
          "state": {
            "_dom_classes": [],
            "_model_module": "@jupyter-widgets/controls",
            "_model_module_version": "1.5.0",
            "_model_name": "HTMLModel",
            "_view_count": null,
            "_view_module": "@jupyter-widgets/controls",
            "_view_module_version": "1.5.0",
            "_view_name": "HTMLView",
            "description": "",
            "description_tooltip": null,
            "layout": "IPY_MODEL_2cc1bb002d7046f99b73bd0bee13de12",
            "placeholder": "​",
            "style": "IPY_MODEL_d18d281d1aa84b1294257af71e4ba009",
            "value": " 1.42G/1.42G [00:17&lt;00:00, 83.0MB/s]"
          }
        },
        "06007553680b4e03a43cbc8abe6fec93": {
          "model_module": "@jupyter-widgets/base",
          "model_name": "LayoutModel",
          "model_module_version": "1.2.0",
          "state": {
            "_model_module": "@jupyter-widgets/base",
            "_model_module_version": "1.2.0",
            "_model_name": "LayoutModel",
            "_view_count": null,
            "_view_module": "@jupyter-widgets/base",
            "_view_module_version": "1.2.0",
            "_view_name": "LayoutView",
            "align_content": null,
            "align_items": null,
            "align_self": null,
            "border": null,
            "bottom": null,
            "display": null,
            "flex": null,
            "flex_flow": null,
            "grid_area": null,
            "grid_auto_columns": null,
            "grid_auto_flow": null,
            "grid_auto_rows": null,
            "grid_column": null,
            "grid_gap": null,
            "grid_row": null,
            "grid_template_areas": null,
            "grid_template_columns": null,
            "grid_template_rows": null,
            "height": null,
            "justify_content": null,
            "justify_items": null,
            "left": null,
            "margin": null,
            "max_height": null,
            "max_width": null,
            "min_height": null,
            "min_width": null,
            "object_fit": null,
            "object_position": null,
            "order": null,
            "overflow": null,
            "overflow_x": null,
            "overflow_y": null,
            "padding": null,
            "right": null,
            "top": null,
            "visibility": null,
            "width": null
          }
        },
        "8b338d8e3a244038889efcb789877511": {
          "model_module": "@jupyter-widgets/base",
          "model_name": "LayoutModel",
          "model_module_version": "1.2.0",
          "state": {
            "_model_module": "@jupyter-widgets/base",
            "_model_module_version": "1.2.0",
            "_model_name": "LayoutModel",
            "_view_count": null,
            "_view_module": "@jupyter-widgets/base",
            "_view_module_version": "1.2.0",
            "_view_name": "LayoutView",
            "align_content": null,
            "align_items": null,
            "align_self": null,
            "border": null,
            "bottom": null,
            "display": null,
            "flex": null,
            "flex_flow": null,
            "grid_area": null,
            "grid_auto_columns": null,
            "grid_auto_flow": null,
            "grid_auto_rows": null,
            "grid_column": null,
            "grid_gap": null,
            "grid_row": null,
            "grid_template_areas": null,
            "grid_template_columns": null,
            "grid_template_rows": null,
            "height": null,
            "justify_content": null,
            "justify_items": null,
            "left": null,
            "margin": null,
            "max_height": null,
            "max_width": null,
            "min_height": null,
            "min_width": null,
            "object_fit": null,
            "object_position": null,
            "order": null,
            "overflow": null,
            "overflow_x": null,
            "overflow_y": null,
            "padding": null,
            "right": null,
            "top": null,
            "visibility": null,
            "width": null
          }
        },
        "13c7d38ea0bb477c8baaa8526d00795f": {
          "model_module": "@jupyter-widgets/controls",
          "model_name": "DescriptionStyleModel",
          "model_module_version": "1.5.0",
          "state": {
            "_model_module": "@jupyter-widgets/controls",
            "_model_module_version": "1.5.0",
            "_model_name": "DescriptionStyleModel",
            "_view_count": null,
            "_view_module": "@jupyter-widgets/base",
            "_view_module_version": "1.2.0",
            "_view_name": "StyleView",
            "description_width": ""
          }
        },
        "bdad8cfbb275418c94b965026b13777c": {
          "model_module": "@jupyter-widgets/base",
          "model_name": "LayoutModel",
          "model_module_version": "1.2.0",
          "state": {
            "_model_module": "@jupyter-widgets/base",
            "_model_module_version": "1.2.0",
            "_model_name": "LayoutModel",
            "_view_count": null,
            "_view_module": "@jupyter-widgets/base",
            "_view_module_version": "1.2.0",
            "_view_name": "LayoutView",
            "align_content": null,
            "align_items": null,
            "align_self": null,
            "border": null,
            "bottom": null,
            "display": null,
            "flex": null,
            "flex_flow": null,
            "grid_area": null,
            "grid_auto_columns": null,
            "grid_auto_flow": null,
            "grid_auto_rows": null,
            "grid_column": null,
            "grid_gap": null,
            "grid_row": null,
            "grid_template_areas": null,
            "grid_template_columns": null,
            "grid_template_rows": null,
            "height": null,
            "justify_content": null,
            "justify_items": null,
            "left": null,
            "margin": null,
            "max_height": null,
            "max_width": null,
            "min_height": null,
            "min_width": null,
            "object_fit": null,
            "object_position": null,
            "order": null,
            "overflow": null,
            "overflow_x": null,
            "overflow_y": null,
            "padding": null,
            "right": null,
            "top": null,
            "visibility": null,
            "width": null
          }
        },
        "aab6eaa6ff0f4449a61c7f207f4b47cb": {
          "model_module": "@jupyter-widgets/controls",
          "model_name": "ProgressStyleModel",
          "model_module_version": "1.5.0",
          "state": {
            "_model_module": "@jupyter-widgets/controls",
            "_model_module_version": "1.5.0",
            "_model_name": "ProgressStyleModel",
            "_view_count": null,
            "_view_module": "@jupyter-widgets/base",
            "_view_module_version": "1.2.0",
            "_view_name": "StyleView",
            "bar_color": null,
            "description_width": ""
          }
        },
        "2cc1bb002d7046f99b73bd0bee13de12": {
          "model_module": "@jupyter-widgets/base",
          "model_name": "LayoutModel",
          "model_module_version": "1.2.0",
          "state": {
            "_model_module": "@jupyter-widgets/base",
            "_model_module_version": "1.2.0",
            "_model_name": "LayoutModel",
            "_view_count": null,
            "_view_module": "@jupyter-widgets/base",
            "_view_module_version": "1.2.0",
            "_view_name": "LayoutView",
            "align_content": null,
            "align_items": null,
            "align_self": null,
            "border": null,
            "bottom": null,
            "display": null,
            "flex": null,
            "flex_flow": null,
            "grid_area": null,
            "grid_auto_columns": null,
            "grid_auto_flow": null,
            "grid_auto_rows": null,
            "grid_column": null,
            "grid_gap": null,
            "grid_row": null,
            "grid_template_areas": null,
            "grid_template_columns": null,
            "grid_template_rows": null,
            "height": null,
            "justify_content": null,
            "justify_items": null,
            "left": null,
            "margin": null,
            "max_height": null,
            "max_width": null,
            "min_height": null,
            "min_width": null,
            "object_fit": null,
            "object_position": null,
            "order": null,
            "overflow": null,
            "overflow_x": null,
            "overflow_y": null,
            "padding": null,
            "right": null,
            "top": null,
            "visibility": null,
            "width": null
          }
        },
        "d18d281d1aa84b1294257af71e4ba009": {
          "model_module": "@jupyter-widgets/controls",
          "model_name": "DescriptionStyleModel",
          "model_module_version": "1.5.0",
          "state": {
            "_model_module": "@jupyter-widgets/controls",
            "_model_module_version": "1.5.0",
            "_model_name": "DescriptionStyleModel",
            "_view_count": null,
            "_view_module": "@jupyter-widgets/base",
            "_view_module_version": "1.2.0",
            "_view_name": "StyleView",
            "description_width": ""
          }
        },
        "4638087b73644a3885349ea4e14fd88f": {
          "model_module": "@jupyter-widgets/controls",
          "model_name": "HBoxModel",
          "model_module_version": "1.5.0",
          "state": {
            "_dom_classes": [],
            "_model_module": "@jupyter-widgets/controls",
            "_model_module_version": "1.5.0",
            "_model_name": "HBoxModel",
            "_view_count": null,
            "_view_module": "@jupyter-widgets/controls",
            "_view_module_version": "1.5.0",
            "_view_name": "HBoxView",
            "box_style": "",
            "children": [
              "IPY_MODEL_a2d90d30b5ca40cdbeab17d262685423",
              "IPY_MODEL_9f2e5d17370c42e4a54002dd98eba8f9",
              "IPY_MODEL_68f48d94183541e9a8406c5946e7eb6e"
            ],
            "layout": "IPY_MODEL_c49a27fe9cc84630a6270acca7ebed72"
          }
        },
        "a2d90d30b5ca40cdbeab17d262685423": {
          "model_module": "@jupyter-widgets/controls",
          "model_name": "HTMLModel",
          "model_module_version": "1.5.0",
          "state": {
            "_dom_classes": [],
            "_model_module": "@jupyter-widgets/controls",
            "_model_module_version": "1.5.0",
            "_model_name": "HTMLModel",
            "_view_count": null,
            "_view_module": "@jupyter-widgets/controls",
            "_view_module_version": "1.5.0",
            "_view_name": "HTMLView",
            "description": "",
            "description_tooltip": null,
            "layout": "IPY_MODEL_eedf8d936a004527a2e8a5ff7f97304a",
            "placeholder": "​",
            "style": "IPY_MODEL_aba8d16882114bc59d20caa43e8f9ca6",
            "value": "tokenizer_config.json: 100%"
          }
        },
        "9f2e5d17370c42e4a54002dd98eba8f9": {
          "model_module": "@jupyter-widgets/controls",
          "model_name": "FloatProgressModel",
          "model_module_version": "1.5.0",
          "state": {
            "_dom_classes": [],
            "_model_module": "@jupyter-widgets/controls",
            "_model_module_version": "1.5.0",
            "_model_name": "FloatProgressModel",
            "_view_count": null,
            "_view_module": "@jupyter-widgets/controls",
            "_view_module_version": "1.5.0",
            "_view_name": "ProgressView",
            "bar_style": "success",
            "description": "",
            "description_tooltip": null,
            "layout": "IPY_MODEL_69ba4733b4094eb28175df6ef60daf5e",
            "max": 328,
            "min": 0,
            "orientation": "horizontal",
            "style": "IPY_MODEL_a7f9c44b9eda4d059beaddb5f4f2223f",
            "value": 328
          }
        },
        "68f48d94183541e9a8406c5946e7eb6e": {
          "model_module": "@jupyter-widgets/controls",
          "model_name": "HTMLModel",
          "model_module_version": "1.5.0",
          "state": {
            "_dom_classes": [],
            "_model_module": "@jupyter-widgets/controls",
            "_model_module_version": "1.5.0",
            "_model_name": "HTMLModel",
            "_view_count": null,
            "_view_module": "@jupyter-widgets/controls",
            "_view_module_version": "1.5.0",
            "_view_name": "HTMLView",
            "description": "",
            "description_tooltip": null,
            "layout": "IPY_MODEL_e6ed2132db924e56979fc935ba46c8dd",
            "placeholder": "​",
            "style": "IPY_MODEL_2be55be9b52a45e18ea0b50a569edf8e",
            "value": " 328/328 [00:00&lt;00:00, 9.82kB/s]"
          }
        },
        "c49a27fe9cc84630a6270acca7ebed72": {
          "model_module": "@jupyter-widgets/base",
          "model_name": "LayoutModel",
          "model_module_version": "1.2.0",
          "state": {
            "_model_module": "@jupyter-widgets/base",
            "_model_module_version": "1.2.0",
            "_model_name": "LayoutModel",
            "_view_count": null,
            "_view_module": "@jupyter-widgets/base",
            "_view_module_version": "1.2.0",
            "_view_name": "LayoutView",
            "align_content": null,
            "align_items": null,
            "align_self": null,
            "border": null,
            "bottom": null,
            "display": null,
            "flex": null,
            "flex_flow": null,
            "grid_area": null,
            "grid_auto_columns": null,
            "grid_auto_flow": null,
            "grid_auto_rows": null,
            "grid_column": null,
            "grid_gap": null,
            "grid_row": null,
            "grid_template_areas": null,
            "grid_template_columns": null,
            "grid_template_rows": null,
            "height": null,
            "justify_content": null,
            "justify_items": null,
            "left": null,
            "margin": null,
            "max_height": null,
            "max_width": null,
            "min_height": null,
            "min_width": null,
            "object_fit": null,
            "object_position": null,
            "order": null,
            "overflow": null,
            "overflow_x": null,
            "overflow_y": null,
            "padding": null,
            "right": null,
            "top": null,
            "visibility": null,
            "width": null
          }
        },
        "eedf8d936a004527a2e8a5ff7f97304a": {
          "model_module": "@jupyter-widgets/base",
          "model_name": "LayoutModel",
          "model_module_version": "1.2.0",
          "state": {
            "_model_module": "@jupyter-widgets/base",
            "_model_module_version": "1.2.0",
            "_model_name": "LayoutModel",
            "_view_count": null,
            "_view_module": "@jupyter-widgets/base",
            "_view_module_version": "1.2.0",
            "_view_name": "LayoutView",
            "align_content": null,
            "align_items": null,
            "align_self": null,
            "border": null,
            "bottom": null,
            "display": null,
            "flex": null,
            "flex_flow": null,
            "grid_area": null,
            "grid_auto_columns": null,
            "grid_auto_flow": null,
            "grid_auto_rows": null,
            "grid_column": null,
            "grid_gap": null,
            "grid_row": null,
            "grid_template_areas": null,
            "grid_template_columns": null,
            "grid_template_rows": null,
            "height": null,
            "justify_content": null,
            "justify_items": null,
            "left": null,
            "margin": null,
            "max_height": null,
            "max_width": null,
            "min_height": null,
            "min_width": null,
            "object_fit": null,
            "object_position": null,
            "order": null,
            "overflow": null,
            "overflow_x": null,
            "overflow_y": null,
            "padding": null,
            "right": null,
            "top": null,
            "visibility": null,
            "width": null
          }
        },
        "aba8d16882114bc59d20caa43e8f9ca6": {
          "model_module": "@jupyter-widgets/controls",
          "model_name": "DescriptionStyleModel",
          "model_module_version": "1.5.0",
          "state": {
            "_model_module": "@jupyter-widgets/controls",
            "_model_module_version": "1.5.0",
            "_model_name": "DescriptionStyleModel",
            "_view_count": null,
            "_view_module": "@jupyter-widgets/base",
            "_view_module_version": "1.2.0",
            "_view_name": "StyleView",
            "description_width": ""
          }
        },
        "69ba4733b4094eb28175df6ef60daf5e": {
          "model_module": "@jupyter-widgets/base",
          "model_name": "LayoutModel",
          "model_module_version": "1.2.0",
          "state": {
            "_model_module": "@jupyter-widgets/base",
            "_model_module_version": "1.2.0",
            "_model_name": "LayoutModel",
            "_view_count": null,
            "_view_module": "@jupyter-widgets/base",
            "_view_module_version": "1.2.0",
            "_view_name": "LayoutView",
            "align_content": null,
            "align_items": null,
            "align_self": null,
            "border": null,
            "bottom": null,
            "display": null,
            "flex": null,
            "flex_flow": null,
            "grid_area": null,
            "grid_auto_columns": null,
            "grid_auto_flow": null,
            "grid_auto_rows": null,
            "grid_column": null,
            "grid_gap": null,
            "grid_row": null,
            "grid_template_areas": null,
            "grid_template_columns": null,
            "grid_template_rows": null,
            "height": null,
            "justify_content": null,
            "justify_items": null,
            "left": null,
            "margin": null,
            "max_height": null,
            "max_width": null,
            "min_height": null,
            "min_width": null,
            "object_fit": null,
            "object_position": null,
            "order": null,
            "overflow": null,
            "overflow_x": null,
            "overflow_y": null,
            "padding": null,
            "right": null,
            "top": null,
            "visibility": null,
            "width": null
          }
        },
        "a7f9c44b9eda4d059beaddb5f4f2223f": {
          "model_module": "@jupyter-widgets/controls",
          "model_name": "ProgressStyleModel",
          "model_module_version": "1.5.0",
          "state": {
            "_model_module": "@jupyter-widgets/controls",
            "_model_module_version": "1.5.0",
            "_model_name": "ProgressStyleModel",
            "_view_count": null,
            "_view_module": "@jupyter-widgets/base",
            "_view_module_version": "1.2.0",
            "_view_name": "StyleView",
            "bar_color": null,
            "description_width": ""
          }
        },
        "e6ed2132db924e56979fc935ba46c8dd": {
          "model_module": "@jupyter-widgets/base",
          "model_name": "LayoutModel",
          "model_module_version": "1.2.0",
          "state": {
            "_model_module": "@jupyter-widgets/base",
            "_model_module_version": "1.2.0",
            "_model_name": "LayoutModel",
            "_view_count": null,
            "_view_module": "@jupyter-widgets/base",
            "_view_module_version": "1.2.0",
            "_view_name": "LayoutView",
            "align_content": null,
            "align_items": null,
            "align_self": null,
            "border": null,
            "bottom": null,
            "display": null,
            "flex": null,
            "flex_flow": null,
            "grid_area": null,
            "grid_auto_columns": null,
            "grid_auto_flow": null,
            "grid_auto_rows": null,
            "grid_column": null,
            "grid_gap": null,
            "grid_row": null,
            "grid_template_areas": null,
            "grid_template_columns": null,
            "grid_template_rows": null,
            "height": null,
            "justify_content": null,
            "justify_items": null,
            "left": null,
            "margin": null,
            "max_height": null,
            "max_width": null,
            "min_height": null,
            "min_width": null,
            "object_fit": null,
            "object_position": null,
            "order": null,
            "overflow": null,
            "overflow_x": null,
            "overflow_y": null,
            "padding": null,
            "right": null,
            "top": null,
            "visibility": null,
            "width": null
          }
        },
        "2be55be9b52a45e18ea0b50a569edf8e": {
          "model_module": "@jupyter-widgets/controls",
          "model_name": "DescriptionStyleModel",
          "model_module_version": "1.5.0",
          "state": {
            "_model_module": "@jupyter-widgets/controls",
            "_model_module_version": "1.5.0",
            "_model_name": "DescriptionStyleModel",
            "_view_count": null,
            "_view_module": "@jupyter-widgets/base",
            "_view_module_version": "1.2.0",
            "_view_name": "StyleView",
            "description_width": ""
          }
        },
        "189a4c3f6f344b47b9b23b057f5b205c": {
          "model_module": "@jupyter-widgets/controls",
          "model_name": "HBoxModel",
          "model_module_version": "1.5.0",
          "state": {
            "_dom_classes": [],
            "_model_module": "@jupyter-widgets/controls",
            "_model_module_version": "1.5.0",
            "_model_name": "HBoxModel",
            "_view_count": null,
            "_view_module": "@jupyter-widgets/controls",
            "_view_module_version": "1.5.0",
            "_view_name": "HBoxView",
            "box_style": "",
            "children": [
              "IPY_MODEL_3f967a7a1bec440c9efbac73efa11c28",
              "IPY_MODEL_cf6b05907bda469ea6058d9e068cf509",
              "IPY_MODEL_2b96cc6b35f840cda0fd27eecf42ecaf"
            ],
            "layout": "IPY_MODEL_3382c3409469441692f6e6adc44085dc"
          }
        },
        "3f967a7a1bec440c9efbac73efa11c28": {
          "model_module": "@jupyter-widgets/controls",
          "model_name": "HTMLModel",
          "model_module_version": "1.5.0",
          "state": {
            "_dom_classes": [],
            "_model_module": "@jupyter-widgets/controls",
            "_model_module_version": "1.5.0",
            "_model_name": "HTMLModel",
            "_view_count": null,
            "_view_module": "@jupyter-widgets/controls",
            "_view_module_version": "1.5.0",
            "_view_name": "HTMLView",
            "description": "",
            "description_tooltip": null,
            "layout": "IPY_MODEL_5367ecab1a10469e8f446a7e543a2422",
            "placeholder": "​",
            "style": "IPY_MODEL_a9e9eb4f94544e9394c3141dcb0a700d",
            "value": "vocab.json: 100%"
          }
        },
        "cf6b05907bda469ea6058d9e068cf509": {
          "model_module": "@jupyter-widgets/controls",
          "model_name": "FloatProgressModel",
          "model_module_version": "1.5.0",
          "state": {
            "_dom_classes": [],
            "_model_module": "@jupyter-widgets/controls",
            "_model_module_version": "1.5.0",
            "_model_name": "FloatProgressModel",
            "_view_count": null,
            "_view_module": "@jupyter-widgets/controls",
            "_view_module_version": "1.5.0",
            "_view_name": "ProgressView",
            "bar_style": "success",
            "description": "",
            "description_tooltip": null,
            "layout": "IPY_MODEL_26ddbb90f88c4f599b9d681faa5d7287",
            "max": 798293,
            "min": 0,
            "orientation": "horizontal",
            "style": "IPY_MODEL_707b4ad05c6d482cbfcc0671c84f188c",
            "value": 798293
          }
        },
        "2b96cc6b35f840cda0fd27eecf42ecaf": {
          "model_module": "@jupyter-widgets/controls",
          "model_name": "HTMLModel",
          "model_module_version": "1.5.0",
          "state": {
            "_dom_classes": [],
            "_model_module": "@jupyter-widgets/controls",
            "_model_module_version": "1.5.0",
            "_model_name": "HTMLModel",
            "_view_count": null,
            "_view_module": "@jupyter-widgets/controls",
            "_view_module_version": "1.5.0",
            "_view_name": "HTMLView",
            "description": "",
            "description_tooltip": null,
            "layout": "IPY_MODEL_6241b0109d634c0caccdceee729f72dc",
            "placeholder": "​",
            "style": "IPY_MODEL_927a1bec578746b1ba854327e2a2ec24",
            "value": " 798k/798k [00:00&lt;00:00, 4.51MB/s]"
          }
        },
        "3382c3409469441692f6e6adc44085dc": {
          "model_module": "@jupyter-widgets/base",
          "model_name": "LayoutModel",
          "model_module_version": "1.2.0",
          "state": {
            "_model_module": "@jupyter-widgets/base",
            "_model_module_version": "1.2.0",
            "_model_name": "LayoutModel",
            "_view_count": null,
            "_view_module": "@jupyter-widgets/base",
            "_view_module_version": "1.2.0",
            "_view_name": "LayoutView",
            "align_content": null,
            "align_items": null,
            "align_self": null,
            "border": null,
            "bottom": null,
            "display": null,
            "flex": null,
            "flex_flow": null,
            "grid_area": null,
            "grid_auto_columns": null,
            "grid_auto_flow": null,
            "grid_auto_rows": null,
            "grid_column": null,
            "grid_gap": null,
            "grid_row": null,
            "grid_template_areas": null,
            "grid_template_columns": null,
            "grid_template_rows": null,
            "height": null,
            "justify_content": null,
            "justify_items": null,
            "left": null,
            "margin": null,
            "max_height": null,
            "max_width": null,
            "min_height": null,
            "min_width": null,
            "object_fit": null,
            "object_position": null,
            "order": null,
            "overflow": null,
            "overflow_x": null,
            "overflow_y": null,
            "padding": null,
            "right": null,
            "top": null,
            "visibility": null,
            "width": null
          }
        },
        "5367ecab1a10469e8f446a7e543a2422": {
          "model_module": "@jupyter-widgets/base",
          "model_name": "LayoutModel",
          "model_module_version": "1.2.0",
          "state": {
            "_model_module": "@jupyter-widgets/base",
            "_model_module_version": "1.2.0",
            "_model_name": "LayoutModel",
            "_view_count": null,
            "_view_module": "@jupyter-widgets/base",
            "_view_module_version": "1.2.0",
            "_view_name": "LayoutView",
            "align_content": null,
            "align_items": null,
            "align_self": null,
            "border": null,
            "bottom": null,
            "display": null,
            "flex": null,
            "flex_flow": null,
            "grid_area": null,
            "grid_auto_columns": null,
            "grid_auto_flow": null,
            "grid_auto_rows": null,
            "grid_column": null,
            "grid_gap": null,
            "grid_row": null,
            "grid_template_areas": null,
            "grid_template_columns": null,
            "grid_template_rows": null,
            "height": null,
            "justify_content": null,
            "justify_items": null,
            "left": null,
            "margin": null,
            "max_height": null,
            "max_width": null,
            "min_height": null,
            "min_width": null,
            "object_fit": null,
            "object_position": null,
            "order": null,
            "overflow": null,
            "overflow_x": null,
            "overflow_y": null,
            "padding": null,
            "right": null,
            "top": null,
            "visibility": null,
            "width": null
          }
        },
        "a9e9eb4f94544e9394c3141dcb0a700d": {
          "model_module": "@jupyter-widgets/controls",
          "model_name": "DescriptionStyleModel",
          "model_module_version": "1.5.0",
          "state": {
            "_model_module": "@jupyter-widgets/controls",
            "_model_module_version": "1.5.0",
            "_model_name": "DescriptionStyleModel",
            "_view_count": null,
            "_view_module": "@jupyter-widgets/base",
            "_view_module_version": "1.2.0",
            "_view_name": "StyleView",
            "description_width": ""
          }
        },
        "26ddbb90f88c4f599b9d681faa5d7287": {
          "model_module": "@jupyter-widgets/base",
          "model_name": "LayoutModel",
          "model_module_version": "1.2.0",
          "state": {
            "_model_module": "@jupyter-widgets/base",
            "_model_module_version": "1.2.0",
            "_model_name": "LayoutModel",
            "_view_count": null,
            "_view_module": "@jupyter-widgets/base",
            "_view_module_version": "1.2.0",
            "_view_name": "LayoutView",
            "align_content": null,
            "align_items": null,
            "align_self": null,
            "border": null,
            "bottom": null,
            "display": null,
            "flex": null,
            "flex_flow": null,
            "grid_area": null,
            "grid_auto_columns": null,
            "grid_auto_flow": null,
            "grid_auto_rows": null,
            "grid_column": null,
            "grid_gap": null,
            "grid_row": null,
            "grid_template_areas": null,
            "grid_template_columns": null,
            "grid_template_rows": null,
            "height": null,
            "justify_content": null,
            "justify_items": null,
            "left": null,
            "margin": null,
            "max_height": null,
            "max_width": null,
            "min_height": null,
            "min_width": null,
            "object_fit": null,
            "object_position": null,
            "order": null,
            "overflow": null,
            "overflow_x": null,
            "overflow_y": null,
            "padding": null,
            "right": null,
            "top": null,
            "visibility": null,
            "width": null
          }
        },
        "707b4ad05c6d482cbfcc0671c84f188c": {
          "model_module": "@jupyter-widgets/controls",
          "model_name": "ProgressStyleModel",
          "model_module_version": "1.5.0",
          "state": {
            "_model_module": "@jupyter-widgets/controls",
            "_model_module_version": "1.5.0",
            "_model_name": "ProgressStyleModel",
            "_view_count": null,
            "_view_module": "@jupyter-widgets/base",
            "_view_module_version": "1.2.0",
            "_view_name": "StyleView",
            "bar_color": null,
            "description_width": ""
          }
        },
        "6241b0109d634c0caccdceee729f72dc": {
          "model_module": "@jupyter-widgets/base",
          "model_name": "LayoutModel",
          "model_module_version": "1.2.0",
          "state": {
            "_model_module": "@jupyter-widgets/base",
            "_model_module_version": "1.2.0",
            "_model_name": "LayoutModel",
            "_view_count": null,
            "_view_module": "@jupyter-widgets/base",
            "_view_module_version": "1.2.0",
            "_view_name": "LayoutView",
            "align_content": null,
            "align_items": null,
            "align_self": null,
            "border": null,
            "bottom": null,
            "display": null,
            "flex": null,
            "flex_flow": null,
            "grid_area": null,
            "grid_auto_columns": null,
            "grid_auto_flow": null,
            "grid_auto_rows": null,
            "grid_column": null,
            "grid_gap": null,
            "grid_row": null,
            "grid_template_areas": null,
            "grid_template_columns": null,
            "grid_template_rows": null,
            "height": null,
            "justify_content": null,
            "justify_items": null,
            "left": null,
            "margin": null,
            "max_height": null,
            "max_width": null,
            "min_height": null,
            "min_width": null,
            "object_fit": null,
            "object_position": null,
            "order": null,
            "overflow": null,
            "overflow_x": null,
            "overflow_y": null,
            "padding": null,
            "right": null,
            "top": null,
            "visibility": null,
            "width": null
          }
        },
        "927a1bec578746b1ba854327e2a2ec24": {
          "model_module": "@jupyter-widgets/controls",
          "model_name": "DescriptionStyleModel",
          "model_module_version": "1.5.0",
          "state": {
            "_model_module": "@jupyter-widgets/controls",
            "_model_module_version": "1.5.0",
            "_model_name": "DescriptionStyleModel",
            "_view_count": null,
            "_view_module": "@jupyter-widgets/base",
            "_view_module_version": "1.2.0",
            "_view_name": "StyleView",
            "description_width": ""
          }
        },
        "af2ef2ed06a3425488fbb2a690ea3dbf": {
          "model_module": "@jupyter-widgets/controls",
          "model_name": "HBoxModel",
          "model_module_version": "1.5.0",
          "state": {
            "_dom_classes": [],
            "_model_module": "@jupyter-widgets/controls",
            "_model_module_version": "1.5.0",
            "_model_name": "HBoxModel",
            "_view_count": null,
            "_view_module": "@jupyter-widgets/controls",
            "_view_module_version": "1.5.0",
            "_view_name": "HBoxView",
            "box_style": "",
            "children": [
              "IPY_MODEL_1d91f351cc3f47989a2bce84a1a6c0a9",
              "IPY_MODEL_e9b8f3ce4a9f4ab08cb2b21f007941ba",
              "IPY_MODEL_a1264d11afe6460182cb7ccd5aa95060"
            ],
            "layout": "IPY_MODEL_c8f2be5a208f4b299e2ffdc79c930519"
          }
        },
        "1d91f351cc3f47989a2bce84a1a6c0a9": {
          "model_module": "@jupyter-widgets/controls",
          "model_name": "HTMLModel",
          "model_module_version": "1.5.0",
          "state": {
            "_dom_classes": [],
            "_model_module": "@jupyter-widgets/controls",
            "_model_module_version": "1.5.0",
            "_model_name": "HTMLModel",
            "_view_count": null,
            "_view_module": "@jupyter-widgets/controls",
            "_view_module_version": "1.5.0",
            "_view_name": "HTMLView",
            "description": "",
            "description_tooltip": null,
            "layout": "IPY_MODEL_504103f2bebe46a1b80587e2391b1251",
            "placeholder": "​",
            "style": "IPY_MODEL_bfb525b94f6d418b941658b54a46c329",
            "value": "merges.txt: 100%"
          }
        },
        "e9b8f3ce4a9f4ab08cb2b21f007941ba": {
          "model_module": "@jupyter-widgets/controls",
          "model_name": "FloatProgressModel",
          "model_module_version": "1.5.0",
          "state": {
            "_dom_classes": [],
            "_model_module": "@jupyter-widgets/controls",
            "_model_module_version": "1.5.0",
            "_model_name": "FloatProgressModel",
            "_view_count": null,
            "_view_module": "@jupyter-widgets/controls",
            "_view_module_version": "1.5.0",
            "_view_name": "ProgressView",
            "bar_style": "success",
            "description": "",
            "description_tooltip": null,
            "layout": "IPY_MODEL_4422f2a65cdf4ab2b046d1eeec7c81cc",
            "max": 456356,
            "min": 0,
            "orientation": "horizontal",
            "style": "IPY_MODEL_0aa9a11314c24dc1ad218b94bd909669",
            "value": 456356
          }
        },
        "a1264d11afe6460182cb7ccd5aa95060": {
          "model_module": "@jupyter-widgets/controls",
          "model_name": "HTMLModel",
          "model_module_version": "1.5.0",
          "state": {
            "_dom_classes": [],
            "_model_module": "@jupyter-widgets/controls",
            "_model_module_version": "1.5.0",
            "_model_name": "HTMLModel",
            "_view_count": null,
            "_view_module": "@jupyter-widgets/controls",
            "_view_module_version": "1.5.0",
            "_view_name": "HTMLView",
            "description": "",
            "description_tooltip": null,
            "layout": "IPY_MODEL_43431a172ee6465b9dac573e31809e85",
            "placeholder": "​",
            "style": "IPY_MODEL_7bd19e0892cf460397e25168afb731d9",
            "value": " 456k/456k [00:00&lt;00:00, 9.53MB/s]"
          }
        },
        "c8f2be5a208f4b299e2ffdc79c930519": {
          "model_module": "@jupyter-widgets/base",
          "model_name": "LayoutModel",
          "model_module_version": "1.2.0",
          "state": {
            "_model_module": "@jupyter-widgets/base",
            "_model_module_version": "1.2.0",
            "_model_name": "LayoutModel",
            "_view_count": null,
            "_view_module": "@jupyter-widgets/base",
            "_view_module_version": "1.2.0",
            "_view_name": "LayoutView",
            "align_content": null,
            "align_items": null,
            "align_self": null,
            "border": null,
            "bottom": null,
            "display": null,
            "flex": null,
            "flex_flow": null,
            "grid_area": null,
            "grid_auto_columns": null,
            "grid_auto_flow": null,
            "grid_auto_rows": null,
            "grid_column": null,
            "grid_gap": null,
            "grid_row": null,
            "grid_template_areas": null,
            "grid_template_columns": null,
            "grid_template_rows": null,
            "height": null,
            "justify_content": null,
            "justify_items": null,
            "left": null,
            "margin": null,
            "max_height": null,
            "max_width": null,
            "min_height": null,
            "min_width": null,
            "object_fit": null,
            "object_position": null,
            "order": null,
            "overflow": null,
            "overflow_x": null,
            "overflow_y": null,
            "padding": null,
            "right": null,
            "top": null,
            "visibility": null,
            "width": null
          }
        },
        "504103f2bebe46a1b80587e2391b1251": {
          "model_module": "@jupyter-widgets/base",
          "model_name": "LayoutModel",
          "model_module_version": "1.2.0",
          "state": {
            "_model_module": "@jupyter-widgets/base",
            "_model_module_version": "1.2.0",
            "_model_name": "LayoutModel",
            "_view_count": null,
            "_view_module": "@jupyter-widgets/base",
            "_view_module_version": "1.2.0",
            "_view_name": "LayoutView",
            "align_content": null,
            "align_items": null,
            "align_self": null,
            "border": null,
            "bottom": null,
            "display": null,
            "flex": null,
            "flex_flow": null,
            "grid_area": null,
            "grid_auto_columns": null,
            "grid_auto_flow": null,
            "grid_auto_rows": null,
            "grid_column": null,
            "grid_gap": null,
            "grid_row": null,
            "grid_template_areas": null,
            "grid_template_columns": null,
            "grid_template_rows": null,
            "height": null,
            "justify_content": null,
            "justify_items": null,
            "left": null,
            "margin": null,
            "max_height": null,
            "max_width": null,
            "min_height": null,
            "min_width": null,
            "object_fit": null,
            "object_position": null,
            "order": null,
            "overflow": null,
            "overflow_x": null,
            "overflow_y": null,
            "padding": null,
            "right": null,
            "top": null,
            "visibility": null,
            "width": null
          }
        },
        "bfb525b94f6d418b941658b54a46c329": {
          "model_module": "@jupyter-widgets/controls",
          "model_name": "DescriptionStyleModel",
          "model_module_version": "1.5.0",
          "state": {
            "_model_module": "@jupyter-widgets/controls",
            "_model_module_version": "1.5.0",
            "_model_name": "DescriptionStyleModel",
            "_view_count": null,
            "_view_module": "@jupyter-widgets/base",
            "_view_module_version": "1.2.0",
            "_view_name": "StyleView",
            "description_width": ""
          }
        },
        "4422f2a65cdf4ab2b046d1eeec7c81cc": {
          "model_module": "@jupyter-widgets/base",
          "model_name": "LayoutModel",
          "model_module_version": "1.2.0",
          "state": {
            "_model_module": "@jupyter-widgets/base",
            "_model_module_version": "1.2.0",
            "_model_name": "LayoutModel",
            "_view_count": null,
            "_view_module": "@jupyter-widgets/base",
            "_view_module_version": "1.2.0",
            "_view_name": "LayoutView",
            "align_content": null,
            "align_items": null,
            "align_self": null,
            "border": null,
            "bottom": null,
            "display": null,
            "flex": null,
            "flex_flow": null,
            "grid_area": null,
            "grid_auto_columns": null,
            "grid_auto_flow": null,
            "grid_auto_rows": null,
            "grid_column": null,
            "grid_gap": null,
            "grid_row": null,
            "grid_template_areas": null,
            "grid_template_columns": null,
            "grid_template_rows": null,
            "height": null,
            "justify_content": null,
            "justify_items": null,
            "left": null,
            "margin": null,
            "max_height": null,
            "max_width": null,
            "min_height": null,
            "min_width": null,
            "object_fit": null,
            "object_position": null,
            "order": null,
            "overflow": null,
            "overflow_x": null,
            "overflow_y": null,
            "padding": null,
            "right": null,
            "top": null,
            "visibility": null,
            "width": null
          }
        },
        "0aa9a11314c24dc1ad218b94bd909669": {
          "model_module": "@jupyter-widgets/controls",
          "model_name": "ProgressStyleModel",
          "model_module_version": "1.5.0",
          "state": {
            "_model_module": "@jupyter-widgets/controls",
            "_model_module_version": "1.5.0",
            "_model_name": "ProgressStyleModel",
            "_view_count": null,
            "_view_module": "@jupyter-widgets/base",
            "_view_module_version": "1.2.0",
            "_view_name": "StyleView",
            "bar_color": null,
            "description_width": ""
          }
        },
        "43431a172ee6465b9dac573e31809e85": {
          "model_module": "@jupyter-widgets/base",
          "model_name": "LayoutModel",
          "model_module_version": "1.2.0",
          "state": {
            "_model_module": "@jupyter-widgets/base",
            "_model_module_version": "1.2.0",
            "_model_name": "LayoutModel",
            "_view_count": null,
            "_view_module": "@jupyter-widgets/base",
            "_view_module_version": "1.2.0",
            "_view_name": "LayoutView",
            "align_content": null,
            "align_items": null,
            "align_self": null,
            "border": null,
            "bottom": null,
            "display": null,
            "flex": null,
            "flex_flow": null,
            "grid_area": null,
            "grid_auto_columns": null,
            "grid_auto_flow": null,
            "grid_auto_rows": null,
            "grid_column": null,
            "grid_gap": null,
            "grid_row": null,
            "grid_template_areas": null,
            "grid_template_columns": null,
            "grid_template_rows": null,
            "height": null,
            "justify_content": null,
            "justify_items": null,
            "left": null,
            "margin": null,
            "max_height": null,
            "max_width": null,
            "min_height": null,
            "min_width": null,
            "object_fit": null,
            "object_position": null,
            "order": null,
            "overflow": null,
            "overflow_x": null,
            "overflow_y": null,
            "padding": null,
            "right": null,
            "top": null,
            "visibility": null,
            "width": null
          }
        },
        "7bd19e0892cf460397e25168afb731d9": {
          "model_module": "@jupyter-widgets/controls",
          "model_name": "DescriptionStyleModel",
          "model_module_version": "1.5.0",
          "state": {
            "_model_module": "@jupyter-widgets/controls",
            "_model_module_version": "1.5.0",
            "_model_name": "DescriptionStyleModel",
            "_view_count": null,
            "_view_module": "@jupyter-widgets/base",
            "_view_module_version": "1.2.0",
            "_view_name": "StyleView",
            "description_width": ""
          }
        },
        "bf4138ee94174d1795e045a04426db6d": {
          "model_module": "@jupyter-widgets/controls",
          "model_name": "HBoxModel",
          "model_module_version": "1.5.0",
          "state": {
            "_dom_classes": [],
            "_model_module": "@jupyter-widgets/controls",
            "_model_module_version": "1.5.0",
            "_model_name": "HBoxModel",
            "_view_count": null,
            "_view_module": "@jupyter-widgets/controls",
            "_view_module_version": "1.5.0",
            "_view_name": "HBoxView",
            "box_style": "",
            "children": [
              "IPY_MODEL_e7704d5bcf594f64b3aaf381dfa51907",
              "IPY_MODEL_e1460be5031a4786bc9735773a537c20",
              "IPY_MODEL_798e1ec915da4b53a3538495fc53bd51"
            ],
            "layout": "IPY_MODEL_05ba66a1b28b4f178de6ff8688056e24"
          }
        },
        "e7704d5bcf594f64b3aaf381dfa51907": {
          "model_module": "@jupyter-widgets/controls",
          "model_name": "HTMLModel",
          "model_module_version": "1.5.0",
          "state": {
            "_dom_classes": [],
            "_model_module": "@jupyter-widgets/controls",
            "_model_module_version": "1.5.0",
            "_model_name": "HTMLModel",
            "_view_count": null,
            "_view_module": "@jupyter-widgets/controls",
            "_view_module_version": "1.5.0",
            "_view_name": "HTMLView",
            "description": "",
            "description_tooltip": null,
            "layout": "IPY_MODEL_0991cc948aa8449190b0ea05f0876c43",
            "placeholder": "​",
            "style": "IPY_MODEL_7269075cbb344f749bf5d2f30ee9f90f",
            "value": "tokenizer.json: 100%"
          }
        },
        "e1460be5031a4786bc9735773a537c20": {
          "model_module": "@jupyter-widgets/controls",
          "model_name": "FloatProgressModel",
          "model_module_version": "1.5.0",
          "state": {
            "_dom_classes": [],
            "_model_module": "@jupyter-widgets/controls",
            "_model_module_version": "1.5.0",
            "_model_name": "FloatProgressModel",
            "_view_count": null,
            "_view_module": "@jupyter-widgets/controls",
            "_view_module_version": "1.5.0",
            "_view_name": "ProgressView",
            "bar_style": "success",
            "description": "",
            "description_tooltip": null,
            "layout": "IPY_MODEL_a7aa4664599940f0a4b15e7a81fd59f4",
            "max": 1356047,
            "min": 0,
            "orientation": "horizontal",
            "style": "IPY_MODEL_7098b28f1c1c49239fe1fdfd0bd01d49",
            "value": 1356047
          }
        },
        "798e1ec915da4b53a3538495fc53bd51": {
          "model_module": "@jupyter-widgets/controls",
          "model_name": "HTMLModel",
          "model_module_version": "1.5.0",
          "state": {
            "_dom_classes": [],
            "_model_module": "@jupyter-widgets/controls",
            "_model_module_version": "1.5.0",
            "_model_name": "HTMLModel",
            "_view_count": null,
            "_view_module": "@jupyter-widgets/controls",
            "_view_module_version": "1.5.0",
            "_view_name": "HTMLView",
            "description": "",
            "description_tooltip": null,
            "layout": "IPY_MODEL_58522187e4fd46b98e8e1ede5dd9aecd",
            "placeholder": "​",
            "style": "IPY_MODEL_246dfb6255364ccf920fd839d9fbdff9",
            "value": " 1.36M/1.36M [00:00&lt;00:00, 15.2MB/s]"
          }
        },
        "05ba66a1b28b4f178de6ff8688056e24": {
          "model_module": "@jupyter-widgets/base",
          "model_name": "LayoutModel",
          "model_module_version": "1.2.0",
          "state": {
            "_model_module": "@jupyter-widgets/base",
            "_model_module_version": "1.2.0",
            "_model_name": "LayoutModel",
            "_view_count": null,
            "_view_module": "@jupyter-widgets/base",
            "_view_module_version": "1.2.0",
            "_view_name": "LayoutView",
            "align_content": null,
            "align_items": null,
            "align_self": null,
            "border": null,
            "bottom": null,
            "display": null,
            "flex": null,
            "flex_flow": null,
            "grid_area": null,
            "grid_auto_columns": null,
            "grid_auto_flow": null,
            "grid_auto_rows": null,
            "grid_column": null,
            "grid_gap": null,
            "grid_row": null,
            "grid_template_areas": null,
            "grid_template_columns": null,
            "grid_template_rows": null,
            "height": null,
            "justify_content": null,
            "justify_items": null,
            "left": null,
            "margin": null,
            "max_height": null,
            "max_width": null,
            "min_height": null,
            "min_width": null,
            "object_fit": null,
            "object_position": null,
            "order": null,
            "overflow": null,
            "overflow_x": null,
            "overflow_y": null,
            "padding": null,
            "right": null,
            "top": null,
            "visibility": null,
            "width": null
          }
        },
        "0991cc948aa8449190b0ea05f0876c43": {
          "model_module": "@jupyter-widgets/base",
          "model_name": "LayoutModel",
          "model_module_version": "1.2.0",
          "state": {
            "_model_module": "@jupyter-widgets/base",
            "_model_module_version": "1.2.0",
            "_model_name": "LayoutModel",
            "_view_count": null,
            "_view_module": "@jupyter-widgets/base",
            "_view_module_version": "1.2.0",
            "_view_name": "LayoutView",
            "align_content": null,
            "align_items": null,
            "align_self": null,
            "border": null,
            "bottom": null,
            "display": null,
            "flex": null,
            "flex_flow": null,
            "grid_area": null,
            "grid_auto_columns": null,
            "grid_auto_flow": null,
            "grid_auto_rows": null,
            "grid_column": null,
            "grid_gap": null,
            "grid_row": null,
            "grid_template_areas": null,
            "grid_template_columns": null,
            "grid_template_rows": null,
            "height": null,
            "justify_content": null,
            "justify_items": null,
            "left": null,
            "margin": null,
            "max_height": null,
            "max_width": null,
            "min_height": null,
            "min_width": null,
            "object_fit": null,
            "object_position": null,
            "order": null,
            "overflow": null,
            "overflow_x": null,
            "overflow_y": null,
            "padding": null,
            "right": null,
            "top": null,
            "visibility": null,
            "width": null
          }
        },
        "7269075cbb344f749bf5d2f30ee9f90f": {
          "model_module": "@jupyter-widgets/controls",
          "model_name": "DescriptionStyleModel",
          "model_module_version": "1.5.0",
          "state": {
            "_model_module": "@jupyter-widgets/controls",
            "_model_module_version": "1.5.0",
            "_model_name": "DescriptionStyleModel",
            "_view_count": null,
            "_view_module": "@jupyter-widgets/base",
            "_view_module_version": "1.2.0",
            "_view_name": "StyleView",
            "description_width": ""
          }
        },
        "a7aa4664599940f0a4b15e7a81fd59f4": {
          "model_module": "@jupyter-widgets/base",
          "model_name": "LayoutModel",
          "model_module_version": "1.2.0",
          "state": {
            "_model_module": "@jupyter-widgets/base",
            "_model_module_version": "1.2.0",
            "_model_name": "LayoutModel",
            "_view_count": null,
            "_view_module": "@jupyter-widgets/base",
            "_view_module_version": "1.2.0",
            "_view_name": "LayoutView",
            "align_content": null,
            "align_items": null,
            "align_self": null,
            "border": null,
            "bottom": null,
            "display": null,
            "flex": null,
            "flex_flow": null,
            "grid_area": null,
            "grid_auto_columns": null,
            "grid_auto_flow": null,
            "grid_auto_rows": null,
            "grid_column": null,
            "grid_gap": null,
            "grid_row": null,
            "grid_template_areas": null,
            "grid_template_columns": null,
            "grid_template_rows": null,
            "height": null,
            "justify_content": null,
            "justify_items": null,
            "left": null,
            "margin": null,
            "max_height": null,
            "max_width": null,
            "min_height": null,
            "min_width": null,
            "object_fit": null,
            "object_position": null,
            "order": null,
            "overflow": null,
            "overflow_x": null,
            "overflow_y": null,
            "padding": null,
            "right": null,
            "top": null,
            "visibility": null,
            "width": null
          }
        },
        "7098b28f1c1c49239fe1fdfd0bd01d49": {
          "model_module": "@jupyter-widgets/controls",
          "model_name": "ProgressStyleModel",
          "model_module_version": "1.5.0",
          "state": {
            "_model_module": "@jupyter-widgets/controls",
            "_model_module_version": "1.5.0",
            "_model_name": "ProgressStyleModel",
            "_view_count": null,
            "_view_module": "@jupyter-widgets/base",
            "_view_module_version": "1.2.0",
            "_view_name": "StyleView",
            "bar_color": null,
            "description_width": ""
          }
        },
        "58522187e4fd46b98e8e1ede5dd9aecd": {
          "model_module": "@jupyter-widgets/base",
          "model_name": "LayoutModel",
          "model_module_version": "1.2.0",
          "state": {
            "_model_module": "@jupyter-widgets/base",
            "_model_module_version": "1.2.0",
            "_model_name": "LayoutModel",
            "_view_count": null,
            "_view_module": "@jupyter-widgets/base",
            "_view_module_version": "1.2.0",
            "_view_name": "LayoutView",
            "align_content": null,
            "align_items": null,
            "align_self": null,
            "border": null,
            "bottom": null,
            "display": null,
            "flex": null,
            "flex_flow": null,
            "grid_area": null,
            "grid_auto_columns": null,
            "grid_auto_flow": null,
            "grid_auto_rows": null,
            "grid_column": null,
            "grid_gap": null,
            "grid_row": null,
            "grid_template_areas": null,
            "grid_template_columns": null,
            "grid_template_rows": null,
            "height": null,
            "justify_content": null,
            "justify_items": null,
            "left": null,
            "margin": null,
            "max_height": null,
            "max_width": null,
            "min_height": null,
            "min_width": null,
            "object_fit": null,
            "object_position": null,
            "order": null,
            "overflow": null,
            "overflow_x": null,
            "overflow_y": null,
            "padding": null,
            "right": null,
            "top": null,
            "visibility": null,
            "width": null
          }
        },
        "246dfb6255364ccf920fd839d9fbdff9": {
          "model_module": "@jupyter-widgets/controls",
          "model_name": "DescriptionStyleModel",
          "model_module_version": "1.5.0",
          "state": {
            "_model_module": "@jupyter-widgets/controls",
            "_model_module_version": "1.5.0",
            "_model_name": "DescriptionStyleModel",
            "_view_count": null,
            "_view_module": "@jupyter-widgets/base",
            "_view_module_version": "1.2.0",
            "_view_name": "StyleView",
            "description_width": ""
          }
        },
        "39660b09ec124aa59a82044d94aecc06": {
          "model_module": "@jupyter-widgets/controls",
          "model_name": "HBoxModel",
          "model_module_version": "1.5.0",
          "state": {
            "_dom_classes": [],
            "_model_module": "@jupyter-widgets/controls",
            "_model_module_version": "1.5.0",
            "_model_name": "HBoxModel",
            "_view_count": null,
            "_view_module": "@jupyter-widgets/controls",
            "_view_module_version": "1.5.0",
            "_view_name": "HBoxView",
            "box_style": "",
            "children": [
              "IPY_MODEL_f4aba1675422458ebc7e945b33604eaf",
              "IPY_MODEL_094c2ced51ea410cb57596e08054e53b",
              "IPY_MODEL_3f3dbfcf7e79430fa97f498483aafae6"
            ],
            "layout": "IPY_MODEL_444c1d866c4941d0bb56aa6e3ca86980"
          }
        },
        "f4aba1675422458ebc7e945b33604eaf": {
          "model_module": "@jupyter-widgets/controls",
          "model_name": "HTMLModel",
          "model_module_version": "1.5.0",
          "state": {
            "_dom_classes": [],
            "_model_module": "@jupyter-widgets/controls",
            "_model_module_version": "1.5.0",
            "_model_name": "HTMLModel",
            "_view_count": null,
            "_view_module": "@jupyter-widgets/controls",
            "_view_module_version": "1.5.0",
            "_view_name": "HTMLView",
            "description": "",
            "description_tooltip": null,
            "layout": "IPY_MODEL_a001fa51e6f541c480499bc4d959e250",
            "placeholder": "​",
            "style": "IPY_MODEL_3981953a26ea4bcb9382b866aaf0900d",
            "value": "special_tokens_map.json: 100%"
          }
        },
        "094c2ced51ea410cb57596e08054e53b": {
          "model_module": "@jupyter-widgets/controls",
          "model_name": "FloatProgressModel",
          "model_module_version": "1.5.0",
          "state": {
            "_dom_classes": [],
            "_model_module": "@jupyter-widgets/controls",
            "_model_module_version": "1.5.0",
            "_model_name": "FloatProgressModel",
            "_view_count": null,
            "_view_module": "@jupyter-widgets/controls",
            "_view_module_version": "1.5.0",
            "_view_name": "ProgressView",
            "bar_style": "success",
            "description": "",
            "description_tooltip": null,
            "layout": "IPY_MODEL_8ff0985dc7e646a58dbdfb4e1bbb1819",
            "max": 239,
            "min": 0,
            "orientation": "horizontal",
            "style": "IPY_MODEL_e359cb46b3614edbbb1026d389b8c703",
            "value": 239
          }
        },
        "3f3dbfcf7e79430fa97f498483aafae6": {
          "model_module": "@jupyter-widgets/controls",
          "model_name": "HTMLModel",
          "model_module_version": "1.5.0",
          "state": {
            "_dom_classes": [],
            "_model_module": "@jupyter-widgets/controls",
            "_model_module_version": "1.5.0",
            "_model_name": "HTMLModel",
            "_view_count": null,
            "_view_module": "@jupyter-widgets/controls",
            "_view_module_version": "1.5.0",
            "_view_name": "HTMLView",
            "description": "",
            "description_tooltip": null,
            "layout": "IPY_MODEL_558f80f16f4f445fbb9c7bf31e6d934d",
            "placeholder": "​",
            "style": "IPY_MODEL_615c7f81ca3a4d909fe042a05370bcbe",
            "value": " 239/239 [00:00&lt;00:00, 3.76kB/s]"
          }
        },
        "444c1d866c4941d0bb56aa6e3ca86980": {
          "model_module": "@jupyter-widgets/base",
          "model_name": "LayoutModel",
          "model_module_version": "1.2.0",
          "state": {
            "_model_module": "@jupyter-widgets/base",
            "_model_module_version": "1.2.0",
            "_model_name": "LayoutModel",
            "_view_count": null,
            "_view_module": "@jupyter-widgets/base",
            "_view_module_version": "1.2.0",
            "_view_name": "LayoutView",
            "align_content": null,
            "align_items": null,
            "align_self": null,
            "border": null,
            "bottom": null,
            "display": null,
            "flex": null,
            "flex_flow": null,
            "grid_area": null,
            "grid_auto_columns": null,
            "grid_auto_flow": null,
            "grid_auto_rows": null,
            "grid_column": null,
            "grid_gap": null,
            "grid_row": null,
            "grid_template_areas": null,
            "grid_template_columns": null,
            "grid_template_rows": null,
            "height": null,
            "justify_content": null,
            "justify_items": null,
            "left": null,
            "margin": null,
            "max_height": null,
            "max_width": null,
            "min_height": null,
            "min_width": null,
            "object_fit": null,
            "object_position": null,
            "order": null,
            "overflow": null,
            "overflow_x": null,
            "overflow_y": null,
            "padding": null,
            "right": null,
            "top": null,
            "visibility": null,
            "width": null
          }
        },
        "a001fa51e6f541c480499bc4d959e250": {
          "model_module": "@jupyter-widgets/base",
          "model_name": "LayoutModel",
          "model_module_version": "1.2.0",
          "state": {
            "_model_module": "@jupyter-widgets/base",
            "_model_module_version": "1.2.0",
            "_model_name": "LayoutModel",
            "_view_count": null,
            "_view_module": "@jupyter-widgets/base",
            "_view_module_version": "1.2.0",
            "_view_name": "LayoutView",
            "align_content": null,
            "align_items": null,
            "align_self": null,
            "border": null,
            "bottom": null,
            "display": null,
            "flex": null,
            "flex_flow": null,
            "grid_area": null,
            "grid_auto_columns": null,
            "grid_auto_flow": null,
            "grid_auto_rows": null,
            "grid_column": null,
            "grid_gap": null,
            "grid_row": null,
            "grid_template_areas": null,
            "grid_template_columns": null,
            "grid_template_rows": null,
            "height": null,
            "justify_content": null,
            "justify_items": null,
            "left": null,
            "margin": null,
            "max_height": null,
            "max_width": null,
            "min_height": null,
            "min_width": null,
            "object_fit": null,
            "object_position": null,
            "order": null,
            "overflow": null,
            "overflow_x": null,
            "overflow_y": null,
            "padding": null,
            "right": null,
            "top": null,
            "visibility": null,
            "width": null
          }
        },
        "3981953a26ea4bcb9382b866aaf0900d": {
          "model_module": "@jupyter-widgets/controls",
          "model_name": "DescriptionStyleModel",
          "model_module_version": "1.5.0",
          "state": {
            "_model_module": "@jupyter-widgets/controls",
            "_model_module_version": "1.5.0",
            "_model_name": "DescriptionStyleModel",
            "_view_count": null,
            "_view_module": "@jupyter-widgets/base",
            "_view_module_version": "1.2.0",
            "_view_name": "StyleView",
            "description_width": ""
          }
        },
        "8ff0985dc7e646a58dbdfb4e1bbb1819": {
          "model_module": "@jupyter-widgets/base",
          "model_name": "LayoutModel",
          "model_module_version": "1.2.0",
          "state": {
            "_model_module": "@jupyter-widgets/base",
            "_model_module_version": "1.2.0",
            "_model_name": "LayoutModel",
            "_view_count": null,
            "_view_module": "@jupyter-widgets/base",
            "_view_module_version": "1.2.0",
            "_view_name": "LayoutView",
            "align_content": null,
            "align_items": null,
            "align_self": null,
            "border": null,
            "bottom": null,
            "display": null,
            "flex": null,
            "flex_flow": null,
            "grid_area": null,
            "grid_auto_columns": null,
            "grid_auto_flow": null,
            "grid_auto_rows": null,
            "grid_column": null,
            "grid_gap": null,
            "grid_row": null,
            "grid_template_areas": null,
            "grid_template_columns": null,
            "grid_template_rows": null,
            "height": null,
            "justify_content": null,
            "justify_items": null,
            "left": null,
            "margin": null,
            "max_height": null,
            "max_width": null,
            "min_height": null,
            "min_width": null,
            "object_fit": null,
            "object_position": null,
            "order": null,
            "overflow": null,
            "overflow_x": null,
            "overflow_y": null,
            "padding": null,
            "right": null,
            "top": null,
            "visibility": null,
            "width": null
          }
        },
        "e359cb46b3614edbbb1026d389b8c703": {
          "model_module": "@jupyter-widgets/controls",
          "model_name": "ProgressStyleModel",
          "model_module_version": "1.5.0",
          "state": {
            "_model_module": "@jupyter-widgets/controls",
            "_model_module_version": "1.5.0",
            "_model_name": "ProgressStyleModel",
            "_view_count": null,
            "_view_module": "@jupyter-widgets/base",
            "_view_module_version": "1.2.0",
            "_view_name": "StyleView",
            "bar_color": null,
            "description_width": ""
          }
        },
        "558f80f16f4f445fbb9c7bf31e6d934d": {
          "model_module": "@jupyter-widgets/base",
          "model_name": "LayoutModel",
          "model_module_version": "1.2.0",
          "state": {
            "_model_module": "@jupyter-widgets/base",
            "_model_module_version": "1.2.0",
            "_model_name": "LayoutModel",
            "_view_count": null,
            "_view_module": "@jupyter-widgets/base",
            "_view_module_version": "1.2.0",
            "_view_name": "LayoutView",
            "align_content": null,
            "align_items": null,
            "align_self": null,
            "border": null,
            "bottom": null,
            "display": null,
            "flex": null,
            "flex_flow": null,
            "grid_area": null,
            "grid_auto_columns": null,
            "grid_auto_flow": null,
            "grid_auto_rows": null,
            "grid_column": null,
            "grid_gap": null,
            "grid_row": null,
            "grid_template_areas": null,
            "grid_template_columns": null,
            "grid_template_rows": null,
            "height": null,
            "justify_content": null,
            "justify_items": null,
            "left": null,
            "margin": null,
            "max_height": null,
            "max_width": null,
            "min_height": null,
            "min_width": null,
            "object_fit": null,
            "object_position": null,
            "order": null,
            "overflow": null,
            "overflow_x": null,
            "overflow_y": null,
            "padding": null,
            "right": null,
            "top": null,
            "visibility": null,
            "width": null
          }
        },
        "615c7f81ca3a4d909fe042a05370bcbe": {
          "model_module": "@jupyter-widgets/controls",
          "model_name": "DescriptionStyleModel",
          "model_module_version": "1.5.0",
          "state": {
            "_model_module": "@jupyter-widgets/controls",
            "_model_module_version": "1.5.0",
            "_model_name": "DescriptionStyleModel",
            "_view_count": null,
            "_view_module": "@jupyter-widgets/base",
            "_view_module_version": "1.2.0",
            "_view_name": "StyleView",
            "description_width": ""
          }
        },
        "f62d6862334041bfb3677b6a3c24acf3": {
          "model_module": "@jupyter-widgets/controls",
          "model_name": "HBoxModel",
          "model_module_version": "1.5.0",
          "state": {
            "_dom_classes": [],
            "_model_module": "@jupyter-widgets/controls",
            "_model_module_version": "1.5.0",
            "_model_name": "HBoxModel",
            "_view_count": null,
            "_view_module": "@jupyter-widgets/controls",
            "_view_module_version": "1.5.0",
            "_view_name": "HBoxView",
            "box_style": "",
            "children": [
              "IPY_MODEL_8bfb7d0489e048fe80c9ebffe83490bf",
              "IPY_MODEL_c752ef1fba4549b894272176f9af559c",
              "IPY_MODEL_ce417bc58e344795b96b2fbe5481d684"
            ],
            "layout": "IPY_MODEL_31dd028082db4654a7b970fcd3dce25d"
          }
        },
        "8bfb7d0489e048fe80c9ebffe83490bf": {
          "model_module": "@jupyter-widgets/controls",
          "model_name": "HTMLModel",
          "model_module_version": "1.5.0",
          "state": {
            "_dom_classes": [],
            "_model_module": "@jupyter-widgets/controls",
            "_model_module_version": "1.5.0",
            "_model_name": "HTMLModel",
            "_view_count": null,
            "_view_module": "@jupyter-widgets/controls",
            "_view_module_version": "1.5.0",
            "_view_name": "HTMLView",
            "description": "",
            "description_tooltip": null,
            "layout": "IPY_MODEL_5ad79756c67844acb5ba42219b66d636",
            "placeholder": "​",
            "style": "IPY_MODEL_8a895e141d90471388a9305b411d650e",
            "value": "config.json: 100%"
          }
        },
        "c752ef1fba4549b894272176f9af559c": {
          "model_module": "@jupyter-widgets/controls",
          "model_name": "FloatProgressModel",
          "model_module_version": "1.5.0",
          "state": {
            "_dom_classes": [],
            "_model_module": "@jupyter-widgets/controls",
            "_model_module_version": "1.5.0",
            "_model_name": "FloatProgressModel",
            "_view_count": null,
            "_view_module": "@jupyter-widgets/controls",
            "_view_module_version": "1.5.0",
            "_view_name": "ProgressView",
            "bar_style": "success",
            "description": "",
            "description_tooltip": null,
            "layout": "IPY_MODEL_998773b13bd04d0d8559a881e2eb3763",
            "max": 650,
            "min": 0,
            "orientation": "horizontal",
            "style": "IPY_MODEL_c621548b4d0342f3a3ac90b8ba6a00f3",
            "value": 650
          }
        },
        "ce417bc58e344795b96b2fbe5481d684": {
          "model_module": "@jupyter-widgets/controls",
          "model_name": "HTMLModel",
          "model_module_version": "1.5.0",
          "state": {
            "_dom_classes": [],
            "_model_module": "@jupyter-widgets/controls",
            "_model_module_version": "1.5.0",
            "_model_name": "HTMLModel",
            "_view_count": null,
            "_view_module": "@jupyter-widgets/controls",
            "_view_module_version": "1.5.0",
            "_view_name": "HTMLView",
            "description": "",
            "description_tooltip": null,
            "layout": "IPY_MODEL_9dcdeb870d294bbeb0248fe04ca67095",
            "placeholder": "​",
            "style": "IPY_MODEL_3890a13397524ae2801c515b49839060",
            "value": " 650/650 [00:00&lt;00:00, 59.1kB/s]"
          }
        },
        "31dd028082db4654a7b970fcd3dce25d": {
          "model_module": "@jupyter-widgets/base",
          "model_name": "LayoutModel",
          "model_module_version": "1.2.0",
          "state": {
            "_model_module": "@jupyter-widgets/base",
            "_model_module_version": "1.2.0",
            "_model_name": "LayoutModel",
            "_view_count": null,
            "_view_module": "@jupyter-widgets/base",
            "_view_module_version": "1.2.0",
            "_view_name": "LayoutView",
            "align_content": null,
            "align_items": null,
            "align_self": null,
            "border": null,
            "bottom": null,
            "display": null,
            "flex": null,
            "flex_flow": null,
            "grid_area": null,
            "grid_auto_columns": null,
            "grid_auto_flow": null,
            "grid_auto_rows": null,
            "grid_column": null,
            "grid_gap": null,
            "grid_row": null,
            "grid_template_areas": null,
            "grid_template_columns": null,
            "grid_template_rows": null,
            "height": null,
            "justify_content": null,
            "justify_items": null,
            "left": null,
            "margin": null,
            "max_height": null,
            "max_width": null,
            "min_height": null,
            "min_width": null,
            "object_fit": null,
            "object_position": null,
            "order": null,
            "overflow": null,
            "overflow_x": null,
            "overflow_y": null,
            "padding": null,
            "right": null,
            "top": null,
            "visibility": null,
            "width": null
          }
        },
        "5ad79756c67844acb5ba42219b66d636": {
          "model_module": "@jupyter-widgets/base",
          "model_name": "LayoutModel",
          "model_module_version": "1.2.0",
          "state": {
            "_model_module": "@jupyter-widgets/base",
            "_model_module_version": "1.2.0",
            "_model_name": "LayoutModel",
            "_view_count": null,
            "_view_module": "@jupyter-widgets/base",
            "_view_module_version": "1.2.0",
            "_view_name": "LayoutView",
            "align_content": null,
            "align_items": null,
            "align_self": null,
            "border": null,
            "bottom": null,
            "display": null,
            "flex": null,
            "flex_flow": null,
            "grid_area": null,
            "grid_auto_columns": null,
            "grid_auto_flow": null,
            "grid_auto_rows": null,
            "grid_column": null,
            "grid_gap": null,
            "grid_row": null,
            "grid_template_areas": null,
            "grid_template_columns": null,
            "grid_template_rows": null,
            "height": null,
            "justify_content": null,
            "justify_items": null,
            "left": null,
            "margin": null,
            "max_height": null,
            "max_width": null,
            "min_height": null,
            "min_width": null,
            "object_fit": null,
            "object_position": null,
            "order": null,
            "overflow": null,
            "overflow_x": null,
            "overflow_y": null,
            "padding": null,
            "right": null,
            "top": null,
            "visibility": null,
            "width": null
          }
        },
        "8a895e141d90471388a9305b411d650e": {
          "model_module": "@jupyter-widgets/controls",
          "model_name": "DescriptionStyleModel",
          "model_module_version": "1.5.0",
          "state": {
            "_model_module": "@jupyter-widgets/controls",
            "_model_module_version": "1.5.0",
            "_model_name": "DescriptionStyleModel",
            "_view_count": null,
            "_view_module": "@jupyter-widgets/base",
            "_view_module_version": "1.2.0",
            "_view_name": "StyleView",
            "description_width": ""
          }
        },
        "998773b13bd04d0d8559a881e2eb3763": {
          "model_module": "@jupyter-widgets/base",
          "model_name": "LayoutModel",
          "model_module_version": "1.2.0",
          "state": {
            "_model_module": "@jupyter-widgets/base",
            "_model_module_version": "1.2.0",
            "_model_name": "LayoutModel",
            "_view_count": null,
            "_view_module": "@jupyter-widgets/base",
            "_view_module_version": "1.2.0",
            "_view_name": "LayoutView",
            "align_content": null,
            "align_items": null,
            "align_self": null,
            "border": null,
            "bottom": null,
            "display": null,
            "flex": null,
            "flex_flow": null,
            "grid_area": null,
            "grid_auto_columns": null,
            "grid_auto_flow": null,
            "grid_auto_rows": null,
            "grid_column": null,
            "grid_gap": null,
            "grid_row": null,
            "grid_template_areas": null,
            "grid_template_columns": null,
            "grid_template_rows": null,
            "height": null,
            "justify_content": null,
            "justify_items": null,
            "left": null,
            "margin": null,
            "max_height": null,
            "max_width": null,
            "min_height": null,
            "min_width": null,
            "object_fit": null,
            "object_position": null,
            "order": null,
            "overflow": null,
            "overflow_x": null,
            "overflow_y": null,
            "padding": null,
            "right": null,
            "top": null,
            "visibility": null,
            "width": null
          }
        },
        "c621548b4d0342f3a3ac90b8ba6a00f3": {
          "model_module": "@jupyter-widgets/controls",
          "model_name": "ProgressStyleModel",
          "model_module_version": "1.5.0",
          "state": {
            "_model_module": "@jupyter-widgets/controls",
            "_model_module_version": "1.5.0",
            "_model_name": "ProgressStyleModel",
            "_view_count": null,
            "_view_module": "@jupyter-widgets/base",
            "_view_module_version": "1.2.0",
            "_view_name": "StyleView",
            "bar_color": null,
            "description_width": ""
          }
        },
        "9dcdeb870d294bbeb0248fe04ca67095": {
          "model_module": "@jupyter-widgets/base",
          "model_name": "LayoutModel",
          "model_module_version": "1.2.0",
          "state": {
            "_model_module": "@jupyter-widgets/base",
            "_model_module_version": "1.2.0",
            "_model_name": "LayoutModel",
            "_view_count": null,
            "_view_module": "@jupyter-widgets/base",
            "_view_module_version": "1.2.0",
            "_view_name": "LayoutView",
            "align_content": null,
            "align_items": null,
            "align_self": null,
            "border": null,
            "bottom": null,
            "display": null,
            "flex": null,
            "flex_flow": null,
            "grid_area": null,
            "grid_auto_columns": null,
            "grid_auto_flow": null,
            "grid_auto_rows": null,
            "grid_column": null,
            "grid_gap": null,
            "grid_row": null,
            "grid_template_areas": null,
            "grid_template_columns": null,
            "grid_template_rows": null,
            "height": null,
            "justify_content": null,
            "justify_items": null,
            "left": null,
            "margin": null,
            "max_height": null,
            "max_width": null,
            "min_height": null,
            "min_width": null,
            "object_fit": null,
            "object_position": null,
            "order": null,
            "overflow": null,
            "overflow_x": null,
            "overflow_y": null,
            "padding": null,
            "right": null,
            "top": null,
            "visibility": null,
            "width": null
          }
        },
        "3890a13397524ae2801c515b49839060": {
          "model_module": "@jupyter-widgets/controls",
          "model_name": "DescriptionStyleModel",
          "model_module_version": "1.5.0",
          "state": {
            "_model_module": "@jupyter-widgets/controls",
            "_model_module_version": "1.5.0",
            "_model_name": "DescriptionStyleModel",
            "_view_count": null,
            "_view_module": "@jupyter-widgets/base",
            "_view_module_version": "1.2.0",
            "_view_name": "StyleView",
            "description_width": ""
          }
        },
        "a8a0aee3fc984333acad8a18326440ea": {
          "model_module": "@jupyter-widgets/controls",
          "model_name": "HBoxModel",
          "model_module_version": "1.5.0",
          "state": {
            "_dom_classes": [],
            "_model_module": "@jupyter-widgets/controls",
            "_model_module_version": "1.5.0",
            "_model_name": "HBoxModel",
            "_view_count": null,
            "_view_module": "@jupyter-widgets/controls",
            "_view_module_version": "1.5.0",
            "_view_name": "HBoxView",
            "box_style": "",
            "children": [
              "IPY_MODEL_751fd80376ea4cc19101bf2de3df1727",
              "IPY_MODEL_9e722d84c9d046699be21d4580f70567",
              "IPY_MODEL_405b855ecac24fafadcb216340844807"
            ],
            "layout": "IPY_MODEL_d87c0c2d0be344a7b8d87c389967f5dc"
          }
        },
        "751fd80376ea4cc19101bf2de3df1727": {
          "model_module": "@jupyter-widgets/controls",
          "model_name": "HTMLModel",
          "model_module_version": "1.5.0",
          "state": {
            "_dom_classes": [],
            "_model_module": "@jupyter-widgets/controls",
            "_model_module_version": "1.5.0",
            "_model_name": "HTMLModel",
            "_view_count": null,
            "_view_module": "@jupyter-widgets/controls",
            "_view_module_version": "1.5.0",
            "_view_name": "HTMLView",
            "description": "",
            "description_tooltip": null,
            "layout": "IPY_MODEL_c058d456bb434d3da306d1b55a37b2be",
            "placeholder": "​",
            "style": "IPY_MODEL_67997d1f0d75415cac2c6fed2dd31b12",
            "value": "model.safetensors: 100%"
          }
        },
        "9e722d84c9d046699be21d4580f70567": {
          "model_module": "@jupyter-widgets/controls",
          "model_name": "FloatProgressModel",
          "model_module_version": "1.5.0",
          "state": {
            "_dom_classes": [],
            "_model_module": "@jupyter-widgets/controls",
            "_model_module_version": "1.5.0",
            "_model_name": "FloatProgressModel",
            "_view_count": null,
            "_view_module": "@jupyter-widgets/controls",
            "_view_module_version": "1.5.0",
            "_view_name": "ProgressView",
            "bar_style": "success",
            "description": "",
            "description_tooltip": null,
            "layout": "IPY_MODEL_9cf814f756e64b5c9648f753479b31af",
            "max": 1421488104,
            "min": 0,
            "orientation": "horizontal",
            "style": "IPY_MODEL_2edad5f5b14240c883cc63d69dff5055",
            "value": 1421488104
          }
        },
        "405b855ecac24fafadcb216340844807": {
          "model_module": "@jupyter-widgets/controls",
          "model_name": "HTMLModel",
          "model_module_version": "1.5.0",
          "state": {
            "_dom_classes": [],
            "_model_module": "@jupyter-widgets/controls",
            "_model_module_version": "1.5.0",
            "_model_name": "HTMLModel",
            "_view_count": null,
            "_view_module": "@jupyter-widgets/controls",
            "_view_module_version": "1.5.0",
            "_view_name": "HTMLView",
            "description": "",
            "description_tooltip": null,
            "layout": "IPY_MODEL_6da1a463728b420bb573951719d506f8",
            "placeholder": "​",
            "style": "IPY_MODEL_f4bc1ddd1b9d4bddbdbd4469390c54cf",
            "value": " 1.42G/1.42G [00:16&lt;00:00, 64.9MB/s]"
          }
        },
        "d87c0c2d0be344a7b8d87c389967f5dc": {
          "model_module": "@jupyter-widgets/base",
          "model_name": "LayoutModel",
          "model_module_version": "1.2.0",
          "state": {
            "_model_module": "@jupyter-widgets/base",
            "_model_module_version": "1.2.0",
            "_model_name": "LayoutModel",
            "_view_count": null,
            "_view_module": "@jupyter-widgets/base",
            "_view_module_version": "1.2.0",
            "_view_name": "LayoutView",
            "align_content": null,
            "align_items": null,
            "align_self": null,
            "border": null,
            "bottom": null,
            "display": null,
            "flex": null,
            "flex_flow": null,
            "grid_area": null,
            "grid_auto_columns": null,
            "grid_auto_flow": null,
            "grid_auto_rows": null,
            "grid_column": null,
            "grid_gap": null,
            "grid_row": null,
            "grid_template_areas": null,
            "grid_template_columns": null,
            "grid_template_rows": null,
            "height": null,
            "justify_content": null,
            "justify_items": null,
            "left": null,
            "margin": null,
            "max_height": null,
            "max_width": null,
            "min_height": null,
            "min_width": null,
            "object_fit": null,
            "object_position": null,
            "order": null,
            "overflow": null,
            "overflow_x": null,
            "overflow_y": null,
            "padding": null,
            "right": null,
            "top": null,
            "visibility": null,
            "width": null
          }
        },
        "c058d456bb434d3da306d1b55a37b2be": {
          "model_module": "@jupyter-widgets/base",
          "model_name": "LayoutModel",
          "model_module_version": "1.2.0",
          "state": {
            "_model_module": "@jupyter-widgets/base",
            "_model_module_version": "1.2.0",
            "_model_name": "LayoutModel",
            "_view_count": null,
            "_view_module": "@jupyter-widgets/base",
            "_view_module_version": "1.2.0",
            "_view_name": "LayoutView",
            "align_content": null,
            "align_items": null,
            "align_self": null,
            "border": null,
            "bottom": null,
            "display": null,
            "flex": null,
            "flex_flow": null,
            "grid_area": null,
            "grid_auto_columns": null,
            "grid_auto_flow": null,
            "grid_auto_rows": null,
            "grid_column": null,
            "grid_gap": null,
            "grid_row": null,
            "grid_template_areas": null,
            "grid_template_columns": null,
            "grid_template_rows": null,
            "height": null,
            "justify_content": null,
            "justify_items": null,
            "left": null,
            "margin": null,
            "max_height": null,
            "max_width": null,
            "min_height": null,
            "min_width": null,
            "object_fit": null,
            "object_position": null,
            "order": null,
            "overflow": null,
            "overflow_x": null,
            "overflow_y": null,
            "padding": null,
            "right": null,
            "top": null,
            "visibility": null,
            "width": null
          }
        },
        "67997d1f0d75415cac2c6fed2dd31b12": {
          "model_module": "@jupyter-widgets/controls",
          "model_name": "DescriptionStyleModel",
          "model_module_version": "1.5.0",
          "state": {
            "_model_module": "@jupyter-widgets/controls",
            "_model_module_version": "1.5.0",
            "_model_name": "DescriptionStyleModel",
            "_view_count": null,
            "_view_module": "@jupyter-widgets/base",
            "_view_module_version": "1.2.0",
            "_view_name": "StyleView",
            "description_width": ""
          }
        },
        "9cf814f756e64b5c9648f753479b31af": {
          "model_module": "@jupyter-widgets/base",
          "model_name": "LayoutModel",
          "model_module_version": "1.2.0",
          "state": {
            "_model_module": "@jupyter-widgets/base",
            "_model_module_version": "1.2.0",
            "_model_name": "LayoutModel",
            "_view_count": null,
            "_view_module": "@jupyter-widgets/base",
            "_view_module_version": "1.2.0",
            "_view_name": "LayoutView",
            "align_content": null,
            "align_items": null,
            "align_self": null,
            "border": null,
            "bottom": null,
            "display": null,
            "flex": null,
            "flex_flow": null,
            "grid_area": null,
            "grid_auto_columns": null,
            "grid_auto_flow": null,
            "grid_auto_rows": null,
            "grid_column": null,
            "grid_gap": null,
            "grid_row": null,
            "grid_template_areas": null,
            "grid_template_columns": null,
            "grid_template_rows": null,
            "height": null,
            "justify_content": null,
            "justify_items": null,
            "left": null,
            "margin": null,
            "max_height": null,
            "max_width": null,
            "min_height": null,
            "min_width": null,
            "object_fit": null,
            "object_position": null,
            "order": null,
            "overflow": null,
            "overflow_x": null,
            "overflow_y": null,
            "padding": null,
            "right": null,
            "top": null,
            "visibility": null,
            "width": null
          }
        },
        "2edad5f5b14240c883cc63d69dff5055": {
          "model_module": "@jupyter-widgets/controls",
          "model_name": "ProgressStyleModel",
          "model_module_version": "1.5.0",
          "state": {
            "_model_module": "@jupyter-widgets/controls",
            "_model_module_version": "1.5.0",
            "_model_name": "ProgressStyleModel",
            "_view_count": null,
            "_view_module": "@jupyter-widgets/base",
            "_view_module_version": "1.2.0",
            "_view_name": "StyleView",
            "bar_color": null,
            "description_width": ""
          }
        },
        "6da1a463728b420bb573951719d506f8": {
          "model_module": "@jupyter-widgets/base",
          "model_name": "LayoutModel",
          "model_module_version": "1.2.0",
          "state": {
            "_model_module": "@jupyter-widgets/base",
            "_model_module_version": "1.2.0",
            "_model_name": "LayoutModel",
            "_view_count": null,
            "_view_module": "@jupyter-widgets/base",
            "_view_module_version": "1.2.0",
            "_view_name": "LayoutView",
            "align_content": null,
            "align_items": null,
            "align_self": null,
            "border": null,
            "bottom": null,
            "display": null,
            "flex": null,
            "flex_flow": null,
            "grid_area": null,
            "grid_auto_columns": null,
            "grid_auto_flow": null,
            "grid_auto_rows": null,
            "grid_column": null,
            "grid_gap": null,
            "grid_row": null,
            "grid_template_areas": null,
            "grid_template_columns": null,
            "grid_template_rows": null,
            "height": null,
            "justify_content": null,
            "justify_items": null,
            "left": null,
            "margin": null,
            "max_height": null,
            "max_width": null,
            "min_height": null,
            "min_width": null,
            "object_fit": null,
            "object_position": null,
            "order": null,
            "overflow": null,
            "overflow_x": null,
            "overflow_y": null,
            "padding": null,
            "right": null,
            "top": null,
            "visibility": null,
            "width": null
          }
        },
        "f4bc1ddd1b9d4bddbdbd4469390c54cf": {
          "model_module": "@jupyter-widgets/controls",
          "model_name": "DescriptionStyleModel",
          "model_module_version": "1.5.0",
          "state": {
            "_model_module": "@jupyter-widgets/controls",
            "_model_module_version": "1.5.0",
            "_model_name": "DescriptionStyleModel",
            "_view_count": null,
            "_view_module": "@jupyter-widgets/base",
            "_view_module_version": "1.2.0",
            "_view_name": "StyleView",
            "description_width": ""
          }
        },
        "1f475c55faf54a5eb7ac9423a3117b84": {
          "model_module": "@jupyter-widgets/controls",
          "model_name": "HBoxModel",
          "model_module_version": "1.5.0",
          "state": {
            "_dom_classes": [],
            "_model_module": "@jupyter-widgets/controls",
            "_model_module_version": "1.5.0",
            "_model_name": "HBoxModel",
            "_view_count": null,
            "_view_module": "@jupyter-widgets/controls",
            "_view_module_version": "1.5.0",
            "_view_name": "HBoxView",
            "box_style": "",
            "children": [
              "IPY_MODEL_6b63524a25e54c31839e237a3437bdf7",
              "IPY_MODEL_2f3147fb4f9d48da8c07c7beb5c0f4e7",
              "IPY_MODEL_6232b6e9411549fba6e04bef3a09344d"
            ],
            "layout": "IPY_MODEL_ba9ea2147c07474eb4991e792d71edcd"
          }
        },
        "6b63524a25e54c31839e237a3437bdf7": {
          "model_module": "@jupyter-widgets/controls",
          "model_name": "HTMLModel",
          "model_module_version": "1.5.0",
          "state": {
            "_dom_classes": [],
            "_model_module": "@jupyter-widgets/controls",
            "_model_module_version": "1.5.0",
            "_model_name": "HTMLModel",
            "_view_count": null,
            "_view_module": "@jupyter-widgets/controls",
            "_view_module_version": "1.5.0",
            "_view_name": "HTMLView",
            "description": "",
            "description_tooltip": null,
            "layout": "IPY_MODEL_17809f51e0c442fcab16c83208ae275f",
            "placeholder": "​",
            "style": "IPY_MODEL_b5064f134beb4e72b3a6637249725fc0",
            "value": "tokenizer_config.json: 100%"
          }
        },
        "2f3147fb4f9d48da8c07c7beb5c0f4e7": {
          "model_module": "@jupyter-widgets/controls",
          "model_name": "FloatProgressModel",
          "model_module_version": "1.5.0",
          "state": {
            "_dom_classes": [],
            "_model_module": "@jupyter-widgets/controls",
            "_model_module_version": "1.5.0",
            "_model_name": "FloatProgressModel",
            "_view_count": null,
            "_view_module": "@jupyter-widgets/controls",
            "_view_module_version": "1.5.0",
            "_view_name": "ProgressView",
            "bar_style": "success",
            "description": "",
            "description_tooltip": null,
            "layout": "IPY_MODEL_2e60888cb9a4432eae040c963cc45dfe",
            "max": 328,
            "min": 0,
            "orientation": "horizontal",
            "style": "IPY_MODEL_f5df6029e61a4f73ba960eb221b30f3f",
            "value": 328
          }
        },
        "6232b6e9411549fba6e04bef3a09344d": {
          "model_module": "@jupyter-widgets/controls",
          "model_name": "HTMLModel",
          "model_module_version": "1.5.0",
          "state": {
            "_dom_classes": [],
            "_model_module": "@jupyter-widgets/controls",
            "_model_module_version": "1.5.0",
            "_model_name": "HTMLModel",
            "_view_count": null,
            "_view_module": "@jupyter-widgets/controls",
            "_view_module_version": "1.5.0",
            "_view_name": "HTMLView",
            "description": "",
            "description_tooltip": null,
            "layout": "IPY_MODEL_c93bc9901b6543a0b0e6d42576eb8ba2",
            "placeholder": "​",
            "style": "IPY_MODEL_412fc04efae44d8bb483a368488a480e",
            "value": " 328/328 [00:00&lt;00:00, 30.3kB/s]"
          }
        },
        "ba9ea2147c07474eb4991e792d71edcd": {
          "model_module": "@jupyter-widgets/base",
          "model_name": "LayoutModel",
          "model_module_version": "1.2.0",
          "state": {
            "_model_module": "@jupyter-widgets/base",
            "_model_module_version": "1.2.0",
            "_model_name": "LayoutModel",
            "_view_count": null,
            "_view_module": "@jupyter-widgets/base",
            "_view_module_version": "1.2.0",
            "_view_name": "LayoutView",
            "align_content": null,
            "align_items": null,
            "align_self": null,
            "border": null,
            "bottom": null,
            "display": null,
            "flex": null,
            "flex_flow": null,
            "grid_area": null,
            "grid_auto_columns": null,
            "grid_auto_flow": null,
            "grid_auto_rows": null,
            "grid_column": null,
            "grid_gap": null,
            "grid_row": null,
            "grid_template_areas": null,
            "grid_template_columns": null,
            "grid_template_rows": null,
            "height": null,
            "justify_content": null,
            "justify_items": null,
            "left": null,
            "margin": null,
            "max_height": null,
            "max_width": null,
            "min_height": null,
            "min_width": null,
            "object_fit": null,
            "object_position": null,
            "order": null,
            "overflow": null,
            "overflow_x": null,
            "overflow_y": null,
            "padding": null,
            "right": null,
            "top": null,
            "visibility": null,
            "width": null
          }
        },
        "17809f51e0c442fcab16c83208ae275f": {
          "model_module": "@jupyter-widgets/base",
          "model_name": "LayoutModel",
          "model_module_version": "1.2.0",
          "state": {
            "_model_module": "@jupyter-widgets/base",
            "_model_module_version": "1.2.0",
            "_model_name": "LayoutModel",
            "_view_count": null,
            "_view_module": "@jupyter-widgets/base",
            "_view_module_version": "1.2.0",
            "_view_name": "LayoutView",
            "align_content": null,
            "align_items": null,
            "align_self": null,
            "border": null,
            "bottom": null,
            "display": null,
            "flex": null,
            "flex_flow": null,
            "grid_area": null,
            "grid_auto_columns": null,
            "grid_auto_flow": null,
            "grid_auto_rows": null,
            "grid_column": null,
            "grid_gap": null,
            "grid_row": null,
            "grid_template_areas": null,
            "grid_template_columns": null,
            "grid_template_rows": null,
            "height": null,
            "justify_content": null,
            "justify_items": null,
            "left": null,
            "margin": null,
            "max_height": null,
            "max_width": null,
            "min_height": null,
            "min_width": null,
            "object_fit": null,
            "object_position": null,
            "order": null,
            "overflow": null,
            "overflow_x": null,
            "overflow_y": null,
            "padding": null,
            "right": null,
            "top": null,
            "visibility": null,
            "width": null
          }
        },
        "b5064f134beb4e72b3a6637249725fc0": {
          "model_module": "@jupyter-widgets/controls",
          "model_name": "DescriptionStyleModel",
          "model_module_version": "1.5.0",
          "state": {
            "_model_module": "@jupyter-widgets/controls",
            "_model_module_version": "1.5.0",
            "_model_name": "DescriptionStyleModel",
            "_view_count": null,
            "_view_module": "@jupyter-widgets/base",
            "_view_module_version": "1.2.0",
            "_view_name": "StyleView",
            "description_width": ""
          }
        },
        "2e60888cb9a4432eae040c963cc45dfe": {
          "model_module": "@jupyter-widgets/base",
          "model_name": "LayoutModel",
          "model_module_version": "1.2.0",
          "state": {
            "_model_module": "@jupyter-widgets/base",
            "_model_module_version": "1.2.0",
            "_model_name": "LayoutModel",
            "_view_count": null,
            "_view_module": "@jupyter-widgets/base",
            "_view_module_version": "1.2.0",
            "_view_name": "LayoutView",
            "align_content": null,
            "align_items": null,
            "align_self": null,
            "border": null,
            "bottom": null,
            "display": null,
            "flex": null,
            "flex_flow": null,
            "grid_area": null,
            "grid_auto_columns": null,
            "grid_auto_flow": null,
            "grid_auto_rows": null,
            "grid_column": null,
            "grid_gap": null,
            "grid_row": null,
            "grid_template_areas": null,
            "grid_template_columns": null,
            "grid_template_rows": null,
            "height": null,
            "justify_content": null,
            "justify_items": null,
            "left": null,
            "margin": null,
            "max_height": null,
            "max_width": null,
            "min_height": null,
            "min_width": null,
            "object_fit": null,
            "object_position": null,
            "order": null,
            "overflow": null,
            "overflow_x": null,
            "overflow_y": null,
            "padding": null,
            "right": null,
            "top": null,
            "visibility": null,
            "width": null
          }
        },
        "f5df6029e61a4f73ba960eb221b30f3f": {
          "model_module": "@jupyter-widgets/controls",
          "model_name": "ProgressStyleModel",
          "model_module_version": "1.5.0",
          "state": {
            "_model_module": "@jupyter-widgets/controls",
            "_model_module_version": "1.5.0",
            "_model_name": "ProgressStyleModel",
            "_view_count": null,
            "_view_module": "@jupyter-widgets/base",
            "_view_module_version": "1.2.0",
            "_view_name": "StyleView",
            "bar_color": null,
            "description_width": ""
          }
        },
        "c93bc9901b6543a0b0e6d42576eb8ba2": {
          "model_module": "@jupyter-widgets/base",
          "model_name": "LayoutModel",
          "model_module_version": "1.2.0",
          "state": {
            "_model_module": "@jupyter-widgets/base",
            "_model_module_version": "1.2.0",
            "_model_name": "LayoutModel",
            "_view_count": null,
            "_view_module": "@jupyter-widgets/base",
            "_view_module_version": "1.2.0",
            "_view_name": "LayoutView",
            "align_content": null,
            "align_items": null,
            "align_self": null,
            "border": null,
            "bottom": null,
            "display": null,
            "flex": null,
            "flex_flow": null,
            "grid_area": null,
            "grid_auto_columns": null,
            "grid_auto_flow": null,
            "grid_auto_rows": null,
            "grid_column": null,
            "grid_gap": null,
            "grid_row": null,
            "grid_template_areas": null,
            "grid_template_columns": null,
            "grid_template_rows": null,
            "height": null,
            "justify_content": null,
            "justify_items": null,
            "left": null,
            "margin": null,
            "max_height": null,
            "max_width": null,
            "min_height": null,
            "min_width": null,
            "object_fit": null,
            "object_position": null,
            "order": null,
            "overflow": null,
            "overflow_x": null,
            "overflow_y": null,
            "padding": null,
            "right": null,
            "top": null,
            "visibility": null,
            "width": null
          }
        },
        "412fc04efae44d8bb483a368488a480e": {
          "model_module": "@jupyter-widgets/controls",
          "model_name": "DescriptionStyleModel",
          "model_module_version": "1.5.0",
          "state": {
            "_model_module": "@jupyter-widgets/controls",
            "_model_module_version": "1.5.0",
            "_model_name": "DescriptionStyleModel",
            "_view_count": null,
            "_view_module": "@jupyter-widgets/base",
            "_view_module_version": "1.2.0",
            "_view_name": "StyleView",
            "description_width": ""
          }
        },
        "8d81736b160b41e0843a74a525ba3ebe": {
          "model_module": "@jupyter-widgets/controls",
          "model_name": "HBoxModel",
          "model_module_version": "1.5.0",
          "state": {
            "_dom_classes": [],
            "_model_module": "@jupyter-widgets/controls",
            "_model_module_version": "1.5.0",
            "_model_name": "HBoxModel",
            "_view_count": null,
            "_view_module": "@jupyter-widgets/controls",
            "_view_module_version": "1.5.0",
            "_view_name": "HBoxView",
            "box_style": "",
            "children": [
              "IPY_MODEL_29eb66e410864d6bbe4843e85a93eda8",
              "IPY_MODEL_fdf06c2203b54a9f904f31bfd4e64499",
              "IPY_MODEL_4b4e335ea34e4283b9a84bdfc67c3bda"
            ],
            "layout": "IPY_MODEL_530e6305c2d24c6abdc8f52885e89ec5"
          }
        },
        "29eb66e410864d6bbe4843e85a93eda8": {
          "model_module": "@jupyter-widgets/controls",
          "model_name": "HTMLModel",
          "model_module_version": "1.5.0",
          "state": {
            "_dom_classes": [],
            "_model_module": "@jupyter-widgets/controls",
            "_model_module_version": "1.5.0",
            "_model_name": "HTMLModel",
            "_view_count": null,
            "_view_module": "@jupyter-widgets/controls",
            "_view_module_version": "1.5.0",
            "_view_name": "HTMLView",
            "description": "",
            "description_tooltip": null,
            "layout": "IPY_MODEL_2d01526bdcec475c8c598047c5a27716",
            "placeholder": "​",
            "style": "IPY_MODEL_127e525edf1d4d11b4596d2682ed2c4a",
            "value": "vocab.json: 100%"
          }
        },
        "fdf06c2203b54a9f904f31bfd4e64499": {
          "model_module": "@jupyter-widgets/controls",
          "model_name": "FloatProgressModel",
          "model_module_version": "1.5.0",
          "state": {
            "_dom_classes": [],
            "_model_module": "@jupyter-widgets/controls",
            "_model_module_version": "1.5.0",
            "_model_name": "FloatProgressModel",
            "_view_count": null,
            "_view_module": "@jupyter-widgets/controls",
            "_view_module_version": "1.5.0",
            "_view_name": "ProgressView",
            "bar_style": "success",
            "description": "",
            "description_tooltip": null,
            "layout": "IPY_MODEL_948e6d8d8c7e434186ad7a96aa24ff7a",
            "max": 798293,
            "min": 0,
            "orientation": "horizontal",
            "style": "IPY_MODEL_ce5c2ccc726f4782bd47db0e4232544e",
            "value": 798293
          }
        },
        "4b4e335ea34e4283b9a84bdfc67c3bda": {
          "model_module": "@jupyter-widgets/controls",
          "model_name": "HTMLModel",
          "model_module_version": "1.5.0",
          "state": {
            "_dom_classes": [],
            "_model_module": "@jupyter-widgets/controls",
            "_model_module_version": "1.5.0",
            "_model_name": "HTMLModel",
            "_view_count": null,
            "_view_module": "@jupyter-widgets/controls",
            "_view_module_version": "1.5.0",
            "_view_name": "HTMLView",
            "description": "",
            "description_tooltip": null,
            "layout": "IPY_MODEL_8347d382dd3246b0aed3f11cfe8eb7e0",
            "placeholder": "​",
            "style": "IPY_MODEL_e57cc01a0ceb458fa93da7bd79bacb44",
            "value": " 798k/798k [00:00&lt;00:00, 11.6MB/s]"
          }
        },
        "530e6305c2d24c6abdc8f52885e89ec5": {
          "model_module": "@jupyter-widgets/base",
          "model_name": "LayoutModel",
          "model_module_version": "1.2.0",
          "state": {
            "_model_module": "@jupyter-widgets/base",
            "_model_module_version": "1.2.0",
            "_model_name": "LayoutModel",
            "_view_count": null,
            "_view_module": "@jupyter-widgets/base",
            "_view_module_version": "1.2.0",
            "_view_name": "LayoutView",
            "align_content": null,
            "align_items": null,
            "align_self": null,
            "border": null,
            "bottom": null,
            "display": null,
            "flex": null,
            "flex_flow": null,
            "grid_area": null,
            "grid_auto_columns": null,
            "grid_auto_flow": null,
            "grid_auto_rows": null,
            "grid_column": null,
            "grid_gap": null,
            "grid_row": null,
            "grid_template_areas": null,
            "grid_template_columns": null,
            "grid_template_rows": null,
            "height": null,
            "justify_content": null,
            "justify_items": null,
            "left": null,
            "margin": null,
            "max_height": null,
            "max_width": null,
            "min_height": null,
            "min_width": null,
            "object_fit": null,
            "object_position": null,
            "order": null,
            "overflow": null,
            "overflow_x": null,
            "overflow_y": null,
            "padding": null,
            "right": null,
            "top": null,
            "visibility": null,
            "width": null
          }
        },
        "2d01526bdcec475c8c598047c5a27716": {
          "model_module": "@jupyter-widgets/base",
          "model_name": "LayoutModel",
          "model_module_version": "1.2.0",
          "state": {
            "_model_module": "@jupyter-widgets/base",
            "_model_module_version": "1.2.0",
            "_model_name": "LayoutModel",
            "_view_count": null,
            "_view_module": "@jupyter-widgets/base",
            "_view_module_version": "1.2.0",
            "_view_name": "LayoutView",
            "align_content": null,
            "align_items": null,
            "align_self": null,
            "border": null,
            "bottom": null,
            "display": null,
            "flex": null,
            "flex_flow": null,
            "grid_area": null,
            "grid_auto_columns": null,
            "grid_auto_flow": null,
            "grid_auto_rows": null,
            "grid_column": null,
            "grid_gap": null,
            "grid_row": null,
            "grid_template_areas": null,
            "grid_template_columns": null,
            "grid_template_rows": null,
            "height": null,
            "justify_content": null,
            "justify_items": null,
            "left": null,
            "margin": null,
            "max_height": null,
            "max_width": null,
            "min_height": null,
            "min_width": null,
            "object_fit": null,
            "object_position": null,
            "order": null,
            "overflow": null,
            "overflow_x": null,
            "overflow_y": null,
            "padding": null,
            "right": null,
            "top": null,
            "visibility": null,
            "width": null
          }
        },
        "127e525edf1d4d11b4596d2682ed2c4a": {
          "model_module": "@jupyter-widgets/controls",
          "model_name": "DescriptionStyleModel",
          "model_module_version": "1.5.0",
          "state": {
            "_model_module": "@jupyter-widgets/controls",
            "_model_module_version": "1.5.0",
            "_model_name": "DescriptionStyleModel",
            "_view_count": null,
            "_view_module": "@jupyter-widgets/base",
            "_view_module_version": "1.2.0",
            "_view_name": "StyleView",
            "description_width": ""
          }
        },
        "948e6d8d8c7e434186ad7a96aa24ff7a": {
          "model_module": "@jupyter-widgets/base",
          "model_name": "LayoutModel",
          "model_module_version": "1.2.0",
          "state": {
            "_model_module": "@jupyter-widgets/base",
            "_model_module_version": "1.2.0",
            "_model_name": "LayoutModel",
            "_view_count": null,
            "_view_module": "@jupyter-widgets/base",
            "_view_module_version": "1.2.0",
            "_view_name": "LayoutView",
            "align_content": null,
            "align_items": null,
            "align_self": null,
            "border": null,
            "bottom": null,
            "display": null,
            "flex": null,
            "flex_flow": null,
            "grid_area": null,
            "grid_auto_columns": null,
            "grid_auto_flow": null,
            "grid_auto_rows": null,
            "grid_column": null,
            "grid_gap": null,
            "grid_row": null,
            "grid_template_areas": null,
            "grid_template_columns": null,
            "grid_template_rows": null,
            "height": null,
            "justify_content": null,
            "justify_items": null,
            "left": null,
            "margin": null,
            "max_height": null,
            "max_width": null,
            "min_height": null,
            "min_width": null,
            "object_fit": null,
            "object_position": null,
            "order": null,
            "overflow": null,
            "overflow_x": null,
            "overflow_y": null,
            "padding": null,
            "right": null,
            "top": null,
            "visibility": null,
            "width": null
          }
        },
        "ce5c2ccc726f4782bd47db0e4232544e": {
          "model_module": "@jupyter-widgets/controls",
          "model_name": "ProgressStyleModel",
          "model_module_version": "1.5.0",
          "state": {
            "_model_module": "@jupyter-widgets/controls",
            "_model_module_version": "1.5.0",
            "_model_name": "ProgressStyleModel",
            "_view_count": null,
            "_view_module": "@jupyter-widgets/base",
            "_view_module_version": "1.2.0",
            "_view_name": "StyleView",
            "bar_color": null,
            "description_width": ""
          }
        },
        "8347d382dd3246b0aed3f11cfe8eb7e0": {
          "model_module": "@jupyter-widgets/base",
          "model_name": "LayoutModel",
          "model_module_version": "1.2.0",
          "state": {
            "_model_module": "@jupyter-widgets/base",
            "_model_module_version": "1.2.0",
            "_model_name": "LayoutModel",
            "_view_count": null,
            "_view_module": "@jupyter-widgets/base",
            "_view_module_version": "1.2.0",
            "_view_name": "LayoutView",
            "align_content": null,
            "align_items": null,
            "align_self": null,
            "border": null,
            "bottom": null,
            "display": null,
            "flex": null,
            "flex_flow": null,
            "grid_area": null,
            "grid_auto_columns": null,
            "grid_auto_flow": null,
            "grid_auto_rows": null,
            "grid_column": null,
            "grid_gap": null,
            "grid_row": null,
            "grid_template_areas": null,
            "grid_template_columns": null,
            "grid_template_rows": null,
            "height": null,
            "justify_content": null,
            "justify_items": null,
            "left": null,
            "margin": null,
            "max_height": null,
            "max_width": null,
            "min_height": null,
            "min_width": null,
            "object_fit": null,
            "object_position": null,
            "order": null,
            "overflow": null,
            "overflow_x": null,
            "overflow_y": null,
            "padding": null,
            "right": null,
            "top": null,
            "visibility": null,
            "width": null
          }
        },
        "e57cc01a0ceb458fa93da7bd79bacb44": {
          "model_module": "@jupyter-widgets/controls",
          "model_name": "DescriptionStyleModel",
          "model_module_version": "1.5.0",
          "state": {
            "_model_module": "@jupyter-widgets/controls",
            "_model_module_version": "1.5.0",
            "_model_name": "DescriptionStyleModel",
            "_view_count": null,
            "_view_module": "@jupyter-widgets/base",
            "_view_module_version": "1.2.0",
            "_view_name": "StyleView",
            "description_width": ""
          }
        },
        "2e64038134f34acd984c75fd970725d3": {
          "model_module": "@jupyter-widgets/controls",
          "model_name": "HBoxModel",
          "model_module_version": "1.5.0",
          "state": {
            "_dom_classes": [],
            "_model_module": "@jupyter-widgets/controls",
            "_model_module_version": "1.5.0",
            "_model_name": "HBoxModel",
            "_view_count": null,
            "_view_module": "@jupyter-widgets/controls",
            "_view_module_version": "1.5.0",
            "_view_name": "HBoxView",
            "box_style": "",
            "children": [
              "IPY_MODEL_c02f5d4b8c6642d0b5ebc5d8e87eca14",
              "IPY_MODEL_daf333a482664f19b770e2df12e46a45",
              "IPY_MODEL_914f741f794348c88ea4ec12642c29d7"
            ],
            "layout": "IPY_MODEL_da1636a5b377480689c8079109520251"
          }
        },
        "c02f5d4b8c6642d0b5ebc5d8e87eca14": {
          "model_module": "@jupyter-widgets/controls",
          "model_name": "HTMLModel",
          "model_module_version": "1.5.0",
          "state": {
            "_dom_classes": [],
            "_model_module": "@jupyter-widgets/controls",
            "_model_module_version": "1.5.0",
            "_model_name": "HTMLModel",
            "_view_count": null,
            "_view_module": "@jupyter-widgets/controls",
            "_view_module_version": "1.5.0",
            "_view_name": "HTMLView",
            "description": "",
            "description_tooltip": null,
            "layout": "IPY_MODEL_f5120bd3b6ce49d2a607fa38298a5313",
            "placeholder": "​",
            "style": "IPY_MODEL_1e706578e0ea4ff58ae78f9cf64d2f6f",
            "value": "merges.txt: 100%"
          }
        },
        "daf333a482664f19b770e2df12e46a45": {
          "model_module": "@jupyter-widgets/controls",
          "model_name": "FloatProgressModel",
          "model_module_version": "1.5.0",
          "state": {
            "_dom_classes": [],
            "_model_module": "@jupyter-widgets/controls",
            "_model_module_version": "1.5.0",
            "_model_name": "FloatProgressModel",
            "_view_count": null,
            "_view_module": "@jupyter-widgets/controls",
            "_view_module_version": "1.5.0",
            "_view_name": "ProgressView",
            "bar_style": "success",
            "description": "",
            "description_tooltip": null,
            "layout": "IPY_MODEL_18b5ad27a229429bb6fee2d503b5dd1a",
            "max": 456356,
            "min": 0,
            "orientation": "horizontal",
            "style": "IPY_MODEL_a6d9bc7b156a4d5a9c21b11e5394179c",
            "value": 456356
          }
        },
        "914f741f794348c88ea4ec12642c29d7": {
          "model_module": "@jupyter-widgets/controls",
          "model_name": "HTMLModel",
          "model_module_version": "1.5.0",
          "state": {
            "_dom_classes": [],
            "_model_module": "@jupyter-widgets/controls",
            "_model_module_version": "1.5.0",
            "_model_name": "HTMLModel",
            "_view_count": null,
            "_view_module": "@jupyter-widgets/controls",
            "_view_module_version": "1.5.0",
            "_view_name": "HTMLView",
            "description": "",
            "description_tooltip": null,
            "layout": "IPY_MODEL_29d328cfde834b119cd91c6fb7acc35c",
            "placeholder": "​",
            "style": "IPY_MODEL_fdf88f775e2e4f78925b4df758a7346d",
            "value": " 456k/456k [00:00&lt;00:00, 33.5MB/s]"
          }
        },
        "da1636a5b377480689c8079109520251": {
          "model_module": "@jupyter-widgets/base",
          "model_name": "LayoutModel",
          "model_module_version": "1.2.0",
          "state": {
            "_model_module": "@jupyter-widgets/base",
            "_model_module_version": "1.2.0",
            "_model_name": "LayoutModel",
            "_view_count": null,
            "_view_module": "@jupyter-widgets/base",
            "_view_module_version": "1.2.0",
            "_view_name": "LayoutView",
            "align_content": null,
            "align_items": null,
            "align_self": null,
            "border": null,
            "bottom": null,
            "display": null,
            "flex": null,
            "flex_flow": null,
            "grid_area": null,
            "grid_auto_columns": null,
            "grid_auto_flow": null,
            "grid_auto_rows": null,
            "grid_column": null,
            "grid_gap": null,
            "grid_row": null,
            "grid_template_areas": null,
            "grid_template_columns": null,
            "grid_template_rows": null,
            "height": null,
            "justify_content": null,
            "justify_items": null,
            "left": null,
            "margin": null,
            "max_height": null,
            "max_width": null,
            "min_height": null,
            "min_width": null,
            "object_fit": null,
            "object_position": null,
            "order": null,
            "overflow": null,
            "overflow_x": null,
            "overflow_y": null,
            "padding": null,
            "right": null,
            "top": null,
            "visibility": null,
            "width": null
          }
        },
        "f5120bd3b6ce49d2a607fa38298a5313": {
          "model_module": "@jupyter-widgets/base",
          "model_name": "LayoutModel",
          "model_module_version": "1.2.0",
          "state": {
            "_model_module": "@jupyter-widgets/base",
            "_model_module_version": "1.2.0",
            "_model_name": "LayoutModel",
            "_view_count": null,
            "_view_module": "@jupyter-widgets/base",
            "_view_module_version": "1.2.0",
            "_view_name": "LayoutView",
            "align_content": null,
            "align_items": null,
            "align_self": null,
            "border": null,
            "bottom": null,
            "display": null,
            "flex": null,
            "flex_flow": null,
            "grid_area": null,
            "grid_auto_columns": null,
            "grid_auto_flow": null,
            "grid_auto_rows": null,
            "grid_column": null,
            "grid_gap": null,
            "grid_row": null,
            "grid_template_areas": null,
            "grid_template_columns": null,
            "grid_template_rows": null,
            "height": null,
            "justify_content": null,
            "justify_items": null,
            "left": null,
            "margin": null,
            "max_height": null,
            "max_width": null,
            "min_height": null,
            "min_width": null,
            "object_fit": null,
            "object_position": null,
            "order": null,
            "overflow": null,
            "overflow_x": null,
            "overflow_y": null,
            "padding": null,
            "right": null,
            "top": null,
            "visibility": null,
            "width": null
          }
        },
        "1e706578e0ea4ff58ae78f9cf64d2f6f": {
          "model_module": "@jupyter-widgets/controls",
          "model_name": "DescriptionStyleModel",
          "model_module_version": "1.5.0",
          "state": {
            "_model_module": "@jupyter-widgets/controls",
            "_model_module_version": "1.5.0",
            "_model_name": "DescriptionStyleModel",
            "_view_count": null,
            "_view_module": "@jupyter-widgets/base",
            "_view_module_version": "1.2.0",
            "_view_name": "StyleView",
            "description_width": ""
          }
        },
        "18b5ad27a229429bb6fee2d503b5dd1a": {
          "model_module": "@jupyter-widgets/base",
          "model_name": "LayoutModel",
          "model_module_version": "1.2.0",
          "state": {
            "_model_module": "@jupyter-widgets/base",
            "_model_module_version": "1.2.0",
            "_model_name": "LayoutModel",
            "_view_count": null,
            "_view_module": "@jupyter-widgets/base",
            "_view_module_version": "1.2.0",
            "_view_name": "LayoutView",
            "align_content": null,
            "align_items": null,
            "align_self": null,
            "border": null,
            "bottom": null,
            "display": null,
            "flex": null,
            "flex_flow": null,
            "grid_area": null,
            "grid_auto_columns": null,
            "grid_auto_flow": null,
            "grid_auto_rows": null,
            "grid_column": null,
            "grid_gap": null,
            "grid_row": null,
            "grid_template_areas": null,
            "grid_template_columns": null,
            "grid_template_rows": null,
            "height": null,
            "justify_content": null,
            "justify_items": null,
            "left": null,
            "margin": null,
            "max_height": null,
            "max_width": null,
            "min_height": null,
            "min_width": null,
            "object_fit": null,
            "object_position": null,
            "order": null,
            "overflow": null,
            "overflow_x": null,
            "overflow_y": null,
            "padding": null,
            "right": null,
            "top": null,
            "visibility": null,
            "width": null
          }
        },
        "a6d9bc7b156a4d5a9c21b11e5394179c": {
          "model_module": "@jupyter-widgets/controls",
          "model_name": "ProgressStyleModel",
          "model_module_version": "1.5.0",
          "state": {
            "_model_module": "@jupyter-widgets/controls",
            "_model_module_version": "1.5.0",
            "_model_name": "ProgressStyleModel",
            "_view_count": null,
            "_view_module": "@jupyter-widgets/base",
            "_view_module_version": "1.2.0",
            "_view_name": "StyleView",
            "bar_color": null,
            "description_width": ""
          }
        },
        "29d328cfde834b119cd91c6fb7acc35c": {
          "model_module": "@jupyter-widgets/base",
          "model_name": "LayoutModel",
          "model_module_version": "1.2.0",
          "state": {
            "_model_module": "@jupyter-widgets/base",
            "_model_module_version": "1.2.0",
            "_model_name": "LayoutModel",
            "_view_count": null,
            "_view_module": "@jupyter-widgets/base",
            "_view_module_version": "1.2.0",
            "_view_name": "LayoutView",
            "align_content": null,
            "align_items": null,
            "align_self": null,
            "border": null,
            "bottom": null,
            "display": null,
            "flex": null,
            "flex_flow": null,
            "grid_area": null,
            "grid_auto_columns": null,
            "grid_auto_flow": null,
            "grid_auto_rows": null,
            "grid_column": null,
            "grid_gap": null,
            "grid_row": null,
            "grid_template_areas": null,
            "grid_template_columns": null,
            "grid_template_rows": null,
            "height": null,
            "justify_content": null,
            "justify_items": null,
            "left": null,
            "margin": null,
            "max_height": null,
            "max_width": null,
            "min_height": null,
            "min_width": null,
            "object_fit": null,
            "object_position": null,
            "order": null,
            "overflow": null,
            "overflow_x": null,
            "overflow_y": null,
            "padding": null,
            "right": null,
            "top": null,
            "visibility": null,
            "width": null
          }
        },
        "fdf88f775e2e4f78925b4df758a7346d": {
          "model_module": "@jupyter-widgets/controls",
          "model_name": "DescriptionStyleModel",
          "model_module_version": "1.5.0",
          "state": {
            "_model_module": "@jupyter-widgets/controls",
            "_model_module_version": "1.5.0",
            "_model_name": "DescriptionStyleModel",
            "_view_count": null,
            "_view_module": "@jupyter-widgets/base",
            "_view_module_version": "1.2.0",
            "_view_name": "StyleView",
            "description_width": ""
          }
        },
        "fa3301bc77ce40c3bc43fd36b1f0f878": {
          "model_module": "@jupyter-widgets/controls",
          "model_name": "HBoxModel",
          "model_module_version": "1.5.0",
          "state": {
            "_dom_classes": [],
            "_model_module": "@jupyter-widgets/controls",
            "_model_module_version": "1.5.0",
            "_model_name": "HBoxModel",
            "_view_count": null,
            "_view_module": "@jupyter-widgets/controls",
            "_view_module_version": "1.5.0",
            "_view_name": "HBoxView",
            "box_style": "",
            "children": [
              "IPY_MODEL_5fce5f394fd64b2b8a02d453cd3a5b86",
              "IPY_MODEL_55045a0d588043c18a5c54b95cfdadcb",
              "IPY_MODEL_8b47c7df848c4b92958abc3f8e128fa5"
            ],
            "layout": "IPY_MODEL_faf9325fd19d4d2f900c8d991ca377ee"
          }
        },
        "5fce5f394fd64b2b8a02d453cd3a5b86": {
          "model_module": "@jupyter-widgets/controls",
          "model_name": "HTMLModel",
          "model_module_version": "1.5.0",
          "state": {
            "_dom_classes": [],
            "_model_module": "@jupyter-widgets/controls",
            "_model_module_version": "1.5.0",
            "_model_name": "HTMLModel",
            "_view_count": null,
            "_view_module": "@jupyter-widgets/controls",
            "_view_module_version": "1.5.0",
            "_view_name": "HTMLView",
            "description": "",
            "description_tooltip": null,
            "layout": "IPY_MODEL_c77afac37af743aa9b0c275f043c9133",
            "placeholder": "​",
            "style": "IPY_MODEL_f9f886bdc66c400b901c161b984321e9",
            "value": "tokenizer.json: 100%"
          }
        },
        "55045a0d588043c18a5c54b95cfdadcb": {
          "model_module": "@jupyter-widgets/controls",
          "model_name": "FloatProgressModel",
          "model_module_version": "1.5.0",
          "state": {
            "_dom_classes": [],
            "_model_module": "@jupyter-widgets/controls",
            "_model_module_version": "1.5.0",
            "_model_name": "FloatProgressModel",
            "_view_count": null,
            "_view_module": "@jupyter-widgets/controls",
            "_view_module_version": "1.5.0",
            "_view_name": "ProgressView",
            "bar_style": "success",
            "description": "",
            "description_tooltip": null,
            "layout": "IPY_MODEL_87ae77a7919e48a5912e98e845734b91",
            "max": 1356047,
            "min": 0,
            "orientation": "horizontal",
            "style": "IPY_MODEL_5a406d31c0254a2495a89ebb1d7a20f3",
            "value": 1356047
          }
        },
        "8b47c7df848c4b92958abc3f8e128fa5": {
          "model_module": "@jupyter-widgets/controls",
          "model_name": "HTMLModel",
          "model_module_version": "1.5.0",
          "state": {
            "_dom_classes": [],
            "_model_module": "@jupyter-widgets/controls",
            "_model_module_version": "1.5.0",
            "_model_name": "HTMLModel",
            "_view_count": null,
            "_view_module": "@jupyter-widgets/controls",
            "_view_module_version": "1.5.0",
            "_view_name": "HTMLView",
            "description": "",
            "description_tooltip": null,
            "layout": "IPY_MODEL_9a3dbe0968584670924c69284d543ada",
            "placeholder": "​",
            "style": "IPY_MODEL_66b2f644d74a42239dce9c530d80390f",
            "value": " 1.36M/1.36M [00:00&lt;00:00, 42.7MB/s]"
          }
        },
        "faf9325fd19d4d2f900c8d991ca377ee": {
          "model_module": "@jupyter-widgets/base",
          "model_name": "LayoutModel",
          "model_module_version": "1.2.0",
          "state": {
            "_model_module": "@jupyter-widgets/base",
            "_model_module_version": "1.2.0",
            "_model_name": "LayoutModel",
            "_view_count": null,
            "_view_module": "@jupyter-widgets/base",
            "_view_module_version": "1.2.0",
            "_view_name": "LayoutView",
            "align_content": null,
            "align_items": null,
            "align_self": null,
            "border": null,
            "bottom": null,
            "display": null,
            "flex": null,
            "flex_flow": null,
            "grid_area": null,
            "grid_auto_columns": null,
            "grid_auto_flow": null,
            "grid_auto_rows": null,
            "grid_column": null,
            "grid_gap": null,
            "grid_row": null,
            "grid_template_areas": null,
            "grid_template_columns": null,
            "grid_template_rows": null,
            "height": null,
            "justify_content": null,
            "justify_items": null,
            "left": null,
            "margin": null,
            "max_height": null,
            "max_width": null,
            "min_height": null,
            "min_width": null,
            "object_fit": null,
            "object_position": null,
            "order": null,
            "overflow": null,
            "overflow_x": null,
            "overflow_y": null,
            "padding": null,
            "right": null,
            "top": null,
            "visibility": null,
            "width": null
          }
        },
        "c77afac37af743aa9b0c275f043c9133": {
          "model_module": "@jupyter-widgets/base",
          "model_name": "LayoutModel",
          "model_module_version": "1.2.0",
          "state": {
            "_model_module": "@jupyter-widgets/base",
            "_model_module_version": "1.2.0",
            "_model_name": "LayoutModel",
            "_view_count": null,
            "_view_module": "@jupyter-widgets/base",
            "_view_module_version": "1.2.0",
            "_view_name": "LayoutView",
            "align_content": null,
            "align_items": null,
            "align_self": null,
            "border": null,
            "bottom": null,
            "display": null,
            "flex": null,
            "flex_flow": null,
            "grid_area": null,
            "grid_auto_columns": null,
            "grid_auto_flow": null,
            "grid_auto_rows": null,
            "grid_column": null,
            "grid_gap": null,
            "grid_row": null,
            "grid_template_areas": null,
            "grid_template_columns": null,
            "grid_template_rows": null,
            "height": null,
            "justify_content": null,
            "justify_items": null,
            "left": null,
            "margin": null,
            "max_height": null,
            "max_width": null,
            "min_height": null,
            "min_width": null,
            "object_fit": null,
            "object_position": null,
            "order": null,
            "overflow": null,
            "overflow_x": null,
            "overflow_y": null,
            "padding": null,
            "right": null,
            "top": null,
            "visibility": null,
            "width": null
          }
        },
        "f9f886bdc66c400b901c161b984321e9": {
          "model_module": "@jupyter-widgets/controls",
          "model_name": "DescriptionStyleModel",
          "model_module_version": "1.5.0",
          "state": {
            "_model_module": "@jupyter-widgets/controls",
            "_model_module_version": "1.5.0",
            "_model_name": "DescriptionStyleModel",
            "_view_count": null,
            "_view_module": "@jupyter-widgets/base",
            "_view_module_version": "1.2.0",
            "_view_name": "StyleView",
            "description_width": ""
          }
        },
        "87ae77a7919e48a5912e98e845734b91": {
          "model_module": "@jupyter-widgets/base",
          "model_name": "LayoutModel",
          "model_module_version": "1.2.0",
          "state": {
            "_model_module": "@jupyter-widgets/base",
            "_model_module_version": "1.2.0",
            "_model_name": "LayoutModel",
            "_view_count": null,
            "_view_module": "@jupyter-widgets/base",
            "_view_module_version": "1.2.0",
            "_view_name": "LayoutView",
            "align_content": null,
            "align_items": null,
            "align_self": null,
            "border": null,
            "bottom": null,
            "display": null,
            "flex": null,
            "flex_flow": null,
            "grid_area": null,
            "grid_auto_columns": null,
            "grid_auto_flow": null,
            "grid_auto_rows": null,
            "grid_column": null,
            "grid_gap": null,
            "grid_row": null,
            "grid_template_areas": null,
            "grid_template_columns": null,
            "grid_template_rows": null,
            "height": null,
            "justify_content": null,
            "justify_items": null,
            "left": null,
            "margin": null,
            "max_height": null,
            "max_width": null,
            "min_height": null,
            "min_width": null,
            "object_fit": null,
            "object_position": null,
            "order": null,
            "overflow": null,
            "overflow_x": null,
            "overflow_y": null,
            "padding": null,
            "right": null,
            "top": null,
            "visibility": null,
            "width": null
          }
        },
        "5a406d31c0254a2495a89ebb1d7a20f3": {
          "model_module": "@jupyter-widgets/controls",
          "model_name": "ProgressStyleModel",
          "model_module_version": "1.5.0",
          "state": {
            "_model_module": "@jupyter-widgets/controls",
            "_model_module_version": "1.5.0",
            "_model_name": "ProgressStyleModel",
            "_view_count": null,
            "_view_module": "@jupyter-widgets/base",
            "_view_module_version": "1.2.0",
            "_view_name": "StyleView",
            "bar_color": null,
            "description_width": ""
          }
        },
        "9a3dbe0968584670924c69284d543ada": {
          "model_module": "@jupyter-widgets/base",
          "model_name": "LayoutModel",
          "model_module_version": "1.2.0",
          "state": {
            "_model_module": "@jupyter-widgets/base",
            "_model_module_version": "1.2.0",
            "_model_name": "LayoutModel",
            "_view_count": null,
            "_view_module": "@jupyter-widgets/base",
            "_view_module_version": "1.2.0",
            "_view_name": "LayoutView",
            "align_content": null,
            "align_items": null,
            "align_self": null,
            "border": null,
            "bottom": null,
            "display": null,
            "flex": null,
            "flex_flow": null,
            "grid_area": null,
            "grid_auto_columns": null,
            "grid_auto_flow": null,
            "grid_auto_rows": null,
            "grid_column": null,
            "grid_gap": null,
            "grid_row": null,
            "grid_template_areas": null,
            "grid_template_columns": null,
            "grid_template_rows": null,
            "height": null,
            "justify_content": null,
            "justify_items": null,
            "left": null,
            "margin": null,
            "max_height": null,
            "max_width": null,
            "min_height": null,
            "min_width": null,
            "object_fit": null,
            "object_position": null,
            "order": null,
            "overflow": null,
            "overflow_x": null,
            "overflow_y": null,
            "padding": null,
            "right": null,
            "top": null,
            "visibility": null,
            "width": null
          }
        },
        "66b2f644d74a42239dce9c530d80390f": {
          "model_module": "@jupyter-widgets/controls",
          "model_name": "DescriptionStyleModel",
          "model_module_version": "1.5.0",
          "state": {
            "_model_module": "@jupyter-widgets/controls",
            "_model_module_version": "1.5.0",
            "_model_name": "DescriptionStyleModel",
            "_view_count": null,
            "_view_module": "@jupyter-widgets/base",
            "_view_module_version": "1.2.0",
            "_view_name": "StyleView",
            "description_width": ""
          }
        },
        "e0123f8bf5e04a0bbdfdbcdcc2973d6e": {
          "model_module": "@jupyter-widgets/controls",
          "model_name": "HBoxModel",
          "model_module_version": "1.5.0",
          "state": {
            "_dom_classes": [],
            "_model_module": "@jupyter-widgets/controls",
            "_model_module_version": "1.5.0",
            "_model_name": "HBoxModel",
            "_view_count": null,
            "_view_module": "@jupyter-widgets/controls",
            "_view_module_version": "1.5.0",
            "_view_name": "HBoxView",
            "box_style": "",
            "children": [
              "IPY_MODEL_19b5c89075224119906ec584372225ef",
              "IPY_MODEL_7b7cee815e674c42b18039a21852c4c7",
              "IPY_MODEL_bec28c06a39344359397e375968ff730"
            ],
            "layout": "IPY_MODEL_e14d9427e48746d7b59d906df5256030"
          }
        },
        "19b5c89075224119906ec584372225ef": {
          "model_module": "@jupyter-widgets/controls",
          "model_name": "HTMLModel",
          "model_module_version": "1.5.0",
          "state": {
            "_dom_classes": [],
            "_model_module": "@jupyter-widgets/controls",
            "_model_module_version": "1.5.0",
            "_model_name": "HTMLModel",
            "_view_count": null,
            "_view_module": "@jupyter-widgets/controls",
            "_view_module_version": "1.5.0",
            "_view_name": "HTMLView",
            "description": "",
            "description_tooltip": null,
            "layout": "IPY_MODEL_1487798ac9fe411282b8ee6a46548340",
            "placeholder": "​",
            "style": "IPY_MODEL_07de454d05d64f57bee8425b46779917",
            "value": "special_tokens_map.json: 100%"
          }
        },
        "7b7cee815e674c42b18039a21852c4c7": {
          "model_module": "@jupyter-widgets/controls",
          "model_name": "FloatProgressModel",
          "model_module_version": "1.5.0",
          "state": {
            "_dom_classes": [],
            "_model_module": "@jupyter-widgets/controls",
            "_model_module_version": "1.5.0",
            "_model_name": "FloatProgressModel",
            "_view_count": null,
            "_view_module": "@jupyter-widgets/controls",
            "_view_module_version": "1.5.0",
            "_view_name": "ProgressView",
            "bar_style": "success",
            "description": "",
            "description_tooltip": null,
            "layout": "IPY_MODEL_c18e13c6d4474d6e854d442706620b3e",
            "max": 239,
            "min": 0,
            "orientation": "horizontal",
            "style": "IPY_MODEL_68dfa27769594115af6c692ebe8c1f29",
            "value": 239
          }
        },
        "bec28c06a39344359397e375968ff730": {
          "model_module": "@jupyter-widgets/controls",
          "model_name": "HTMLModel",
          "model_module_version": "1.5.0",
          "state": {
            "_dom_classes": [],
            "_model_module": "@jupyter-widgets/controls",
            "_model_module_version": "1.5.0",
            "_model_name": "HTMLModel",
            "_view_count": null,
            "_view_module": "@jupyter-widgets/controls",
            "_view_module_version": "1.5.0",
            "_view_name": "HTMLView",
            "description": "",
            "description_tooltip": null,
            "layout": "IPY_MODEL_f3669f08239042caa92f0849c45ac76a",
            "placeholder": "​",
            "style": "IPY_MODEL_70671abdabe340f39f05144e3eb7d183",
            "value": " 239/239 [00:00&lt;00:00, 16.3kB/s]"
          }
        },
        "e14d9427e48746d7b59d906df5256030": {
          "model_module": "@jupyter-widgets/base",
          "model_name": "LayoutModel",
          "model_module_version": "1.2.0",
          "state": {
            "_model_module": "@jupyter-widgets/base",
            "_model_module_version": "1.2.0",
            "_model_name": "LayoutModel",
            "_view_count": null,
            "_view_module": "@jupyter-widgets/base",
            "_view_module_version": "1.2.0",
            "_view_name": "LayoutView",
            "align_content": null,
            "align_items": null,
            "align_self": null,
            "border": null,
            "bottom": null,
            "display": null,
            "flex": null,
            "flex_flow": null,
            "grid_area": null,
            "grid_auto_columns": null,
            "grid_auto_flow": null,
            "grid_auto_rows": null,
            "grid_column": null,
            "grid_gap": null,
            "grid_row": null,
            "grid_template_areas": null,
            "grid_template_columns": null,
            "grid_template_rows": null,
            "height": null,
            "justify_content": null,
            "justify_items": null,
            "left": null,
            "margin": null,
            "max_height": null,
            "max_width": null,
            "min_height": null,
            "min_width": null,
            "object_fit": null,
            "object_position": null,
            "order": null,
            "overflow": null,
            "overflow_x": null,
            "overflow_y": null,
            "padding": null,
            "right": null,
            "top": null,
            "visibility": null,
            "width": null
          }
        },
        "1487798ac9fe411282b8ee6a46548340": {
          "model_module": "@jupyter-widgets/base",
          "model_name": "LayoutModel",
          "model_module_version": "1.2.0",
          "state": {
            "_model_module": "@jupyter-widgets/base",
            "_model_module_version": "1.2.0",
            "_model_name": "LayoutModel",
            "_view_count": null,
            "_view_module": "@jupyter-widgets/base",
            "_view_module_version": "1.2.0",
            "_view_name": "LayoutView",
            "align_content": null,
            "align_items": null,
            "align_self": null,
            "border": null,
            "bottom": null,
            "display": null,
            "flex": null,
            "flex_flow": null,
            "grid_area": null,
            "grid_auto_columns": null,
            "grid_auto_flow": null,
            "grid_auto_rows": null,
            "grid_column": null,
            "grid_gap": null,
            "grid_row": null,
            "grid_template_areas": null,
            "grid_template_columns": null,
            "grid_template_rows": null,
            "height": null,
            "justify_content": null,
            "justify_items": null,
            "left": null,
            "margin": null,
            "max_height": null,
            "max_width": null,
            "min_height": null,
            "min_width": null,
            "object_fit": null,
            "object_position": null,
            "order": null,
            "overflow": null,
            "overflow_x": null,
            "overflow_y": null,
            "padding": null,
            "right": null,
            "top": null,
            "visibility": null,
            "width": null
          }
        },
        "07de454d05d64f57bee8425b46779917": {
          "model_module": "@jupyter-widgets/controls",
          "model_name": "DescriptionStyleModel",
          "model_module_version": "1.5.0",
          "state": {
            "_model_module": "@jupyter-widgets/controls",
            "_model_module_version": "1.5.0",
            "_model_name": "DescriptionStyleModel",
            "_view_count": null,
            "_view_module": "@jupyter-widgets/base",
            "_view_module_version": "1.2.0",
            "_view_name": "StyleView",
            "description_width": ""
          }
        },
        "c18e13c6d4474d6e854d442706620b3e": {
          "model_module": "@jupyter-widgets/base",
          "model_name": "LayoutModel",
          "model_module_version": "1.2.0",
          "state": {
            "_model_module": "@jupyter-widgets/base",
            "_model_module_version": "1.2.0",
            "_model_name": "LayoutModel",
            "_view_count": null,
            "_view_module": "@jupyter-widgets/base",
            "_view_module_version": "1.2.0",
            "_view_name": "LayoutView",
            "align_content": null,
            "align_items": null,
            "align_self": null,
            "border": null,
            "bottom": null,
            "display": null,
            "flex": null,
            "flex_flow": null,
            "grid_area": null,
            "grid_auto_columns": null,
            "grid_auto_flow": null,
            "grid_auto_rows": null,
            "grid_column": null,
            "grid_gap": null,
            "grid_row": null,
            "grid_template_areas": null,
            "grid_template_columns": null,
            "grid_template_rows": null,
            "height": null,
            "justify_content": null,
            "justify_items": null,
            "left": null,
            "margin": null,
            "max_height": null,
            "max_width": null,
            "min_height": null,
            "min_width": null,
            "object_fit": null,
            "object_position": null,
            "order": null,
            "overflow": null,
            "overflow_x": null,
            "overflow_y": null,
            "padding": null,
            "right": null,
            "top": null,
            "visibility": null,
            "width": null
          }
        },
        "68dfa27769594115af6c692ebe8c1f29": {
          "model_module": "@jupyter-widgets/controls",
          "model_name": "ProgressStyleModel",
          "model_module_version": "1.5.0",
          "state": {
            "_model_module": "@jupyter-widgets/controls",
            "_model_module_version": "1.5.0",
            "_model_name": "ProgressStyleModel",
            "_view_count": null,
            "_view_module": "@jupyter-widgets/base",
            "_view_module_version": "1.2.0",
            "_view_name": "StyleView",
            "bar_color": null,
            "description_width": ""
          }
        },
        "f3669f08239042caa92f0849c45ac76a": {
          "model_module": "@jupyter-widgets/base",
          "model_name": "LayoutModel",
          "model_module_version": "1.2.0",
          "state": {
            "_model_module": "@jupyter-widgets/base",
            "_model_module_version": "1.2.0",
            "_model_name": "LayoutModel",
            "_view_count": null,
            "_view_module": "@jupyter-widgets/base",
            "_view_module_version": "1.2.0",
            "_view_name": "LayoutView",
            "align_content": null,
            "align_items": null,
            "align_self": null,
            "border": null,
            "bottom": null,
            "display": null,
            "flex": null,
            "flex_flow": null,
            "grid_area": null,
            "grid_auto_columns": null,
            "grid_auto_flow": null,
            "grid_auto_rows": null,
            "grid_column": null,
            "grid_gap": null,
            "grid_row": null,
            "grid_template_areas": null,
            "grid_template_columns": null,
            "grid_template_rows": null,
            "height": null,
            "justify_content": null,
            "justify_items": null,
            "left": null,
            "margin": null,
            "max_height": null,
            "max_width": null,
            "min_height": null,
            "min_width": null,
            "object_fit": null,
            "object_position": null,
            "order": null,
            "overflow": null,
            "overflow_x": null,
            "overflow_y": null,
            "padding": null,
            "right": null,
            "top": null,
            "visibility": null,
            "width": null
          }
        },
        "70671abdabe340f39f05144e3eb7d183": {
          "model_module": "@jupyter-widgets/controls",
          "model_name": "DescriptionStyleModel",
          "model_module_version": "1.5.0",
          "state": {
            "_model_module": "@jupyter-widgets/controls",
            "_model_module_version": "1.5.0",
            "_model_name": "DescriptionStyleModel",
            "_view_count": null,
            "_view_module": "@jupyter-widgets/base",
            "_view_module_version": "1.2.0",
            "_view_name": "StyleView",
            "description_width": ""
          }
        }
      }
    }
  },
  "nbformat": 4,
  "nbformat_minor": 5
}